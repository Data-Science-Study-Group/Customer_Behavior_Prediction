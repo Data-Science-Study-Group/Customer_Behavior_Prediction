{
 "cells": [
  {
   "cell_type": "code",
   "execution_count": 214,
   "metadata": {},
   "outputs": [],
   "source": [
    "from IPython.display import HTML\n",
    "from IPython.display import Image\n",
    "import warnings\n",
    "warnings.filterwarnings(\"ignore\")"
   ]
  },
  {
   "cell_type": "markdown",
   "metadata": {},
   "source": [
    "<img src='grocery_store_image1.jpg' width=\"700\" height=\"300\" align=\"center\">"
   ]
  },
  {
   "cell_type": "markdown",
   "metadata": {},
   "source": [
    "### Customer Purchasing Behavior"
   ]
  },
  {
   "cell_type": "code",
   "execution_count": 215,
   "metadata": {},
   "outputs": [
    {
     "data": {
      "text/html": [
       "<script>\n",
       "  function code_toggle() {\n",
       "    if (code_shown){\n",
       "      $('div.input').hide('500');\n",
       "      $('#toggleButton').val('Show Code')\n",
       "    } else {\n",
       "      $('div.input').show('500');\n",
       "      $('#toggleButton').val('Hide Code')\n",
       "    }\n",
       "    code_shown = !code_shown\n",
       "  }\n",
       "\n",
       "  $( document ).ready(function(){\n",
       "    code_shown=false;\n",
       "    $('div.input').hide()\n",
       "  });\n",
       "</script>\n",
       "<form action=\"javascript:code_toggle()\"><input type=\"submit\" id=\"toggleButton\" value=\"Show Code\"></form>"
      ],
      "text/plain": [
       "<IPython.core.display.HTML object>"
      ]
     },
     "execution_count": 215,
     "metadata": {},
     "output_type": "execute_result"
    }
   ],
   "source": [
    "HTML('''<script>\n",
    "  function code_toggle() {\n",
    "    if (code_shown){\n",
    "      $('div.input').hide('500');\n",
    "      $('#toggleButton').val('Show Code')\n",
    "    } else {\n",
    "      $('div.input').show('500');\n",
    "      $('#toggleButton').val('Hide Code')\n",
    "    }\n",
    "    code_shown = !code_shown\n",
    "  }\n",
    "\n",
    "  $( document ).ready(function(){\n",
    "    code_shown=false;\n",
    "    $('div.input').hide()\n",
    "  });\n",
    "</script>\n",
    "<form action=\"javascript:code_toggle()\"><input type=\"submit\" id=\"toggleButton\" value=\"Show Code\"></form>''')"
   ]
  },
  {
   "cell_type": "markdown",
   "metadata": {},
   "source": [
    "\n",
    "\n",
    "**By: Pieter Leffers**\n",
    "\n",
    "Starting Date: June 7, 2019\n",
    "\n",
    "Completion Date: \n",
    "\n",
    "Last Updated: \n"
   ]
  },
  {
   "cell_type": "markdown",
   "metadata": {},
   "source": [
    "\n",
    "Project Description\n",
    "---"
   ]
  },
  {
   "cell_type": "markdown",
   "metadata": {},
   "source": [
    "### The Ta Feng Grocery Dataset\n",
    "\n",
    "The Ta Feng Dataset is a Supermarket Dataset containining 817741 transactions from November 2000 until the end of February 2001. The dataset contains information about 119578 shopping baskets, belonging to 32266 users, where 1129939 items were purchased from a range of 23812 products.\n",
    "\n",
    "Column definition: Transaction date and time (no timestamp), Customer ID, Age Group, PIN Code, Product subclass, Product ID, Amount, Asset, Sales price\n",
    "\n",
    "\n",
    "Fields of the Dataset are:\n",
    "- Transaction date and time (time invalid and useless)\n",
    "- Customer ID\n",
    "- Age: 10 possible values\n",
    "- Residence Area: 8 possible values\n",
    "- Product subclass\n",
    "- Product ID\n",
    "- Amount\n",
    "- Asset\n",
    "- Sales price\n",
    "\n",
    "https://www.kaggle.com/chiranjivdas09/ta-feng-grocery-dataset\n",
    "https://rpubs.com/dmormandy/TaFengGrocery\n",
    "\n",
    "https://krannert.purdue.edu/masters/programs/business-analytics-and-information-management/experiential-learning/2018/a-solution-to-forecast-demand-using-long-short-term-memory-recurrent-neural-networks-for-time-series-forecasting.php"
   ]
  },
  {
   "cell_type": "code",
   "execution_count": 1,
   "metadata": {},
   "outputs": [],
   "source": [
    "import pandas as pd\n",
    "import numpy as np\n",
    "import pickle\n",
    "from datetime import date\n",
    "import datetime as dt\n",
    "import struct\n",
    "import warnings\n",
    "import seaborn as sns\n",
    "import matplotlib.pyplot as plt\n",
    "\n",
    "warnings.filterwarnings(\"ignore\")"
   ]
  },
  {
   "cell_type": "code",
   "execution_count": 2,
   "metadata": {},
   "outputs": [],
   "source": [
    "col_names=['transaction_dt', 'customer_id', 'age_group', 'pin_code', 'product_subclass', 'product_id','amount','asset','sales_price']"
   ]
  },
  {
   "cell_type": "markdown",
   "metadata": {},
   "source": [
    "November dataset"
   ]
  },
  {
   "cell_type": "code",
   "execution_count": 3,
   "metadata": {
    "scrolled": true
   },
   "outputs": [
    {
     "data": {
      "text/html": [
       "<div>\n",
       "<style scoped>\n",
       "    .dataframe tbody tr th:only-of-type {\n",
       "        vertical-align: middle;\n",
       "    }\n",
       "\n",
       "    .dataframe tbody tr th {\n",
       "        vertical-align: top;\n",
       "    }\n",
       "\n",
       "    .dataframe thead th {\n",
       "        text-align: right;\n",
       "    }\n",
       "</style>\n",
       "<table border=\"1\" class=\"dataframe\">\n",
       "  <thead>\n",
       "    <tr style=\"text-align: right;\">\n",
       "      <th></th>\n",
       "      <th>transaction_dt</th>\n",
       "      <th>customer_id</th>\n",
       "      <th>age_group</th>\n",
       "      <th>pin_code</th>\n",
       "      <th>product_subclass</th>\n",
       "      <th>product_id</th>\n",
       "      <th>amount</th>\n",
       "      <th>asset</th>\n",
       "      <th>sales_price</th>\n",
       "    </tr>\n",
       "  </thead>\n",
       "  <tbody>\n",
       "    <tr>\n",
       "      <th>1</th>\n",
       "      <td>2000-11-01</td>\n",
       "      <td>00046855</td>\n",
       "      <td>D</td>\n",
       "      <td>E</td>\n",
       "      <td>110411</td>\n",
       "      <td>4710085120468</td>\n",
       "      <td>3</td>\n",
       "      <td>51</td>\n",
       "      <td>57</td>\n",
       "    </tr>\n",
       "    <tr>\n",
       "      <th>2</th>\n",
       "      <td>2000-11-01</td>\n",
       "      <td>00539166</td>\n",
       "      <td>E</td>\n",
       "      <td>E</td>\n",
       "      <td>130315</td>\n",
       "      <td>4714981010038</td>\n",
       "      <td>2</td>\n",
       "      <td>56</td>\n",
       "      <td>48</td>\n",
       "    </tr>\n",
       "    <tr>\n",
       "      <th>3</th>\n",
       "      <td>2000-11-01</td>\n",
       "      <td>00663373</td>\n",
       "      <td>F</td>\n",
       "      <td>E</td>\n",
       "      <td>110217</td>\n",
       "      <td>4710265847666</td>\n",
       "      <td>1</td>\n",
       "      <td>180</td>\n",
       "      <td>135</td>\n",
       "    </tr>\n",
       "  </tbody>\n",
       "</table>\n",
       "</div>"
      ],
      "text/plain": [
       "  transaction_dt customer_id age_group pin_code product_subclass  \\\n",
       "1     2000-11-01    00046855         D        E           110411   \n",
       "2     2000-11-01    00539166         E        E           130315   \n",
       "3     2000-11-01    00663373         F        E           110217   \n",
       "\n",
       "      product_id amount asset sales_price  \n",
       "1  4710085120468      3    51          57  \n",
       "2  4714981010038      2    56          48  \n",
       "3  4710265847666      1   180         135  "
      ]
     },
     "execution_count": 3,
     "metadata": {},
     "output_type": "execute_result"
    }
   ],
   "source": [
    "November_2000=pd.read_csv('D11',sep=';',names=col_names, encoding = 'ISO-8859-1',low_memory=False)\n",
    "November_2000=November_2000.drop(November_2000.index[0])\n",
    "November_2000['transaction_dt'] = pd.to_datetime(November_2000['transaction_dt'])\n",
    "November_2000['age_group'] = November_2000['age_group'].str.strip()\n",
    "November_2000['pin_code'] = November_2000['pin_code'].str.strip()\n",
    "November_2000['customer_id'] = November_2000['customer_id'].str.strip()\n",
    "November_2000.head(3)"
   ]
  },
  {
   "cell_type": "markdown",
   "metadata": {},
   "source": [
    "December dataset"
   ]
  },
  {
   "cell_type": "code",
   "execution_count": 4,
   "metadata": {},
   "outputs": [
    {
     "data": {
      "text/html": [
       "<div>\n",
       "<style scoped>\n",
       "    .dataframe tbody tr th:only-of-type {\n",
       "        vertical-align: middle;\n",
       "    }\n",
       "\n",
       "    .dataframe tbody tr th {\n",
       "        vertical-align: top;\n",
       "    }\n",
       "\n",
       "    .dataframe thead th {\n",
       "        text-align: right;\n",
       "    }\n",
       "</style>\n",
       "<table border=\"1\" class=\"dataframe\">\n",
       "  <thead>\n",
       "    <tr style=\"text-align: right;\">\n",
       "      <th></th>\n",
       "      <th>transaction_dt</th>\n",
       "      <th>customer_id</th>\n",
       "      <th>age_group</th>\n",
       "      <th>pin_code</th>\n",
       "      <th>product_subclass</th>\n",
       "      <th>product_id</th>\n",
       "      <th>amount</th>\n",
       "      <th>asset</th>\n",
       "      <th>sales_price</th>\n",
       "    </tr>\n",
       "  </thead>\n",
       "  <tbody>\n",
       "    <tr>\n",
       "      <th>1</th>\n",
       "      <td>2000-12-01</td>\n",
       "      <td>00207423</td>\n",
       "      <td>C</td>\n",
       "      <td>E</td>\n",
       "      <td>530101</td>\n",
       "      <td>4710054134403</td>\n",
       "      <td>1</td>\n",
       "      <td>92</td>\n",
       "      <td>99</td>\n",
       "    </tr>\n",
       "    <tr>\n",
       "      <th>2</th>\n",
       "      <td>2000-12-01</td>\n",
       "      <td>00329002</td>\n",
       "      <td>F</td>\n",
       "      <td>E</td>\n",
       "      <td>590514</td>\n",
       "      <td>4710049000973</td>\n",
       "      <td>1</td>\n",
       "      <td>41</td>\n",
       "      <td>49</td>\n",
       "    </tr>\n",
       "    <tr>\n",
       "      <th>3</th>\n",
       "      <td>2000-12-01</td>\n",
       "      <td>01657951</td>\n",
       "      <td>E</td>\n",
       "      <td>E</td>\n",
       "      <td>120103</td>\n",
       "      <td>4710011401135</td>\n",
       "      <td>1</td>\n",
       "      <td>23</td>\n",
       "      <td>29</td>\n",
       "    </tr>\n",
       "  </tbody>\n",
       "</table>\n",
       "</div>"
      ],
      "text/plain": [
       "  transaction_dt customer_id age_group pin_code product_subclass  \\\n",
       "1     2000-12-01    00207423         C        E           530101   \n",
       "2     2000-12-01    00329002         F        E           590514   \n",
       "3     2000-12-01    01657951         E        E           120103   \n",
       "\n",
       "      product_id amount asset sales_price  \n",
       "1  4710054134403      1    92          99  \n",
       "2  4710049000973      1    41          49  \n",
       "3  4710011401135      1    23          29  "
      ]
     },
     "execution_count": 4,
     "metadata": {},
     "output_type": "execute_result"
    }
   ],
   "source": [
    "December_2000=pd.read_csv('D12',sep=';',names=col_names, encoding = 'ISO-8859-1',low_memory=False)\n",
    "December_2000=December_2000.drop(December_2000.index[0])\n",
    "December_2000['transaction_dt'] = pd.to_datetime(December_2000['transaction_dt'])\n",
    "December_2000['age_group'] = December_2000['age_group'].str.strip()\n",
    "December_2000['pin_code'] = December_2000['pin_code'].str.strip()\n",
    "December_2000['customer_id'] = December_2000['customer_id'].str.strip()\n",
    "December_2000.head(3)"
   ]
  },
  {
   "cell_type": "markdown",
   "metadata": {},
   "source": [
    "January dataset"
   ]
  },
  {
   "cell_type": "code",
   "execution_count": 5,
   "metadata": {},
   "outputs": [
    {
     "data": {
      "text/html": [
       "<div>\n",
       "<style scoped>\n",
       "    .dataframe tbody tr th:only-of-type {\n",
       "        vertical-align: middle;\n",
       "    }\n",
       "\n",
       "    .dataframe tbody tr th {\n",
       "        vertical-align: top;\n",
       "    }\n",
       "\n",
       "    .dataframe thead th {\n",
       "        text-align: right;\n",
       "    }\n",
       "</style>\n",
       "<table border=\"1\" class=\"dataframe\">\n",
       "  <thead>\n",
       "    <tr style=\"text-align: right;\">\n",
       "      <th></th>\n",
       "      <th>transaction_dt</th>\n",
       "      <th>customer_id</th>\n",
       "      <th>age_group</th>\n",
       "      <th>pin_code</th>\n",
       "      <th>product_subclass</th>\n",
       "      <th>product_id</th>\n",
       "      <th>amount</th>\n",
       "      <th>asset</th>\n",
       "      <th>sales_price</th>\n",
       "    </tr>\n",
       "  </thead>\n",
       "  <tbody>\n",
       "    <tr>\n",
       "      <th>1</th>\n",
       "      <td>2001-01-01</td>\n",
       "      <td>00141833</td>\n",
       "      <td>F</td>\n",
       "      <td>F</td>\n",
       "      <td>130207</td>\n",
       "      <td>4710105011011</td>\n",
       "      <td>2</td>\n",
       "      <td>44</td>\n",
       "      <td>52</td>\n",
       "    </tr>\n",
       "    <tr>\n",
       "      <th>2</th>\n",
       "      <td>2001-01-01</td>\n",
       "      <td>01376753</td>\n",
       "      <td>E</td>\n",
       "      <td>E</td>\n",
       "      <td>110217</td>\n",
       "      <td>4710265849066</td>\n",
       "      <td>1</td>\n",
       "      <td>150</td>\n",
       "      <td>129</td>\n",
       "    </tr>\n",
       "    <tr>\n",
       "      <th>3</th>\n",
       "      <td>2001-01-01</td>\n",
       "      <td>01603071</td>\n",
       "      <td>E</td>\n",
       "      <td>G</td>\n",
       "      <td>100201</td>\n",
       "      <td>4712019100607</td>\n",
       "      <td>1</td>\n",
       "      <td>35</td>\n",
       "      <td>39</td>\n",
       "    </tr>\n",
       "  </tbody>\n",
       "</table>\n",
       "</div>"
      ],
      "text/plain": [
       "  transaction_dt customer_id age_group pin_code product_subclass  \\\n",
       "1     2001-01-01    00141833         F        F           130207   \n",
       "2     2001-01-01    01376753         E        E           110217   \n",
       "3     2001-01-01    01603071         E        G           100201   \n",
       "\n",
       "      product_id amount asset sales_price  \n",
       "1  4710105011011      2    44          52  \n",
       "2  4710265849066      1   150         129  \n",
       "3  4712019100607      1    35          39  "
      ]
     },
     "execution_count": 5,
     "metadata": {},
     "output_type": "execute_result"
    }
   ],
   "source": [
    "January_2001=pd.read_csv('D01',sep=';',names=col_names, encoding = 'ISO-8859-1',low_memory=False)\n",
    "January_2001=January_2001.drop(January_2001.index[0])\n",
    "January_2001['transaction_dt'] = pd.to_datetime(January_2001['transaction_dt'])\n",
    "January_2001['age_group'] = January_2001['age_group'].str.strip()\n",
    "January_2001['pin_code'] = January_2001['pin_code'].str.strip()\n",
    "January_2001['customer_id'] = January_2001['customer_id'].str.strip()\n",
    "January_2001.head(3)"
   ]
  },
  {
   "cell_type": "markdown",
   "metadata": {},
   "source": [
    "February dataset"
   ]
  },
  {
   "cell_type": "code",
   "execution_count": 6,
   "metadata": {},
   "outputs": [
    {
     "data": {
      "text/html": [
       "<div>\n",
       "<style scoped>\n",
       "    .dataframe tbody tr th:only-of-type {\n",
       "        vertical-align: middle;\n",
       "    }\n",
       "\n",
       "    .dataframe tbody tr th {\n",
       "        vertical-align: top;\n",
       "    }\n",
       "\n",
       "    .dataframe thead th {\n",
       "        text-align: right;\n",
       "    }\n",
       "</style>\n",
       "<table border=\"1\" class=\"dataframe\">\n",
       "  <thead>\n",
       "    <tr style=\"text-align: right;\">\n",
       "      <th></th>\n",
       "      <th>transaction_dt</th>\n",
       "      <th>customer_id</th>\n",
       "      <th>age_group</th>\n",
       "      <th>pin_code</th>\n",
       "      <th>product_subclass</th>\n",
       "      <th>product_id</th>\n",
       "      <th>amount</th>\n",
       "      <th>asset</th>\n",
       "      <th>sales_price</th>\n",
       "    </tr>\n",
       "  </thead>\n",
       "  <tbody>\n",
       "    <tr>\n",
       "      <th>1</th>\n",
       "      <td>2001-02-01</td>\n",
       "      <td>00557818</td>\n",
       "      <td>H</td>\n",
       "      <td>E</td>\n",
       "      <td>500210</td>\n",
       "      <td>4710114105046</td>\n",
       "      <td>1</td>\n",
       "      <td>123</td>\n",
       "      <td>135</td>\n",
       "    </tr>\n",
       "    <tr>\n",
       "      <th>2</th>\n",
       "      <td>2001-02-01</td>\n",
       "      <td>01677683</td>\n",
       "      <td>C</td>\n",
       "      <td>B</td>\n",
       "      <td>711310</td>\n",
       "      <td>4902520163103</td>\n",
       "      <td>6</td>\n",
       "      <td>840</td>\n",
       "      <td>894</td>\n",
       "    </tr>\n",
       "    <tr>\n",
       "      <th>3</th>\n",
       "      <td>2001-02-01</td>\n",
       "      <td>01900910</td>\n",
       "      <td>A</td>\n",
       "      <td>D</td>\n",
       "      <td>500206</td>\n",
       "      <td>4710036003598</td>\n",
       "      <td>1</td>\n",
       "      <td>26</td>\n",
       "      <td>33</td>\n",
       "    </tr>\n",
       "  </tbody>\n",
       "</table>\n",
       "</div>"
      ],
      "text/plain": [
       "  transaction_dt customer_id age_group pin_code product_subclass  \\\n",
       "1     2001-02-01    00557818         H        E           500210   \n",
       "2     2001-02-01    01677683         C        B           711310   \n",
       "3     2001-02-01    01900910         A        D           500206   \n",
       "\n",
       "      product_id amount asset sales_price  \n",
       "1  4710114105046      1   123         135  \n",
       "2  4902520163103      6   840         894  \n",
       "3  4710036003598      1    26          33  "
      ]
     },
     "execution_count": 6,
     "metadata": {},
     "output_type": "execute_result"
    }
   ],
   "source": [
    "February_2001=pd.read_csv('D02',sep=';',names=col_names, encoding = 'ISO-8859-1',low_memory=False)\n",
    "February_2001=February_2001.drop(February_2001.index[0])\n",
    "February_2001['transaction_dt'] = pd.to_datetime(February_2001['transaction_dt'])\n",
    "February_2001['age_group'] = February_2001['age_group'].str.strip()\n",
    "February_2001['pin_code'] = February_2001['pin_code'].str.strip()\n",
    "February_2001['customer_id'] = February_2001['customer_id'].str.strip()\n",
    "February_2001.head(3)"
   ]
  },
  {
   "cell_type": "markdown",
   "metadata": {},
   "source": [
    "_______________________"
   ]
  },
  {
   "cell_type": "markdown",
   "metadata": {},
   "source": [
    "Combine the Datasets\n",
    "----"
   ]
  },
  {
   "cell_type": "code",
   "execution_count": 7,
   "metadata": {},
   "outputs": [],
   "source": [
    "age_dict_class = {'A':'<25', 'B':'25-29', 'C':'30-34', 'D':'35-39', 'E':'40-44', \\\n",
    "        'F':'45-49', 'G':'50-54', 'H':'55-59', 'I':'60-64', 'J':'+65', 'K':'unknown'}\n",
    "\n",
    "age_dict_int = {'A':1, 'B':2, 'C':3, 'D':4, 'E':5, \\\n",
    "        'F':6, 'G':7, 'H':8, 'I':9, 'J':10, 'K':11}\n",
    "\n",
    "pin_code_dict_int = {'A':1, 'B':2, 'C':3, 'D':4, 'E':5, \\\n",
    "        'F':6, 'G':7, 'H':8}"
   ]
  },
  {
   "cell_type": "code",
   "execution_count": 8,
   "metadata": {},
   "outputs": [],
   "source": [
    "total_set=November_2000.append(December_2000).append(January_2001).append(February_2001)\n",
    "total_set['age_label'] = total_set['age_group'].apply(lambda x: age_dict_class[x])\n",
    "total_set['age_int'] = total_set['age_group'].apply(lambda x: age_dict_int[x])\n",
    "total_set['pin_code_int'] = total_set['pin_code'].apply(lambda x: pin_code_dict_int[x])"
   ]
  },
  {
   "cell_type": "code",
   "execution_count": 9,
   "metadata": {},
   "outputs": [
    {
     "data": {
      "text/html": [
       "<div>\n",
       "<style scoped>\n",
       "    .dataframe tbody tr th:only-of-type {\n",
       "        vertical-align: middle;\n",
       "    }\n",
       "\n",
       "    .dataframe tbody tr th {\n",
       "        vertical-align: top;\n",
       "    }\n",
       "\n",
       "    .dataframe thead th {\n",
       "        text-align: right;\n",
       "    }\n",
       "</style>\n",
       "<table border=\"1\" class=\"dataframe\">\n",
       "  <thead>\n",
       "    <tr style=\"text-align: right;\">\n",
       "      <th></th>\n",
       "      <th>transaction_dt</th>\n",
       "      <th>customer_id</th>\n",
       "      <th>age_group</th>\n",
       "      <th>pin_code</th>\n",
       "      <th>product_subclass</th>\n",
       "      <th>product_id</th>\n",
       "      <th>amount</th>\n",
       "      <th>asset</th>\n",
       "      <th>sales_price</th>\n",
       "      <th>age_label</th>\n",
       "      <th>age_int</th>\n",
       "      <th>pin_code_int</th>\n",
       "    </tr>\n",
       "  </thead>\n",
       "  <tbody>\n",
       "    <tr>\n",
       "      <th>1</th>\n",
       "      <td>2000-11-01</td>\n",
       "      <td>00046855</td>\n",
       "      <td>D</td>\n",
       "      <td>E</td>\n",
       "      <td>110411</td>\n",
       "      <td>4710085120468</td>\n",
       "      <td>3</td>\n",
       "      <td>51</td>\n",
       "      <td>57</td>\n",
       "      <td>35-39</td>\n",
       "      <td>4</td>\n",
       "      <td>5</td>\n",
       "    </tr>\n",
       "    <tr>\n",
       "      <th>2</th>\n",
       "      <td>2000-11-01</td>\n",
       "      <td>00539166</td>\n",
       "      <td>E</td>\n",
       "      <td>E</td>\n",
       "      <td>130315</td>\n",
       "      <td>4714981010038</td>\n",
       "      <td>2</td>\n",
       "      <td>56</td>\n",
       "      <td>48</td>\n",
       "      <td>40-44</td>\n",
       "      <td>5</td>\n",
       "      <td>5</td>\n",
       "    </tr>\n",
       "    <tr>\n",
       "      <th>3</th>\n",
       "      <td>2000-11-01</td>\n",
       "      <td>00663373</td>\n",
       "      <td>F</td>\n",
       "      <td>E</td>\n",
       "      <td>110217</td>\n",
       "      <td>4710265847666</td>\n",
       "      <td>1</td>\n",
       "      <td>180</td>\n",
       "      <td>135</td>\n",
       "      <td>45-49</td>\n",
       "      <td>6</td>\n",
       "      <td>5</td>\n",
       "    </tr>\n",
       "    <tr>\n",
       "      <th>4</th>\n",
       "      <td>2000-11-01</td>\n",
       "      <td>00340625</td>\n",
       "      <td>A</td>\n",
       "      <td>E</td>\n",
       "      <td>110411</td>\n",
       "      <td>4710085120697</td>\n",
       "      <td>1</td>\n",
       "      <td>17</td>\n",
       "      <td>24</td>\n",
       "      <td>&lt;25</td>\n",
       "      <td>1</td>\n",
       "      <td>5</td>\n",
       "    </tr>\n",
       "    <tr>\n",
       "      <th>5</th>\n",
       "      <td>2000-11-01</td>\n",
       "      <td>00236645</td>\n",
       "      <td>D</td>\n",
       "      <td>H</td>\n",
       "      <td>712901</td>\n",
       "      <td>8999002568972</td>\n",
       "      <td>2</td>\n",
       "      <td>128</td>\n",
       "      <td>170</td>\n",
       "      <td>35-39</td>\n",
       "      <td>4</td>\n",
       "      <td>8</td>\n",
       "    </tr>\n",
       "  </tbody>\n",
       "</table>\n",
       "</div>"
      ],
      "text/plain": [
       "  transaction_dt customer_id age_group pin_code product_subclass  \\\n",
       "1     2000-11-01    00046855         D        E           110411   \n",
       "2     2000-11-01    00539166         E        E           130315   \n",
       "3     2000-11-01    00663373         F        E           110217   \n",
       "4     2000-11-01    00340625         A        E           110411   \n",
       "5     2000-11-01    00236645         D        H           712901   \n",
       "\n",
       "      product_id amount asset sales_price age_label  age_int  pin_code_int  \n",
       "1  4710085120468      3    51          57     35-39        4             5  \n",
       "2  4714981010038      2    56          48     40-44        5             5  \n",
       "3  4710265847666      1   180         135     45-49        6             5  \n",
       "4  4710085120697      1    17          24       <25        1             5  \n",
       "5  8999002568972      2   128         170     35-39        4             8  "
      ]
     },
     "execution_count": 9,
     "metadata": {},
     "output_type": "execute_result"
    }
   ],
   "source": [
    "total_set.head()"
   ]
  },
  {
   "cell_type": "markdown",
   "metadata": {},
   "source": [
    "Sort by Date"
   ]
  },
  {
   "cell_type": "code",
   "execution_count": 10,
   "metadata": {},
   "outputs": [],
   "source": [
    "total_set=total_set.sort_values(by=['customer_id','transaction_dt'])\n",
    "total_set=total_set.reset_index(drop=True)"
   ]
  },
  {
   "cell_type": "code",
   "execution_count": 11,
   "metadata": {},
   "outputs": [
    {
     "data": {
      "text/html": [
       "<div>\n",
       "<style scoped>\n",
       "    .dataframe tbody tr th:only-of-type {\n",
       "        vertical-align: middle;\n",
       "    }\n",
       "\n",
       "    .dataframe tbody tr th {\n",
       "        vertical-align: top;\n",
       "    }\n",
       "\n",
       "    .dataframe thead th {\n",
       "        text-align: right;\n",
       "    }\n",
       "</style>\n",
       "<table border=\"1\" class=\"dataframe\">\n",
       "  <thead>\n",
       "    <tr style=\"text-align: right;\">\n",
       "      <th></th>\n",
       "      <th>transaction_dt</th>\n",
       "      <th>customer_id</th>\n",
       "      <th>age_group</th>\n",
       "      <th>pin_code</th>\n",
       "      <th>product_subclass</th>\n",
       "      <th>product_id</th>\n",
       "      <th>amount</th>\n",
       "      <th>asset</th>\n",
       "      <th>sales_price</th>\n",
       "      <th>age_label</th>\n",
       "      <th>age_int</th>\n",
       "      <th>pin_code_int</th>\n",
       "    </tr>\n",
       "  </thead>\n",
       "  <tbody>\n",
       "    <tr>\n",
       "      <th>0</th>\n",
       "      <td>2000-11-13</td>\n",
       "      <td>00001069</td>\n",
       "      <td>K</td>\n",
       "      <td>E</td>\n",
       "      <td>100314</td>\n",
       "      <td>4710176008699</td>\n",
       "      <td>1</td>\n",
       "      <td>78</td>\n",
       "      <td>98</td>\n",
       "      <td>unknown</td>\n",
       "      <td>11</td>\n",
       "      <td>5</td>\n",
       "    </tr>\n",
       "    <tr>\n",
       "      <th>1</th>\n",
       "      <td>2000-11-13</td>\n",
       "      <td>00001069</td>\n",
       "      <td>K</td>\n",
       "      <td>E</td>\n",
       "      <td>100205</td>\n",
       "      <td>9556439880610</td>\n",
       "      <td>1</td>\n",
       "      <td>80</td>\n",
       "      <td>89</td>\n",
       "      <td>unknown</td>\n",
       "      <td>11</td>\n",
       "      <td>5</td>\n",
       "    </tr>\n",
       "    <tr>\n",
       "      <th>2</th>\n",
       "      <td>2001-01-21</td>\n",
       "      <td>00001069</td>\n",
       "      <td>K</td>\n",
       "      <td>E</td>\n",
       "      <td>110333</td>\n",
       "      <td>4710320224661</td>\n",
       "      <td>1</td>\n",
       "      <td>361</td>\n",
       "      <td>425</td>\n",
       "      <td>unknown</td>\n",
       "      <td>11</td>\n",
       "      <td>5</td>\n",
       "    </tr>\n",
       "    <tr>\n",
       "      <th>3</th>\n",
       "      <td>2001-01-21</td>\n",
       "      <td>00001069</td>\n",
       "      <td>K</td>\n",
       "      <td>E</td>\n",
       "      <td>100311</td>\n",
       "      <td>4710022101208</td>\n",
       "      <td>1</td>\n",
       "      <td>197</td>\n",
       "      <td>198</td>\n",
       "      <td>unknown</td>\n",
       "      <td>11</td>\n",
       "      <td>5</td>\n",
       "    </tr>\n",
       "    <tr>\n",
       "      <th>4</th>\n",
       "      <td>2001-01-21</td>\n",
       "      <td>00001069</td>\n",
       "      <td>K</td>\n",
       "      <td>E</td>\n",
       "      <td>110333</td>\n",
       "      <td>4712603661644</td>\n",
       "      <td>1</td>\n",
       "      <td>313</td>\n",
       "      <td>348</td>\n",
       "      <td>unknown</td>\n",
       "      <td>11</td>\n",
       "      <td>5</td>\n",
       "    </tr>\n",
       "  </tbody>\n",
       "</table>\n",
       "</div>"
      ],
      "text/plain": [
       "  transaction_dt customer_id age_group pin_code product_subclass  \\\n",
       "0     2000-11-13    00001069         K        E           100314   \n",
       "1     2000-11-13    00001069         K        E           100205   \n",
       "2     2001-01-21    00001069         K        E           110333   \n",
       "3     2001-01-21    00001069         K        E           100311   \n",
       "4     2001-01-21    00001069         K        E           110333   \n",
       "\n",
       "      product_id amount asset sales_price age_label  age_int  pin_code_int  \n",
       "0  4710176008699      1    78          98   unknown       11             5  \n",
       "1  9556439880610      1    80          89   unknown       11             5  \n",
       "2  4710320224661      1   361         425   unknown       11             5  \n",
       "3  4710022101208      1   197         198   unknown       11             5  \n",
       "4  4712603661644      1   313         348   unknown       11             5  "
      ]
     },
     "execution_count": 11,
     "metadata": {},
     "output_type": "execute_result"
    }
   ],
   "source": [
    "total_set.head(5)"
   ]
  },
  {
   "cell_type": "code",
   "execution_count": 12,
   "metadata": {},
   "outputs": [],
   "source": [
    "#total_set.customer_id.value_counts()"
   ]
  },
  {
   "cell_type": "code",
   "execution_count": 13,
   "metadata": {},
   "outputs": [],
   "source": [
    "def create_dummies(df,column):\n",
    "    temp=pd.DataFrame(df[column])\n",
    "    for x in temp[column].unique():\n",
    "        temp[str(column+'_')+x]=(temp[column]==x).astype(int)\n",
    "    return temp\n",
    "\n",
    "\n",
    "temp_age_group=create_dummies(total_set,'age_group')\n",
    "comparison=sorted(temp_age_group.columns)\n",
    "temp_age_group=temp_age_group[comparison]\n",
    "\n",
    "temp_age_group=pd.concat([total_set, temp_age_group], axis=1)"
   ]
  },
  {
   "cell_type": "code",
   "execution_count": 14,
   "metadata": {},
   "outputs": [],
   "source": [
    "temp_pin_code=create_dummies(temp_age_group,'pin_code')\n",
    "comparison=sorted(temp_pin_code.columns)\n",
    "temp_pin_code=temp_pin_code[comparison]\n",
    "\n",
    "temp_pin_code=pd.concat([temp_age_group, temp_pin_code], axis=1)"
   ]
  },
  {
   "cell_type": "code",
   "execution_count": 15,
   "metadata": {
    "scrolled": true
   },
   "outputs": [],
   "source": [
    "total_set=temp_pin_code.drop(['age_group','pin_code'],axis=1)"
   ]
  },
  {
   "cell_type": "markdown",
   "metadata": {},
   "source": [
    "**Convert Columns to Integers **\n",
    "\n",
    "*Note: keep in mind some are ordinal categories*"
   ]
  },
  {
   "cell_type": "code",
   "execution_count": 16,
   "metadata": {},
   "outputs": [],
   "source": [
    "#convert to integers\n",
    "#total_set['customer_id']=total_set.customer_id.astype(np.int64)\n",
    "total_set['product_subclass']=total_set.product_subclass.astype(np.int64)\n",
    "total_set['product_id']=total_set.product_id.astype(np.int64)\n",
    "total_set['amount']=total_set.amount.astype(np.int64)\n",
    "total_set['asset']=total_set.asset.astype(np.int64)\n",
    "total_set['sales_price']=total_set.sales_price.astype(np.int64)\n",
    "total_set['avg_unit_price']=total_set['sales_price']/total_set['amount']"
   ]
  },
  {
   "cell_type": "code",
   "execution_count": 17,
   "metadata": {},
   "outputs": [],
   "source": [
    "age_map=total_set.reset_index()\n",
    "age_map=total_set[['customer_id','age_int']]\n",
    "age_map=dict(zip(list(age_map.customer_id),list(age_map.age_int)))"
   ]
  },
  {
   "cell_type": "code",
   "execution_count": 18,
   "metadata": {},
   "outputs": [],
   "source": [
    "pin_map=total_set.reset_index()\n",
    "pin_map=total_set[['customer_id','pin_code_int']]\n",
    "pin_map=dict(zip(list(pin_map.customer_id),list(pin_map.pin_code_int)))"
   ]
  },
  {
   "cell_type": "code",
   "execution_count": 19,
   "metadata": {},
   "outputs": [
    {
     "data": {
      "text/html": [
       "<div>\n",
       "<style scoped>\n",
       "    .dataframe tbody tr th:only-of-type {\n",
       "        vertical-align: middle;\n",
       "    }\n",
       "\n",
       "    .dataframe tbody tr th {\n",
       "        vertical-align: top;\n",
       "    }\n",
       "\n",
       "    .dataframe thead th {\n",
       "        text-align: right;\n",
       "    }\n",
       "</style>\n",
       "<table border=\"1\" class=\"dataframe\">\n",
       "  <thead>\n",
       "    <tr style=\"text-align: right;\">\n",
       "      <th></th>\n",
       "      <th>transaction_dt</th>\n",
       "      <th>customer_id</th>\n",
       "      <th>product_subclass</th>\n",
       "      <th>product_id</th>\n",
       "      <th>amount</th>\n",
       "      <th>asset</th>\n",
       "      <th>sales_price</th>\n",
       "      <th>age_label</th>\n",
       "      <th>age_int</th>\n",
       "      <th>pin_code_int</th>\n",
       "      <th>...</th>\n",
       "      <th>age_group_K</th>\n",
       "      <th>pin_code_A</th>\n",
       "      <th>pin_code_B</th>\n",
       "      <th>pin_code_C</th>\n",
       "      <th>pin_code_D</th>\n",
       "      <th>pin_code_E</th>\n",
       "      <th>pin_code_F</th>\n",
       "      <th>pin_code_G</th>\n",
       "      <th>pin_code_H</th>\n",
       "      <th>avg_unit_price</th>\n",
       "    </tr>\n",
       "  </thead>\n",
       "  <tbody>\n",
       "    <tr>\n",
       "      <th>0</th>\n",
       "      <td>2000-11-13</td>\n",
       "      <td>00001069</td>\n",
       "      <td>100314</td>\n",
       "      <td>4710176008699</td>\n",
       "      <td>1</td>\n",
       "      <td>78</td>\n",
       "      <td>98</td>\n",
       "      <td>unknown</td>\n",
       "      <td>11</td>\n",
       "      <td>5</td>\n",
       "      <td>...</td>\n",
       "      <td>1</td>\n",
       "      <td>0</td>\n",
       "      <td>0</td>\n",
       "      <td>0</td>\n",
       "      <td>0</td>\n",
       "      <td>1</td>\n",
       "      <td>0</td>\n",
       "      <td>0</td>\n",
       "      <td>0</td>\n",
       "      <td>98.0</td>\n",
       "    </tr>\n",
       "    <tr>\n",
       "      <th>1</th>\n",
       "      <td>2000-11-13</td>\n",
       "      <td>00001069</td>\n",
       "      <td>100205</td>\n",
       "      <td>9556439880610</td>\n",
       "      <td>1</td>\n",
       "      <td>80</td>\n",
       "      <td>89</td>\n",
       "      <td>unknown</td>\n",
       "      <td>11</td>\n",
       "      <td>5</td>\n",
       "      <td>...</td>\n",
       "      <td>1</td>\n",
       "      <td>0</td>\n",
       "      <td>0</td>\n",
       "      <td>0</td>\n",
       "      <td>0</td>\n",
       "      <td>1</td>\n",
       "      <td>0</td>\n",
       "      <td>0</td>\n",
       "      <td>0</td>\n",
       "      <td>89.0</td>\n",
       "    </tr>\n",
       "    <tr>\n",
       "      <th>2</th>\n",
       "      <td>2001-01-21</td>\n",
       "      <td>00001069</td>\n",
       "      <td>110333</td>\n",
       "      <td>4710320224661</td>\n",
       "      <td>1</td>\n",
       "      <td>361</td>\n",
       "      <td>425</td>\n",
       "      <td>unknown</td>\n",
       "      <td>11</td>\n",
       "      <td>5</td>\n",
       "      <td>...</td>\n",
       "      <td>1</td>\n",
       "      <td>0</td>\n",
       "      <td>0</td>\n",
       "      <td>0</td>\n",
       "      <td>0</td>\n",
       "      <td>1</td>\n",
       "      <td>0</td>\n",
       "      <td>0</td>\n",
       "      <td>0</td>\n",
       "      <td>425.0</td>\n",
       "    </tr>\n",
       "  </tbody>\n",
       "</table>\n",
       "<p>3 rows × 30 columns</p>\n",
       "</div>"
      ],
      "text/plain": [
       "  transaction_dt customer_id  product_subclass     product_id  amount  asset  \\\n",
       "0     2000-11-13    00001069            100314  4710176008699       1     78   \n",
       "1     2000-11-13    00001069            100205  9556439880610       1     80   \n",
       "2     2001-01-21    00001069            110333  4710320224661       1    361   \n",
       "\n",
       "   sales_price age_label  age_int  pin_code_int       ...        age_group_K  \\\n",
       "0           98   unknown       11             5       ...                  1   \n",
       "1           89   unknown       11             5       ...                  1   \n",
       "2          425   unknown       11             5       ...                  1   \n",
       "\n",
       "   pin_code_A  pin_code_B  pin_code_C  pin_code_D  pin_code_E  pin_code_F  \\\n",
       "0           0           0           0           0           1           0   \n",
       "1           0           0           0           0           1           0   \n",
       "2           0           0           0           0           1           0   \n",
       "\n",
       "   pin_code_G  pin_code_H  avg_unit_price  \n",
       "0           0           0            98.0  \n",
       "1           0           0            89.0  \n",
       "2           0           0           425.0  \n",
       "\n",
       "[3 rows x 30 columns]"
      ]
     },
     "execution_count": 19,
     "metadata": {},
     "output_type": "execute_result"
    }
   ],
   "source": [
    "total_set.head(3)"
   ]
  },
  {
   "cell_type": "code",
   "execution_count": 20,
   "metadata": {},
   "outputs": [
    {
     "name": "stdout",
     "output_type": "stream",
     "text": [
      "<class 'pandas.core.frame.DataFrame'>\n",
      "RangeIndex: 817741 entries, 0 to 817740\n",
      "Data columns (total 30 columns):\n",
      "transaction_dt      817741 non-null datetime64[ns]\n",
      "customer_id         817741 non-null object\n",
      "product_subclass    817741 non-null int64\n",
      "product_id          817741 non-null int64\n",
      "amount              817741 non-null int64\n",
      "asset               817741 non-null int64\n",
      "sales_price         817741 non-null int64\n",
      "age_label           817741 non-null object\n",
      "age_int             817741 non-null int64\n",
      "pin_code_int        817741 non-null int64\n",
      "age_group_A         817741 non-null int32\n",
      "age_group_B         817741 non-null int32\n",
      "age_group_C         817741 non-null int32\n",
      "age_group_D         817741 non-null int32\n",
      "age_group_E         817741 non-null int32\n",
      "age_group_F         817741 non-null int32\n",
      "age_group_G         817741 non-null int32\n",
      "age_group_H         817741 non-null int32\n",
      "age_group_I         817741 non-null int32\n",
      "age_group_J         817741 non-null int32\n",
      "age_group_K         817741 non-null int32\n",
      "pin_code_A          817741 non-null int32\n",
      "pin_code_B          817741 non-null int32\n",
      "pin_code_C          817741 non-null int32\n",
      "pin_code_D          817741 non-null int32\n",
      "pin_code_E          817741 non-null int32\n",
      "pin_code_F          817741 non-null int32\n",
      "pin_code_G          817741 non-null int32\n",
      "pin_code_H          817741 non-null int32\n",
      "avg_unit_price      817741 non-null float64\n",
      "dtypes: datetime64[ns](1), float64(1), int32(19), int64(7), object(2)\n",
      "memory usage: 127.9+ MB\n"
     ]
    }
   ],
   "source": [
    "total_set.info()"
   ]
  },
  {
   "cell_type": "markdown",
   "metadata": {},
   "source": [
    "Minimize to just needed columns"
   ]
  },
  {
   "cell_type": "code",
   "execution_count": 21,
   "metadata": {},
   "outputs": [],
   "source": [
    "minimized_set=total_set[['transaction_dt','customer_id','age_int','product_subclass','product_id','pin_code_int','asset','amount','sales_price']]"
   ]
  },
  {
   "cell_type": "code",
   "execution_count": 22,
   "metadata": {},
   "outputs": [
    {
     "data": {
      "text/html": [
       "<div>\n",
       "<style scoped>\n",
       "    .dataframe tbody tr th:only-of-type {\n",
       "        vertical-align: middle;\n",
       "    }\n",
       "\n",
       "    .dataframe tbody tr th {\n",
       "        vertical-align: top;\n",
       "    }\n",
       "\n",
       "    .dataframe thead th {\n",
       "        text-align: right;\n",
       "    }\n",
       "</style>\n",
       "<table border=\"1\" class=\"dataframe\">\n",
       "  <thead>\n",
       "    <tr style=\"text-align: right;\">\n",
       "      <th></th>\n",
       "      <th>transaction_dt</th>\n",
       "      <th>customer_id</th>\n",
       "      <th>age_int</th>\n",
       "      <th>product_subclass</th>\n",
       "      <th>product_id</th>\n",
       "      <th>pin_code_int</th>\n",
       "      <th>asset</th>\n",
       "      <th>amount</th>\n",
       "      <th>sales_price</th>\n",
       "    </tr>\n",
       "  </thead>\n",
       "  <tbody>\n",
       "    <tr>\n",
       "      <th>0</th>\n",
       "      <td>2000-11-13</td>\n",
       "      <td>00001069</td>\n",
       "      <td>11</td>\n",
       "      <td>100314</td>\n",
       "      <td>4710176008699</td>\n",
       "      <td>5</td>\n",
       "      <td>78</td>\n",
       "      <td>1</td>\n",
       "      <td>98</td>\n",
       "    </tr>\n",
       "    <tr>\n",
       "      <th>1</th>\n",
       "      <td>2000-11-13</td>\n",
       "      <td>00001069</td>\n",
       "      <td>11</td>\n",
       "      <td>100205</td>\n",
       "      <td>9556439880610</td>\n",
       "      <td>5</td>\n",
       "      <td>80</td>\n",
       "      <td>1</td>\n",
       "      <td>89</td>\n",
       "    </tr>\n",
       "    <tr>\n",
       "      <th>2</th>\n",
       "      <td>2001-01-21</td>\n",
       "      <td>00001069</td>\n",
       "      <td>11</td>\n",
       "      <td>110333</td>\n",
       "      <td>4710320224661</td>\n",
       "      <td>5</td>\n",
       "      <td>361</td>\n",
       "      <td>1</td>\n",
       "      <td>425</td>\n",
       "    </tr>\n",
       "    <tr>\n",
       "      <th>3</th>\n",
       "      <td>2001-01-21</td>\n",
       "      <td>00001069</td>\n",
       "      <td>11</td>\n",
       "      <td>100311</td>\n",
       "      <td>4710022101208</td>\n",
       "      <td>5</td>\n",
       "      <td>197</td>\n",
       "      <td>1</td>\n",
       "      <td>198</td>\n",
       "    </tr>\n",
       "    <tr>\n",
       "      <th>4</th>\n",
       "      <td>2001-01-21</td>\n",
       "      <td>00001069</td>\n",
       "      <td>11</td>\n",
       "      <td>110333</td>\n",
       "      <td>4712603661644</td>\n",
       "      <td>5</td>\n",
       "      <td>313</td>\n",
       "      <td>1</td>\n",
       "      <td>348</td>\n",
       "    </tr>\n",
       "  </tbody>\n",
       "</table>\n",
       "</div>"
      ],
      "text/plain": [
       "  transaction_dt customer_id  age_int  product_subclass     product_id  \\\n",
       "0     2000-11-13    00001069       11            100314  4710176008699   \n",
       "1     2000-11-13    00001069       11            100205  9556439880610   \n",
       "2     2001-01-21    00001069       11            110333  4710320224661   \n",
       "3     2001-01-21    00001069       11            100311  4710022101208   \n",
       "4     2001-01-21    00001069       11            110333  4712603661644   \n",
       "\n",
       "   pin_code_int  asset  amount  sales_price  \n",
       "0             5     78       1           98  \n",
       "1             5     80       1           89  \n",
       "2             5    361       1          425  \n",
       "3             5    197       1          198  \n",
       "4             5    313       1          348  "
      ]
     },
     "execution_count": 22,
     "metadata": {},
     "output_type": "execute_result"
    }
   ],
   "source": [
    "minimized_set.head()"
   ]
  },
  {
   "cell_type": "markdown",
   "metadata": {},
   "source": [
    "______________________________________________"
   ]
  },
  {
   "cell_type": "markdown",
   "metadata": {},
   "source": [
    "Acquisition Cohorts\n",
    "-----"
   ]
  },
  {
   "cell_type": "markdown",
   "metadata": {},
   "source": [
    "Identify cohorts based on month of first purchase."
   ]
  },
  {
   "cell_type": "code",
   "execution_count": 23,
   "metadata": {},
   "outputs": [],
   "source": [
    "#truncates date object to first day of the month\n",
    "def get_month(x): return dt.datetime(x.year,x.month,1)"
   ]
  },
  {
   "cell_type": "code",
   "execution_count": 24,
   "metadata": {},
   "outputs": [],
   "source": [
    "#month of first purchase\n",
    "minimized_set['transaction_mo']=minimized_set['transaction_dt'].apply(get_month)"
   ]
  },
  {
   "cell_type": "code",
   "execution_count": 25,
   "metadata": {},
   "outputs": [],
   "source": [
    "grouping=minimized_set['transaction_dt'].apply(get_month)\n",
    "grouping=minimized_set.groupby('customer_id')['transaction_mo']"
   ]
  },
  {
   "cell_type": "code",
   "execution_count": 26,
   "metadata": {},
   "outputs": [],
   "source": [
    "#assign smallest invoice month value to each customer\n",
    "minimized_set['cohort_mo']=grouping.transform('min')"
   ]
  },
  {
   "cell_type": "code",
   "execution_count": 27,
   "metadata": {},
   "outputs": [
    {
     "data": {
      "text/html": [
       "<div>\n",
       "<style scoped>\n",
       "    .dataframe tbody tr th:only-of-type {\n",
       "        vertical-align: middle;\n",
       "    }\n",
       "\n",
       "    .dataframe tbody tr th {\n",
       "        vertical-align: top;\n",
       "    }\n",
       "\n",
       "    .dataframe thead th {\n",
       "        text-align: right;\n",
       "    }\n",
       "</style>\n",
       "<table border=\"1\" class=\"dataframe\">\n",
       "  <thead>\n",
       "    <tr style=\"text-align: right;\">\n",
       "      <th></th>\n",
       "      <th>cohort_mo</th>\n",
       "      <th>transaction_mo</th>\n",
       "    </tr>\n",
       "  </thead>\n",
       "  <tbody>\n",
       "    <tr>\n",
       "      <th>0</th>\n",
       "      <td>2000-11-01</td>\n",
       "      <td>2000-11-01</td>\n",
       "    </tr>\n",
       "    <tr>\n",
       "      <th>1</th>\n",
       "      <td>2000-11-01</td>\n",
       "      <td>2000-11-01</td>\n",
       "    </tr>\n",
       "    <tr>\n",
       "      <th>2</th>\n",
       "      <td>2000-11-01</td>\n",
       "      <td>2001-01-01</td>\n",
       "    </tr>\n",
       "    <tr>\n",
       "      <th>3</th>\n",
       "      <td>2000-11-01</td>\n",
       "      <td>2001-01-01</td>\n",
       "    </tr>\n",
       "    <tr>\n",
       "      <th>4</th>\n",
       "      <td>2000-11-01</td>\n",
       "      <td>2001-01-01</td>\n",
       "    </tr>\n",
       "  </tbody>\n",
       "</table>\n",
       "</div>"
      ],
      "text/plain": [
       "   cohort_mo transaction_mo\n",
       "0 2000-11-01     2000-11-01\n",
       "1 2000-11-01     2000-11-01\n",
       "2 2000-11-01     2001-01-01\n",
       "3 2000-11-01     2001-01-01\n",
       "4 2000-11-01     2001-01-01"
      ]
     },
     "execution_count": 27,
     "metadata": {},
     "output_type": "execute_result"
    }
   ],
   "source": [
    "minimized_set[['cohort_mo','transaction_mo']].head(5)"
   ]
  },
  {
   "cell_type": "markdown",
   "metadata": {},
   "source": [
    "Calculate time offset"
   ]
  },
  {
   "cell_type": "code",
   "execution_count": 28,
   "metadata": {},
   "outputs": [],
   "source": [
    "#helper function for calculating the number of months from the first transaction\n",
    "def get_date_int(df,column):\n",
    "    year=df[column].dt.year\n",
    "    month=df[column].dt.month\n",
    "    week=df[column].dt.week\n",
    "    day=df[column].dt.day\n",
    "    return year,month,week,day"
   ]
  },
  {
   "cell_type": "markdown",
   "metadata": {},
   "source": [
    "Assign time offset value"
   ]
  },
  {
   "cell_type": "code",
   "execution_count": 29,
   "metadata": {},
   "outputs": [],
   "source": [
    "invoice_year,invoice_month,invoice_week,_=get_date_int(minimized_set,'transaction_mo')\n",
    "cohort_year,cohort_month,cohort_week,_=get_date_int(minimized_set,'cohort_mo')"
   ]
  },
  {
   "cell_type": "code",
   "execution_count": 30,
   "metadata": {},
   "outputs": [],
   "source": [
    "years_diff=invoice_year-cohort_year\n",
    "months_diff=invoice_month-cohort_month\n",
    "week_diff=invoice_week-cohort_week"
   ]
  },
  {
   "cell_type": "markdown",
   "metadata": {},
   "source": [
    "Identify transaction cohorts"
   ]
  },
  {
   "cell_type": "code",
   "execution_count": 31,
   "metadata": {},
   "outputs": [
    {
     "data": {
      "text/html": [
       "<div>\n",
       "<style scoped>\n",
       "    .dataframe tbody tr th:only-of-type {\n",
       "        vertical-align: middle;\n",
       "    }\n",
       "\n",
       "    .dataframe tbody tr th {\n",
       "        vertical-align: top;\n",
       "    }\n",
       "\n",
       "    .dataframe thead th {\n",
       "        text-align: right;\n",
       "    }\n",
       "</style>\n",
       "<table border=\"1\" class=\"dataframe\">\n",
       "  <thead>\n",
       "    <tr style=\"text-align: right;\">\n",
       "      <th></th>\n",
       "      <th>transaction_dt</th>\n",
       "      <th>customer_id</th>\n",
       "      <th>age_int</th>\n",
       "      <th>product_subclass</th>\n",
       "      <th>product_id</th>\n",
       "      <th>pin_code_int</th>\n",
       "      <th>asset</th>\n",
       "      <th>amount</th>\n",
       "      <th>sales_price</th>\n",
       "      <th>transaction_mo</th>\n",
       "      <th>cohort_mo</th>\n",
       "      <th>cohort_index</th>\n",
       "    </tr>\n",
       "  </thead>\n",
       "  <tbody>\n",
       "    <tr>\n",
       "      <th>0</th>\n",
       "      <td>2000-11-13</td>\n",
       "      <td>00001069</td>\n",
       "      <td>11</td>\n",
       "      <td>100314</td>\n",
       "      <td>4710176008699</td>\n",
       "      <td>5</td>\n",
       "      <td>78</td>\n",
       "      <td>1</td>\n",
       "      <td>98</td>\n",
       "      <td>2000-11-01</td>\n",
       "      <td>2000-11-01</td>\n",
       "      <td>1</td>\n",
       "    </tr>\n",
       "    <tr>\n",
       "      <th>1</th>\n",
       "      <td>2000-11-13</td>\n",
       "      <td>00001069</td>\n",
       "      <td>11</td>\n",
       "      <td>100205</td>\n",
       "      <td>9556439880610</td>\n",
       "      <td>5</td>\n",
       "      <td>80</td>\n",
       "      <td>1</td>\n",
       "      <td>89</td>\n",
       "      <td>2000-11-01</td>\n",
       "      <td>2000-11-01</td>\n",
       "      <td>1</td>\n",
       "    </tr>\n",
       "    <tr>\n",
       "      <th>2</th>\n",
       "      <td>2001-01-21</td>\n",
       "      <td>00001069</td>\n",
       "      <td>11</td>\n",
       "      <td>110333</td>\n",
       "      <td>4710320224661</td>\n",
       "      <td>5</td>\n",
       "      <td>361</td>\n",
       "      <td>1</td>\n",
       "      <td>425</td>\n",
       "      <td>2001-01-01</td>\n",
       "      <td>2000-11-01</td>\n",
       "      <td>3</td>\n",
       "    </tr>\n",
       "    <tr>\n",
       "      <th>3</th>\n",
       "      <td>2001-01-21</td>\n",
       "      <td>00001069</td>\n",
       "      <td>11</td>\n",
       "      <td>100311</td>\n",
       "      <td>4710022101208</td>\n",
       "      <td>5</td>\n",
       "      <td>197</td>\n",
       "      <td>1</td>\n",
       "      <td>198</td>\n",
       "      <td>2001-01-01</td>\n",
       "      <td>2000-11-01</td>\n",
       "      <td>3</td>\n",
       "    </tr>\n",
       "    <tr>\n",
       "      <th>4</th>\n",
       "      <td>2001-01-21</td>\n",
       "      <td>00001069</td>\n",
       "      <td>11</td>\n",
       "      <td>110333</td>\n",
       "      <td>4712603661644</td>\n",
       "      <td>5</td>\n",
       "      <td>313</td>\n",
       "      <td>1</td>\n",
       "      <td>348</td>\n",
       "      <td>2001-01-01</td>\n",
       "      <td>2000-11-01</td>\n",
       "      <td>3</td>\n",
       "    </tr>\n",
       "  </tbody>\n",
       "</table>\n",
       "</div>"
      ],
      "text/plain": [
       "  transaction_dt customer_id  age_int  product_subclass     product_id  \\\n",
       "0     2000-11-13    00001069       11            100314  4710176008699   \n",
       "1     2000-11-13    00001069       11            100205  9556439880610   \n",
       "2     2001-01-21    00001069       11            110333  4710320224661   \n",
       "3     2001-01-21    00001069       11            100311  4710022101208   \n",
       "4     2001-01-21    00001069       11            110333  4712603661644   \n",
       "\n",
       "   pin_code_int  asset  amount  sales_price transaction_mo  cohort_mo  \\\n",
       "0             5     78       1           98     2000-11-01 2000-11-01   \n",
       "1             5     80       1           89     2000-11-01 2000-11-01   \n",
       "2             5    361       1          425     2001-01-01 2000-11-01   \n",
       "3             5    197       1          198     2001-01-01 2000-11-01   \n",
       "4             5    313       1          348     2001-01-01 2000-11-01   \n",
       "\n",
       "   cohort_index  \n",
       "0             1  \n",
       "1             1  \n",
       "2             3  \n",
       "3             3  \n",
       "4             3  "
      ]
     },
     "execution_count": 31,
     "metadata": {},
     "output_type": "execute_result"
    }
   ],
   "source": [
    "minimized_set['cohort_index']=years_diff*12+months_diff+1 #convert year to months by multiplying difference\n",
    "minimized_set.head()"
   ]
  },
  {
   "cell_type": "markdown",
   "metadata": {},
   "source": [
    "Count monthly active customers from each cohort"
   ]
  },
  {
   "cell_type": "code",
   "execution_count": 32,
   "metadata": {},
   "outputs": [],
   "source": [
    "grouping=minimized_set.groupby(['cohort_mo','cohort_index'])\n",
    "cohort_data=grouping['customer_id'].apply(pd.Series.nunique)#count number of customer in each group\n",
    "cohort_data=cohort_data.reset_index()\n",
    "cohort_counts=cohort_data.pivot(index='cohort_mo',columns='cohort_index',values='customer_id')"
   ]
  },
  {
   "cell_type": "code",
   "execution_count": 33,
   "metadata": {},
   "outputs": [
    {
     "data": {
      "text/html": [
       "<div>\n",
       "<style scoped>\n",
       "    .dataframe tbody tr th:only-of-type {\n",
       "        vertical-align: middle;\n",
       "    }\n",
       "\n",
       "    .dataframe tbody tr th {\n",
       "        vertical-align: top;\n",
       "    }\n",
       "\n",
       "    .dataframe thead th {\n",
       "        text-align: right;\n",
       "    }\n",
       "</style>\n",
       "<table border=\"1\" class=\"dataframe\">\n",
       "  <thead>\n",
       "    <tr style=\"text-align: right;\">\n",
       "      <th>cohort_index</th>\n",
       "      <th>1</th>\n",
       "      <th>2</th>\n",
       "      <th>3</th>\n",
       "      <th>4</th>\n",
       "    </tr>\n",
       "    <tr>\n",
       "      <th>cohort_mo</th>\n",
       "      <th></th>\n",
       "      <th></th>\n",
       "      <th></th>\n",
       "      <th></th>\n",
       "    </tr>\n",
       "  </thead>\n",
       "  <tbody>\n",
       "    <tr>\n",
       "      <th>2000-11-01</th>\n",
       "      <td>16760.0</td>\n",
       "      <td>8618.0</td>\n",
       "      <td>9034.0</td>\n",
       "      <td>9226.0</td>\n",
       "    </tr>\n",
       "    <tr>\n",
       "      <th>2000-12-01</th>\n",
       "      <td>6829.0</td>\n",
       "      <td>2523.0</td>\n",
       "      <td>2514.0</td>\n",
       "      <td>NaN</td>\n",
       "    </tr>\n",
       "    <tr>\n",
       "      <th>2001-01-01</th>\n",
       "      <td>5021.0</td>\n",
       "      <td>1515.0</td>\n",
       "      <td>NaN</td>\n",
       "      <td>NaN</td>\n",
       "    </tr>\n",
       "    <tr>\n",
       "      <th>2001-02-01</th>\n",
       "      <td>3656.0</td>\n",
       "      <td>NaN</td>\n",
       "      <td>NaN</td>\n",
       "      <td>NaN</td>\n",
       "    </tr>\n",
       "  </tbody>\n",
       "</table>\n",
       "</div>"
      ],
      "text/plain": [
       "cohort_index        1       2       3       4\n",
       "cohort_mo                                    \n",
       "2000-11-01    16760.0  8618.0  9034.0  9226.0\n",
       "2000-12-01     6829.0  2523.0  2514.0     NaN\n",
       "2001-01-01     5021.0  1515.0     NaN     NaN\n",
       "2001-02-01     3656.0     NaN     NaN     NaN"
      ]
     },
     "execution_count": 33,
     "metadata": {},
     "output_type": "execute_result"
    }
   ],
   "source": [
    "cohort_counts"
   ]
  },
  {
   "cell_type": "markdown",
   "metadata": {},
   "source": [
    "Cohort Metrics\n",
    "----"
   ]
  },
  {
   "cell_type": "markdown",
   "metadata": {},
   "source": [
    "**Customer Retention Rate**"
   ]
  },
  {
   "cell_type": "markdown",
   "metadata": {},
   "source": [
    "*How many customers returned*"
   ]
  },
  {
   "cell_type": "code",
   "execution_count": 34,
   "metadata": {},
   "outputs": [],
   "source": [
    "#Store the first column as cohort_sizes \n",
    "cohort_sizes=cohort_counts.iloc[:,0]"
   ]
  },
  {
   "cell_type": "code",
   "execution_count": 35,
   "metadata": {},
   "outputs": [],
   "source": [
    "#Divide all values in the cohort_counts table by cohort_sizes\n",
    "retention=cohort_counts.divide(cohort_sizes,axis=0)"
   ]
  },
  {
   "cell_type": "markdown",
   "metadata": {},
   "source": [
    "**Retention Table**\n"
   ]
  },
  {
   "cell_type": "code",
   "execution_count": 36,
   "metadata": {},
   "outputs": [
    {
     "data": {
      "text/html": [
       "<div>\n",
       "<style scoped>\n",
       "    .dataframe tbody tr th:only-of-type {\n",
       "        vertical-align: middle;\n",
       "    }\n",
       "\n",
       "    .dataframe tbody tr th {\n",
       "        vertical-align: top;\n",
       "    }\n",
       "\n",
       "    .dataframe thead th {\n",
       "        text-align: right;\n",
       "    }\n",
       "</style>\n",
       "<table border=\"1\" class=\"dataframe\">\n",
       "  <thead>\n",
       "    <tr style=\"text-align: right;\">\n",
       "      <th>cohort_index</th>\n",
       "      <th>1</th>\n",
       "      <th>2</th>\n",
       "      <th>3</th>\n",
       "      <th>4</th>\n",
       "    </tr>\n",
       "    <tr>\n",
       "      <th>cohort_mo</th>\n",
       "      <th></th>\n",
       "      <th></th>\n",
       "      <th></th>\n",
       "      <th></th>\n",
       "    </tr>\n",
       "  </thead>\n",
       "  <tbody>\n",
       "    <tr>\n",
       "      <th>2000-11-01</th>\n",
       "      <td>100.0</td>\n",
       "      <td>51.4</td>\n",
       "      <td>53.9</td>\n",
       "      <td>55.0</td>\n",
       "    </tr>\n",
       "    <tr>\n",
       "      <th>2000-12-01</th>\n",
       "      <td>100.0</td>\n",
       "      <td>36.9</td>\n",
       "      <td>36.8</td>\n",
       "      <td>NaN</td>\n",
       "    </tr>\n",
       "    <tr>\n",
       "      <th>2001-01-01</th>\n",
       "      <td>100.0</td>\n",
       "      <td>30.2</td>\n",
       "      <td>NaN</td>\n",
       "      <td>NaN</td>\n",
       "    </tr>\n",
       "    <tr>\n",
       "      <th>2001-02-01</th>\n",
       "      <td>100.0</td>\n",
       "      <td>NaN</td>\n",
       "      <td>NaN</td>\n",
       "      <td>NaN</td>\n",
       "    </tr>\n",
       "  </tbody>\n",
       "</table>\n",
       "</div>"
      ],
      "text/plain": [
       "cohort_index      1     2     3     4\n",
       "cohort_mo                            \n",
       "2000-11-01    100.0  51.4  53.9  55.0\n",
       "2000-12-01    100.0  36.9  36.8   NaN\n",
       "2001-01-01    100.0  30.2   NaN   NaN\n",
       "2001-02-01    100.0   NaN   NaN   NaN"
      ]
     },
     "execution_count": 36,
     "metadata": {},
     "output_type": "execute_result"
    }
   ],
   "source": [
    "#Review the retention table (first column is expected to have 100% retention rate)\n",
    "retention.round(3)*100"
   ]
  },
  {
   "cell_type": "markdown",
   "metadata": {},
   "source": [
    "**Average Quantity for Each Cohort**\n"
   ]
  },
  {
   "cell_type": "code",
   "execution_count": 37,
   "metadata": {},
   "outputs": [
    {
     "data": {
      "text/html": [
       "<div>\n",
       "<style scoped>\n",
       "    .dataframe tbody tr th:only-of-type {\n",
       "        vertical-align: middle;\n",
       "    }\n",
       "\n",
       "    .dataframe tbody tr th {\n",
       "        vertical-align: top;\n",
       "    }\n",
       "\n",
       "    .dataframe thead th {\n",
       "        text-align: right;\n",
       "    }\n",
       "</style>\n",
       "<table border=\"1\" class=\"dataframe\">\n",
       "  <thead>\n",
       "    <tr style=\"text-align: right;\">\n",
       "      <th>cohort_index</th>\n",
       "      <th>1</th>\n",
       "      <th>2</th>\n",
       "      <th>3</th>\n",
       "      <th>4</th>\n",
       "    </tr>\n",
       "    <tr>\n",
       "      <th>cohort_mo</th>\n",
       "      <th></th>\n",
       "      <th></th>\n",
       "      <th></th>\n",
       "      <th></th>\n",
       "    </tr>\n",
       "  </thead>\n",
       "  <tbody>\n",
       "    <tr>\n",
       "      <th>2000-11-01</th>\n",
       "      <td>1.4</td>\n",
       "      <td>1.4</td>\n",
       "      <td>1.3</td>\n",
       "      <td>1.4</td>\n",
       "    </tr>\n",
       "    <tr>\n",
       "      <th>2000-12-01</th>\n",
       "      <td>1.4</td>\n",
       "      <td>1.4</td>\n",
       "      <td>1.4</td>\n",
       "      <td>NaN</td>\n",
       "    </tr>\n",
       "    <tr>\n",
       "      <th>2001-01-01</th>\n",
       "      <td>1.3</td>\n",
       "      <td>1.4</td>\n",
       "      <td>NaN</td>\n",
       "      <td>NaN</td>\n",
       "    </tr>\n",
       "    <tr>\n",
       "      <th>2001-02-01</th>\n",
       "      <td>1.4</td>\n",
       "      <td>NaN</td>\n",
       "      <td>NaN</td>\n",
       "      <td>NaN</td>\n",
       "    </tr>\n",
       "  </tbody>\n",
       "</table>\n",
       "</div>"
      ],
      "text/plain": [
       "cohort_index    1    2    3    4\n",
       "cohort_mo                       \n",
       "2000-11-01    1.4  1.4  1.3  1.4\n",
       "2000-12-01    1.4  1.4  1.4  NaN\n",
       "2001-01-01    1.3  1.4  NaN  NaN\n",
       "2001-02-01    1.4  NaN  NaN  NaN"
      ]
     },
     "execution_count": 37,
     "metadata": {},
     "output_type": "execute_result"
    }
   ],
   "source": [
    "grouping=minimized_set.groupby(['cohort_mo','cohort_index'])\n",
    "cohort_data=grouping['amount'].mean()#average quantity\n",
    "cohort_data=cohort_data.reset_index()\n",
    "average_quantity=cohort_data.pivot(index='cohort_mo',columns='cohort_index',values='amount')\n",
    "average_quantity.round(1)"
   ]
  },
  {
   "cell_type": "markdown",
   "metadata": {},
   "source": [
    "**Average Price for Each Cohort**"
   ]
  },
  {
   "cell_type": "code",
   "execution_count": 38,
   "metadata": {},
   "outputs": [
    {
     "data": {
      "text/html": [
       "<div>\n",
       "<style scoped>\n",
       "    .dataframe tbody tr th:only-of-type {\n",
       "        vertical-align: middle;\n",
       "    }\n",
       "\n",
       "    .dataframe tbody tr th {\n",
       "        vertical-align: top;\n",
       "    }\n",
       "\n",
       "    .dataframe thead th {\n",
       "        text-align: right;\n",
       "    }\n",
       "</style>\n",
       "<table border=\"1\" class=\"dataframe\">\n",
       "  <thead>\n",
       "    <tr style=\"text-align: right;\">\n",
       "      <th>cohort_index</th>\n",
       "      <th>1</th>\n",
       "      <th>2</th>\n",
       "      <th>3</th>\n",
       "      <th>4</th>\n",
       "    </tr>\n",
       "    <tr>\n",
       "      <th>cohort_mo</th>\n",
       "      <th></th>\n",
       "      <th></th>\n",
       "      <th></th>\n",
       "      <th></th>\n",
       "    </tr>\n",
       "  </thead>\n",
       "  <tbody>\n",
       "    <tr>\n",
       "      <th>2000-11-01</th>\n",
       "      <td>129.7</td>\n",
       "      <td>129.7</td>\n",
       "      <td>140.5</td>\n",
       "      <td>123.2</td>\n",
       "    </tr>\n",
       "    <tr>\n",
       "      <th>2000-12-01</th>\n",
       "      <td>132.5</td>\n",
       "      <td>139.6</td>\n",
       "      <td>120.5</td>\n",
       "      <td>NaN</td>\n",
       "    </tr>\n",
       "    <tr>\n",
       "      <th>2001-01-01</th>\n",
       "      <td>145.2</td>\n",
       "      <td>128.8</td>\n",
       "      <td>NaN</td>\n",
       "      <td>NaN</td>\n",
       "    </tr>\n",
       "    <tr>\n",
       "      <th>2001-02-01</th>\n",
       "      <td>132.6</td>\n",
       "      <td>NaN</td>\n",
       "      <td>NaN</td>\n",
       "      <td>NaN</td>\n",
       "    </tr>\n",
       "  </tbody>\n",
       "</table>\n",
       "</div>"
      ],
      "text/plain": [
       "cohort_index      1      2      3      4\n",
       "cohort_mo                               \n",
       "2000-11-01    129.7  129.7  140.5  123.2\n",
       "2000-12-01    132.5  139.6  120.5    NaN\n",
       "2001-01-01    145.2  128.8    NaN    NaN\n",
       "2001-02-01    132.6    NaN    NaN    NaN"
      ]
     },
     "execution_count": 38,
     "metadata": {},
     "output_type": "execute_result"
    }
   ],
   "source": [
    "grouping=minimized_set.groupby(['cohort_mo','cohort_index'])\n",
    "cohort_data=grouping['sales_price'].mean()#average quantity\n",
    "cohort_data=cohort_data.reset_index()\n",
    "average_quantity=cohort_data.pivot(index='cohort_mo',columns='cohort_index',values='sales_price')\n",
    "average_quantity.round(1)"
   ]
  },
  {
   "cell_type": "markdown",
   "metadata": {},
   "source": [
    "Visualizing cohort analysis\n",
    "---------"
   ]
  },
  {
   "cell_type": "code",
   "execution_count": 39,
   "metadata": {},
   "outputs": [
    {
     "data": {
      "text/html": [
       "<div>\n",
       "<style scoped>\n",
       "    .dataframe tbody tr th:only-of-type {\n",
       "        vertical-align: middle;\n",
       "    }\n",
       "\n",
       "    .dataframe tbody tr th {\n",
       "        vertical-align: top;\n",
       "    }\n",
       "\n",
       "    .dataframe thead th {\n",
       "        text-align: right;\n",
       "    }\n",
       "</style>\n",
       "<table border=\"1\" class=\"dataframe\">\n",
       "  <thead>\n",
       "    <tr style=\"text-align: right;\">\n",
       "      <th>cohort_index</th>\n",
       "      <th>1</th>\n",
       "      <th>2</th>\n",
       "      <th>3</th>\n",
       "      <th>4</th>\n",
       "    </tr>\n",
       "    <tr>\n",
       "      <th>cohort_mo</th>\n",
       "      <th></th>\n",
       "      <th></th>\n",
       "      <th></th>\n",
       "      <th></th>\n",
       "    </tr>\n",
       "  </thead>\n",
       "  <tbody>\n",
       "    <tr>\n",
       "      <th>2000-11-01</th>\n",
       "      <td>100.0</td>\n",
       "      <td>51.4</td>\n",
       "      <td>53.9</td>\n",
       "      <td>55.0</td>\n",
       "    </tr>\n",
       "    <tr>\n",
       "      <th>2000-12-01</th>\n",
       "      <td>100.0</td>\n",
       "      <td>36.9</td>\n",
       "      <td>36.8</td>\n",
       "      <td>NaN</td>\n",
       "    </tr>\n",
       "    <tr>\n",
       "      <th>2001-01-01</th>\n",
       "      <td>100.0</td>\n",
       "      <td>30.2</td>\n",
       "      <td>NaN</td>\n",
       "      <td>NaN</td>\n",
       "    </tr>\n",
       "    <tr>\n",
       "      <th>2001-02-01</th>\n",
       "      <td>100.0</td>\n",
       "      <td>NaN</td>\n",
       "      <td>NaN</td>\n",
       "      <td>NaN</td>\n",
       "    </tr>\n",
       "  </tbody>\n",
       "</table>\n",
       "</div>"
      ],
      "text/plain": [
       "cohort_index      1     2     3     4\n",
       "cohort_mo                            \n",
       "2000-11-01    100.0  51.4  53.9  55.0\n",
       "2000-12-01    100.0  36.9  36.8   NaN\n",
       "2001-01-01    100.0  30.2   NaN   NaN\n",
       "2001-02-01    100.0   NaN   NaN   NaN"
      ]
     },
     "execution_count": 39,
     "metadata": {},
     "output_type": "execute_result"
    }
   ],
   "source": [
    "retention.round(3)*100"
   ]
  },
  {
   "cell_type": "code",
   "execution_count": 40,
   "metadata": {},
   "outputs": [],
   "source": [
    "retention.index=pd.Series([x.date() for x in retention.index])"
   ]
  },
  {
   "cell_type": "code",
   "execution_count": 41,
   "metadata": {},
   "outputs": [
    {
     "data": {
      "image/png": "[encoded data removed]",
      "text/plain": [
       "<Figure size 576x360 with 2 Axes>"
      ]
     },
     "metadata": {},
     "output_type": "display_data"
    }
   ],
   "source": [
    "plt.figure(figsize=(8,5))\n",
    "plt.title('Retention Rates')\n",
    "sns.heatmap(data=retention,annot=True,fmt='.0%',vmin=0.0,vmax=0.5,cmap='BuGn')\n",
    "plt.show()"
   ]
  },
  {
   "cell_type": "markdown",
   "metadata": {},
   "source": [
    "**Visualize average quantity metric**"
   ]
  },
  {
   "cell_type": "code",
   "execution_count": 42,
   "metadata": {},
   "outputs": [],
   "source": [
    "average_quantity.index=pd.Series([x.date() for x in average_quantity.index])"
   ]
  },
  {
   "cell_type": "code",
   "execution_count": 43,
   "metadata": {},
   "outputs": [
    {
     "data": {
      "text/html": [
       "<div>\n",
       "<style scoped>\n",
       "    .dataframe tbody tr th:only-of-type {\n",
       "        vertical-align: middle;\n",
       "    }\n",
       "\n",
       "    .dataframe tbody tr th {\n",
       "        vertical-align: top;\n",
       "    }\n",
       "\n",
       "    .dataframe thead th {\n",
       "        text-align: right;\n",
       "    }\n",
       "</style>\n",
       "<table border=\"1\" class=\"dataframe\">\n",
       "  <thead>\n",
       "    <tr style=\"text-align: right;\">\n",
       "      <th>cohort_index</th>\n",
       "      <th>1</th>\n",
       "      <th>2</th>\n",
       "      <th>3</th>\n",
       "      <th>4</th>\n",
       "    </tr>\n",
       "  </thead>\n",
       "  <tbody>\n",
       "    <tr>\n",
       "      <th>2000-11-01</th>\n",
       "      <td>129.73</td>\n",
       "      <td>129.72</td>\n",
       "      <td>140.5</td>\n",
       "      <td>123.18</td>\n",
       "    </tr>\n",
       "    <tr>\n",
       "      <th>2000-12-01</th>\n",
       "      <td>132.53</td>\n",
       "      <td>139.59</td>\n",
       "      <td>120.5</td>\n",
       "      <td>NaN</td>\n",
       "    </tr>\n",
       "    <tr>\n",
       "      <th>2001-01-01</th>\n",
       "      <td>145.19</td>\n",
       "      <td>128.85</td>\n",
       "      <td>NaN</td>\n",
       "      <td>NaN</td>\n",
       "    </tr>\n",
       "    <tr>\n",
       "      <th>2001-02-01</th>\n",
       "      <td>132.60</td>\n",
       "      <td>NaN</td>\n",
       "      <td>NaN</td>\n",
       "      <td>NaN</td>\n",
       "    </tr>\n",
       "  </tbody>\n",
       "</table>\n",
       "</div>"
      ],
      "text/plain": [
       "cohort_index       1       2      3       4\n",
       "2000-11-01    129.73  129.72  140.5  123.18\n",
       "2000-12-01    132.53  139.59  120.5     NaN\n",
       "2001-01-01    145.19  128.85    NaN     NaN\n",
       "2001-02-01    132.60     NaN    NaN     NaN"
      ]
     },
     "execution_count": 43,
     "metadata": {},
     "output_type": "execute_result"
    }
   ],
   "source": [
    "average_quantity.round(2)"
   ]
  },
  {
   "cell_type": "code",
   "execution_count": 44,
   "metadata": {},
   "outputs": [
    {
     "data": {
      "image/png": "[encoded data removed]",
      "text/plain": [
       "<Figure size 576x360 with 2 Axes>"
      ]
     },
     "metadata": {},
     "output_type": "display_data"
    }
   ],
   "source": [
    "plt.figure(figsize=(8,5))\n",
    "plt.title('Average Spent by Monthly Cohorts')\n",
    "sns.heatmap(data=average_quantity,annot=True,cmap='Blues')\n",
    "plt.show()"
   ]
  },
  {
   "cell_type": "markdown",
   "metadata": {},
   "source": [
    "___________________"
   ]
  },
  {
   "cell_type": "markdown",
   "metadata": {},
   "source": [
    "Recency, Frequency, Monetary (RFM) segmentation\n",
    "====================="
   ]
  },
  {
   "cell_type": "markdown",
   "metadata": {},
   "source": [
    "**Grouping RFM values**"
   ]
  },
  {
   "cell_type": "markdown",
   "metadata": {},
   "source": [
    "Behavioral customer segmentation based on three metrics:\n",
    "    1. Recency (R)\n",
    "        - How was each customer's last purchase\n",
    "    2. Frequency (F)\n",
    "        - How many purchases the customer has done \n",
    "    3. Monetary Value (M)\n",
    "        - Measures how much the customer has spent "
   ]
  },
  {
   "cell_type": "code",
   "execution_count": 45,
   "metadata": {},
   "outputs": [],
   "source": [
    "#Preprocess data\n",
    "rmf_minimized_set=minimized_set[['product_id','amount','transaction_dt','sales_price','customer_id']]"
   ]
  },
  {
   "cell_type": "code",
   "execution_count": 46,
   "metadata": {},
   "outputs": [],
   "source": [
    "#Preprocess data\n",
    "rmf_minimized_set['total_sum']=rmf_minimized_set['sales_price']*minimized_set['amount']"
   ]
  },
  {
   "cell_type": "code",
   "execution_count": 47,
   "metadata": {},
   "outputs": [
    {
     "name": "stdout",
     "output_type": "stream",
     "text": [
      "min: 2000-11-01 00:00:00, max: 2001-02-28 00:00:00 \n"
     ]
    }
   ],
   "source": [
    "print('min: {}, max: {} '.format(min(rmf_minimized_set.transaction_dt),max(rmf_minimized_set.transaction_dt)))"
   ]
  },
  {
   "cell_type": "code",
   "execution_count": 48,
   "metadata": {},
   "outputs": [
    {
     "data": {
      "text/plain": [
       "Timestamp('2001-03-01 00:00:00')"
      ]
     },
     "execution_count": 48,
     "metadata": {},
     "output_type": "execute_result"
    }
   ],
   "source": [
    "snapshot_date=max(rmf_minimized_set.transaction_dt)+dt.timedelta(days=1)\n",
    "snapshot_date"
   ]
  },
  {
   "cell_type": "markdown",
   "metadata": {},
   "source": [
    "RFM for values "
   ]
  },
  {
   "cell_type": "code",
   "execution_count": 49,
   "metadata": {},
   "outputs": [
    {
     "data": {
      "text/html": [
       "<div>\n",
       "<style scoped>\n",
       "    .dataframe tbody tr th:only-of-type {\n",
       "        vertical-align: middle;\n",
       "    }\n",
       "\n",
       "    .dataframe tbody tr th {\n",
       "        vertical-align: top;\n",
       "    }\n",
       "\n",
       "    .dataframe thead th {\n",
       "        text-align: right;\n",
       "    }\n",
       "</style>\n",
       "<table border=\"1\" class=\"dataframe\">\n",
       "  <thead>\n",
       "    <tr style=\"text-align: right;\">\n",
       "      <th></th>\n",
       "      <th>Recency</th>\n",
       "      <th>Frequency</th>\n",
       "      <th>MonetaryValue</th>\n",
       "    </tr>\n",
       "    <tr>\n",
       "      <th>customer_id</th>\n",
       "      <th></th>\n",
       "      <th></th>\n",
       "      <th></th>\n",
       "    </tr>\n",
       "  </thead>\n",
       "  <tbody>\n",
       "    <tr>\n",
       "      <th>00001069</th>\n",
       "      <td>19</td>\n",
       "      <td>11</td>\n",
       "      <td>2660</td>\n",
       "    </tr>\n",
       "    <tr>\n",
       "      <th>00001113</th>\n",
       "      <td>54</td>\n",
       "      <td>18</td>\n",
       "      <td>3209</td>\n",
       "    </tr>\n",
       "    <tr>\n",
       "      <th>00001250</th>\n",
       "      <td>19</td>\n",
       "      <td>14</td>\n",
       "      <td>1795</td>\n",
       "    </tr>\n",
       "    <tr>\n",
       "      <th>00001359</th>\n",
       "      <td>87</td>\n",
       "      <td>3</td>\n",
       "      <td>602</td>\n",
       "    </tr>\n",
       "    <tr>\n",
       "      <th>00001823</th>\n",
       "      <td>36</td>\n",
       "      <td>14</td>\n",
       "      <td>6053</td>\n",
       "    </tr>\n",
       "  </tbody>\n",
       "</table>\n",
       "</div>"
      ],
      "text/plain": [
       "             Recency  Frequency  MonetaryValue\n",
       "customer_id                                   \n",
       "00001069          19         11           2660\n",
       "00001113          54         18           3209\n",
       "00001250          19         14           1795\n",
       "00001359          87          3            602\n",
       "00001823          36         14           6053"
      ]
     },
     "execution_count": 49,
     "metadata": {},
     "output_type": "execute_result"
    }
   ],
   "source": [
    "#Aggregate data on a customer level \n",
    "rmf_dataframe=rmf_minimized_set.groupby(['customer_id']).agg({\n",
    "    'transaction_dt':lambda x: (snapshot_date-x.max()).days,\n",
    "    'product_id':'count','total_sum':'sum'})\n",
    "\n",
    "#Rename columns for easier interpretation\n",
    "rmf_dataframe.rename(columns={'transaction_dt':'Recency',\n",
    "                         'product_id':'Frequency',\n",
    "                         'total_sum':'MonetaryValue'},inplace=True)\n",
    "\n",
    "rmf_dataframe.head()"
   ]
  },
  {
   "cell_type": "markdown",
   "metadata": {},
   "source": [
    "**Building RFM Segment Quartiles Using Chosen Thresholds**"
   ]
  },
  {
   "cell_type": "code",
   "execution_count": 50,
   "metadata": {},
   "outputs": [
    {
     "data": {
      "text/html": [
       "<div>\n",
       "<style scoped>\n",
       "    .dataframe tbody tr th:only-of-type {\n",
       "        vertical-align: middle;\n",
       "    }\n",
       "\n",
       "    .dataframe tbody tr th {\n",
       "        vertical-align: top;\n",
       "    }\n",
       "\n",
       "    .dataframe thead th {\n",
       "        text-align: right;\n",
       "    }\n",
       "</style>\n",
       "<table border=\"1\" class=\"dataframe\">\n",
       "  <thead>\n",
       "    <tr style=\"text-align: right;\">\n",
       "      <th></th>\n",
       "      <th>Recency</th>\n",
       "      <th>Frequency</th>\n",
       "      <th>MonetaryValue</th>\n",
       "      <th>R</th>\n",
       "      <th>F</th>\n",
       "      <th>M</th>\n",
       "    </tr>\n",
       "    <tr>\n",
       "      <th>customer_id</th>\n",
       "      <th></th>\n",
       "      <th></th>\n",
       "      <th></th>\n",
       "      <th></th>\n",
       "      <th></th>\n",
       "      <th></th>\n",
       "    </tr>\n",
       "  </thead>\n",
       "  <tbody>\n",
       "    <tr>\n",
       "      <th>00001069</th>\n",
       "      <td>19</td>\n",
       "      <td>11</td>\n",
       "      <td>2660</td>\n",
       "      <td>3</td>\n",
       "      <td>2</td>\n",
       "      <td>2</td>\n",
       "    </tr>\n",
       "    <tr>\n",
       "      <th>00001113</th>\n",
       "      <td>54</td>\n",
       "      <td>18</td>\n",
       "      <td>3209</td>\n",
       "      <td>2</td>\n",
       "      <td>3</td>\n",
       "      <td>3</td>\n",
       "    </tr>\n",
       "    <tr>\n",
       "      <th>00001250</th>\n",
       "      <td>19</td>\n",
       "      <td>14</td>\n",
       "      <td>1795</td>\n",
       "      <td>3</td>\n",
       "      <td>2</td>\n",
       "      <td>2</td>\n",
       "    </tr>\n",
       "    <tr>\n",
       "      <th>00001359</th>\n",
       "      <td>87</td>\n",
       "      <td>3</td>\n",
       "      <td>602</td>\n",
       "      <td>1</td>\n",
       "      <td>1</td>\n",
       "      <td>1</td>\n",
       "    </tr>\n",
       "    <tr>\n",
       "      <th>00001823</th>\n",
       "      <td>36</td>\n",
       "      <td>14</td>\n",
       "      <td>6053</td>\n",
       "      <td>2</td>\n",
       "      <td>2</td>\n",
       "      <td>3</td>\n",
       "    </tr>\n",
       "  </tbody>\n",
       "</table>\n",
       "</div>"
      ],
      "text/plain": [
       "             Recency  Frequency  MonetaryValue  R  F  M\n",
       "customer_id                                            \n",
       "00001069          19         11           2660  3  2  2\n",
       "00001113          54         18           3209  2  3  3\n",
       "00001250          19         14           1795  3  2  2\n",
       "00001359          87          3            602  1  1  1\n",
       "00001823          36         14           6053  2  2  3"
      ]
     },
     "execution_count": 50,
     "metadata": {},
     "output_type": "execute_result"
    }
   ],
   "source": [
    "r_labels=range(4,0,-1) \n",
    "#higher labels higher values\n",
    "f_labels=range(1,5)\n",
    "m_labels=range(1,5)\n",
    "\n",
    "r_quartiles=pd.qcut(rmf_dataframe['Recency'],4,labels=r_labels)\n",
    "f_quartiles=pd.qcut(rmf_dataframe['Frequency'],4,labels=f_labels)\n",
    "m_quartiles=pd.qcut(rmf_dataframe['MonetaryValue'],4,labels=f_labels)\n",
    "\n",
    "rmf_dataframe=rmf_dataframe.assign(R=r_quartiles.values)\n",
    "rmf_dataframe=rmf_dataframe.assign(F=f_quartiles.values)\n",
    "rmf_dataframe=rmf_dataframe.assign(M=m_quartiles.values)\n",
    "rmf_dataframe.head()"
   ]
  },
  {
   "cell_type": "markdown",
   "metadata": {},
   "source": [
    "Build RFM Segment and RFM Score"
   ]
  },
  {
   "cell_type": "markdown",
   "metadata": {},
   "source": [
    "*RFM Score= Relative Customer Value*"
   ]
  },
  {
   "cell_type": "code",
   "execution_count": 51,
   "metadata": {},
   "outputs": [],
   "source": [
    "def join_rfm(x): return str(x['R'])+str(x['F'])+str(x['M'])\n",
    "rmf_dataframe['RFM_Segment']=rmf_dataframe.apply(join_rfm,axis=1)\n",
    "rmf_dataframe['RFM_Score']=rmf_dataframe[['R','F','M']].sum(axis=1)"
   ]
  },
  {
   "cell_type": "code",
   "execution_count": 52,
   "metadata": {},
   "outputs": [
    {
     "data": {
      "text/html": [
       "<div>\n",
       "<style scoped>\n",
       "    .dataframe tbody tr th:only-of-type {\n",
       "        vertical-align: middle;\n",
       "    }\n",
       "\n",
       "    .dataframe tbody tr th {\n",
       "        vertical-align: top;\n",
       "    }\n",
       "\n",
       "    .dataframe thead th {\n",
       "        text-align: right;\n",
       "    }\n",
       "</style>\n",
       "<table border=\"1\" class=\"dataframe\">\n",
       "  <thead>\n",
       "    <tr style=\"text-align: right;\">\n",
       "      <th></th>\n",
       "      <th>Recency</th>\n",
       "      <th>Frequency</th>\n",
       "      <th>MonetaryValue</th>\n",
       "      <th>R</th>\n",
       "      <th>F</th>\n",
       "      <th>M</th>\n",
       "      <th>RFM_Segment</th>\n",
       "      <th>RFM_Score</th>\n",
       "    </tr>\n",
       "    <tr>\n",
       "      <th>customer_id</th>\n",
       "      <th></th>\n",
       "      <th></th>\n",
       "      <th></th>\n",
       "      <th></th>\n",
       "      <th></th>\n",
       "      <th></th>\n",
       "      <th></th>\n",
       "      <th></th>\n",
       "    </tr>\n",
       "  </thead>\n",
       "  <tbody>\n",
       "    <tr>\n",
       "      <th>00001069</th>\n",
       "      <td>19</td>\n",
       "      <td>11</td>\n",
       "      <td>2660</td>\n",
       "      <td>3</td>\n",
       "      <td>2</td>\n",
       "      <td>2</td>\n",
       "      <td>322</td>\n",
       "      <td>7.0</td>\n",
       "    </tr>\n",
       "    <tr>\n",
       "      <th>00001113</th>\n",
       "      <td>54</td>\n",
       "      <td>18</td>\n",
       "      <td>3209</td>\n",
       "      <td>2</td>\n",
       "      <td>3</td>\n",
       "      <td>3</td>\n",
       "      <td>233</td>\n",
       "      <td>8.0</td>\n",
       "    </tr>\n",
       "    <tr>\n",
       "      <th>00001250</th>\n",
       "      <td>19</td>\n",
       "      <td>14</td>\n",
       "      <td>1795</td>\n",
       "      <td>3</td>\n",
       "      <td>2</td>\n",
       "      <td>2</td>\n",
       "      <td>322</td>\n",
       "      <td>7.0</td>\n",
       "    </tr>\n",
       "    <tr>\n",
       "      <th>00001359</th>\n",
       "      <td>87</td>\n",
       "      <td>3</td>\n",
       "      <td>602</td>\n",
       "      <td>1</td>\n",
       "      <td>1</td>\n",
       "      <td>1</td>\n",
       "      <td>111</td>\n",
       "      <td>3.0</td>\n",
       "    </tr>\n",
       "    <tr>\n",
       "      <th>00001823</th>\n",
       "      <td>36</td>\n",
       "      <td>14</td>\n",
       "      <td>6053</td>\n",
       "      <td>2</td>\n",
       "      <td>2</td>\n",
       "      <td>3</td>\n",
       "      <td>223</td>\n",
       "      <td>7.0</td>\n",
       "    </tr>\n",
       "  </tbody>\n",
       "</table>\n",
       "</div>"
      ],
      "text/plain": [
       "             Recency  Frequency  MonetaryValue  R  F  M RFM_Segment  RFM_Score\n",
       "customer_id                                                                   \n",
       "00001069          19         11           2660  3  2  2         322        7.0\n",
       "00001113          54         18           3209  2  3  3         233        8.0\n",
       "00001250          19         14           1795  3  2  2         322        7.0\n",
       "00001359          87          3            602  1  1  1         111        3.0\n",
       "00001823          36         14           6053  2  2  3         223        7.0"
      ]
     },
     "execution_count": 52,
     "metadata": {},
     "output_type": "execute_result"
    }
   ],
   "source": [
    "rmf_dataframe.head()"
   ]
  },
  {
   "cell_type": "markdown",
   "metadata": {},
   "source": [
    "### Analyzing RFM table"
   ]
  },
  {
   "cell_type": "code",
   "execution_count": 53,
   "metadata": {},
   "outputs": [],
   "source": [
    "gb_rmf_dataframe=rmf_dataframe.groupby('RFM_Segment').size().sort_values(ascending=False)"
   ]
  },
  {
   "cell_type": "markdown",
   "metadata": {},
   "source": [
    "Filtering on RFM segments\n"
   ]
  },
  {
   "cell_type": "code",
   "execution_count": 54,
   "metadata": {},
   "outputs": [
    {
     "data": {
      "text/plain": [
       "RFM_Segment\n",
       "444    2819\n",
       "111    2638\n",
       "344    1663\n",
       "211    1493\n",
       "122    1130\n",
       "333    1117\n",
       "222    1040\n",
       "433    1004\n",
       "233     959\n",
       "311     923\n",
       "dtype: int64"
      ]
     },
     "execution_count": 54,
     "metadata": {},
     "output_type": "execute_result"
    }
   ],
   "source": [
    "gb_rmf_dataframe[:10]"
   ]
  },
  {
   "cell_type": "code",
   "execution_count": 55,
   "metadata": {},
   "outputs": [],
   "source": [
    "#gb_rmf_dataframe[gb_rmf_dataframe==111][:5]"
   ]
  },
  {
   "cell_type": "markdown",
   "metadata": {},
   "source": [
    "Summary Metrics per RFM Score\n"
   ]
  },
  {
   "cell_type": "code",
   "execution_count": 56,
   "metadata": {},
   "outputs": [
    {
     "data": {
      "text/html": [
       "<div>\n",
       "<style scoped>\n",
       "    .dataframe tbody tr th:only-of-type {\n",
       "        vertical-align: middle;\n",
       "    }\n",
       "\n",
       "    .dataframe tbody tr th {\n",
       "        vertical-align: top;\n",
       "    }\n",
       "\n",
       "    .dataframe thead tr th {\n",
       "        text-align: left;\n",
       "    }\n",
       "\n",
       "    .dataframe thead tr:last-of-type th {\n",
       "        text-align: right;\n",
       "    }\n",
       "</style>\n",
       "<table border=\"1\" class=\"dataframe\">\n",
       "  <thead>\n",
       "    <tr>\n",
       "      <th></th>\n",
       "      <th>Recency</th>\n",
       "      <th>Frequency</th>\n",
       "      <th colspan=\"2\" halign=\"left\">MonetaryValue</th>\n",
       "    </tr>\n",
       "    <tr>\n",
       "      <th></th>\n",
       "      <th>mean</th>\n",
       "      <th>mean</th>\n",
       "      <th>mean</th>\n",
       "      <th>count</th>\n",
       "    </tr>\n",
       "    <tr>\n",
       "      <th>RFM_Score</th>\n",
       "      <th></th>\n",
       "      <th></th>\n",
       "      <th></th>\n",
       "      <th></th>\n",
       "    </tr>\n",
       "  </thead>\n",
       "  <tbody>\n",
       "    <tr>\n",
       "      <th>3.0</th>\n",
       "      <td>90.4</td>\n",
       "      <td>3.1</td>\n",
       "      <td>379.9</td>\n",
       "      <td>2638</td>\n",
       "    </tr>\n",
       "    <tr>\n",
       "      <th>4.0</th>\n",
       "      <td>64.6</td>\n",
       "      <td>4.9</td>\n",
       "      <td>739.1</td>\n",
       "      <td>2898</td>\n",
       "    </tr>\n",
       "    <tr>\n",
       "      <th>5.0</th>\n",
       "      <td>55.5</td>\n",
       "      <td>6.9</td>\n",
       "      <td>1354.4</td>\n",
       "      <td>3312</td>\n",
       "    </tr>\n",
       "    <tr>\n",
       "      <th>6.0</th>\n",
       "      <td>43.4</td>\n",
       "      <td>9.2</td>\n",
       "      <td>2833.9</td>\n",
       "      <td>3960</td>\n",
       "    </tr>\n",
       "    <tr>\n",
       "      <th>7.0</th>\n",
       "      <td>39.1</td>\n",
       "      <td>13.5</td>\n",
       "      <td>20457.6</td>\n",
       "      <td>3492</td>\n",
       "    </tr>\n",
       "    <tr>\n",
       "      <th>8.0</th>\n",
       "      <td>30.6</td>\n",
       "      <td>18.3</td>\n",
       "      <td>9064.2</td>\n",
       "      <td>3541</td>\n",
       "    </tr>\n",
       "    <tr>\n",
       "      <th>9.0</th>\n",
       "      <td>23.2</td>\n",
       "      <td>24.9</td>\n",
       "      <td>23789.4</td>\n",
       "      <td>3374</td>\n",
       "    </tr>\n",
       "    <tr>\n",
       "      <th>10.0</th>\n",
       "      <td>18.2</td>\n",
       "      <td>37.0</td>\n",
       "      <td>20721.6</td>\n",
       "      <td>3214</td>\n",
       "    </tr>\n",
       "    <tr>\n",
       "      <th>11.0</th>\n",
       "      <td>10.9</td>\n",
       "      <td>55.9</td>\n",
       "      <td>138200.3</td>\n",
       "      <td>3018</td>\n",
       "    </tr>\n",
       "    <tr>\n",
       "      <th>12.0</th>\n",
       "      <td>4.1</td>\n",
       "      <td>89.5</td>\n",
       "      <td>44694.4</td>\n",
       "      <td>2819</td>\n",
       "    </tr>\n",
       "  </tbody>\n",
       "</table>\n",
       "</div>"
      ],
      "text/plain": [
       "          Recency Frequency MonetaryValue      \n",
       "             mean      mean          mean count\n",
       "RFM_Score                                      \n",
       "3.0          90.4       3.1         379.9  2638\n",
       "4.0          64.6       4.9         739.1  2898\n",
       "5.0          55.5       6.9        1354.4  3312\n",
       "6.0          43.4       9.2        2833.9  3960\n",
       "7.0          39.1      13.5       20457.6  3492\n",
       "8.0          30.6      18.3        9064.2  3541\n",
       "9.0          23.2      24.9       23789.4  3374\n",
       "10.0         18.2      37.0       20721.6  3214\n",
       "11.0         10.9      55.9      138200.3  3018\n",
       "12.0          4.1      89.5       44694.4  2819"
      ]
     },
     "execution_count": 56,
     "metadata": {},
     "output_type": "execute_result"
    }
   ],
   "source": [
    "rmf_dataframe.groupby('RFM_Score').agg({'Recency':'mean',\n",
    "    'Frequency':'mean','MonetaryValue':['mean','count']}).round(1)"
   ]
  },
  {
   "cell_type": "markdown",
   "metadata": {},
   "source": [
    "*Use RFM score to group customers into Gold,Silver,and Bronze segments for easier interpretation.*"
   ]
  },
  {
   "cell_type": "code",
   "execution_count": 57,
   "metadata": {},
   "outputs": [],
   "source": [
    "def segment_me(df):\n",
    "    if df['RFM_Score']>=9:\n",
    "        return 'Gold'\n",
    "    elif (df['RFM_Score']>=5) and (df['RFM_Score']<9):\n",
    "        return 'Silver'\n",
    "    else:\n",
    "        return 'Bronze'"
   ]
  },
  {
   "cell_type": "code",
   "execution_count": 58,
   "metadata": {},
   "outputs": [],
   "source": [
    "rmf_dataframe['General_Segment']=rmf_dataframe.apply(segment_me,axis=1)"
   ]
  },
  {
   "cell_type": "code",
   "execution_count": 59,
   "metadata": {},
   "outputs": [
    {
     "data": {
      "text/html": [
       "<div>\n",
       "<style scoped>\n",
       "    .dataframe tbody tr th:only-of-type {\n",
       "        vertical-align: middle;\n",
       "    }\n",
       "\n",
       "    .dataframe tbody tr th {\n",
       "        vertical-align: top;\n",
       "    }\n",
       "\n",
       "    .dataframe thead th {\n",
       "        text-align: right;\n",
       "    }\n",
       "</style>\n",
       "<table border=\"1\" class=\"dataframe\">\n",
       "  <thead>\n",
       "    <tr style=\"text-align: right;\">\n",
       "      <th></th>\n",
       "      <th>Recency</th>\n",
       "      <th>Frequency</th>\n",
       "      <th>MonetaryValue</th>\n",
       "      <th>R</th>\n",
       "      <th>F</th>\n",
       "      <th>M</th>\n",
       "      <th>RFM_Segment</th>\n",
       "      <th>RFM_Score</th>\n",
       "      <th>General_Segment</th>\n",
       "    </tr>\n",
       "    <tr>\n",
       "      <th>customer_id</th>\n",
       "      <th></th>\n",
       "      <th></th>\n",
       "      <th></th>\n",
       "      <th></th>\n",
       "      <th></th>\n",
       "      <th></th>\n",
       "      <th></th>\n",
       "      <th></th>\n",
       "      <th></th>\n",
       "    </tr>\n",
       "  </thead>\n",
       "  <tbody>\n",
       "    <tr>\n",
       "      <th>00001069</th>\n",
       "      <td>19</td>\n",
       "      <td>11</td>\n",
       "      <td>2660</td>\n",
       "      <td>3</td>\n",
       "      <td>2</td>\n",
       "      <td>2</td>\n",
       "      <td>322</td>\n",
       "      <td>7.0</td>\n",
       "      <td>Silver</td>\n",
       "    </tr>\n",
       "    <tr>\n",
       "      <th>00001113</th>\n",
       "      <td>54</td>\n",
       "      <td>18</td>\n",
       "      <td>3209</td>\n",
       "      <td>2</td>\n",
       "      <td>3</td>\n",
       "      <td>3</td>\n",
       "      <td>233</td>\n",
       "      <td>8.0</td>\n",
       "      <td>Silver</td>\n",
       "    </tr>\n",
       "    <tr>\n",
       "      <th>00001250</th>\n",
       "      <td>19</td>\n",
       "      <td>14</td>\n",
       "      <td>1795</td>\n",
       "      <td>3</td>\n",
       "      <td>2</td>\n",
       "      <td>2</td>\n",
       "      <td>322</td>\n",
       "      <td>7.0</td>\n",
       "      <td>Silver</td>\n",
       "    </tr>\n",
       "    <tr>\n",
       "      <th>00001359</th>\n",
       "      <td>87</td>\n",
       "      <td>3</td>\n",
       "      <td>602</td>\n",
       "      <td>1</td>\n",
       "      <td>1</td>\n",
       "      <td>1</td>\n",
       "      <td>111</td>\n",
       "      <td>3.0</td>\n",
       "      <td>Bronze</td>\n",
       "    </tr>\n",
       "    <tr>\n",
       "      <th>00001823</th>\n",
       "      <td>36</td>\n",
       "      <td>14</td>\n",
       "      <td>6053</td>\n",
       "      <td>2</td>\n",
       "      <td>2</td>\n",
       "      <td>3</td>\n",
       "      <td>223</td>\n",
       "      <td>7.0</td>\n",
       "      <td>Silver</td>\n",
       "    </tr>\n",
       "  </tbody>\n",
       "</table>\n",
       "</div>"
      ],
      "text/plain": [
       "             Recency  Frequency  MonetaryValue  R  F  M RFM_Segment  \\\n",
       "customer_id                                                           \n",
       "00001069          19         11           2660  3  2  2         322   \n",
       "00001113          54         18           3209  2  3  3         233   \n",
       "00001250          19         14           1795  3  2  2         322   \n",
       "00001359          87          3            602  1  1  1         111   \n",
       "00001823          36         14           6053  2  2  3         223   \n",
       "\n",
       "             RFM_Score General_Segment  \n",
       "customer_id                             \n",
       "00001069           7.0          Silver  \n",
       "00001113           8.0          Silver  \n",
       "00001250           7.0          Silver  \n",
       "00001359           3.0          Bronze  \n",
       "00001823           7.0          Silver  "
      ]
     },
     "execution_count": 59,
     "metadata": {},
     "output_type": "execute_result"
    }
   ],
   "source": [
    "rmf_dataframe.head(5)"
   ]
  },
  {
   "cell_type": "code",
   "execution_count": 60,
   "metadata": {},
   "outputs": [
    {
     "data": {
      "text/html": [
       "<div>\n",
       "<style scoped>\n",
       "    .dataframe tbody tr th:only-of-type {\n",
       "        vertical-align: middle;\n",
       "    }\n",
       "\n",
       "    .dataframe tbody tr th {\n",
       "        vertical-align: top;\n",
       "    }\n",
       "\n",
       "    .dataframe thead tr th {\n",
       "        text-align: left;\n",
       "    }\n",
       "\n",
       "    .dataframe thead tr:last-of-type th {\n",
       "        text-align: right;\n",
       "    }\n",
       "</style>\n",
       "<table border=\"1\" class=\"dataframe\">\n",
       "  <thead>\n",
       "    <tr>\n",
       "      <th></th>\n",
       "      <th>Recency</th>\n",
       "      <th>Frequency</th>\n",
       "      <th colspan=\"2\" halign=\"left\">MonetaryValue</th>\n",
       "    </tr>\n",
       "    <tr>\n",
       "      <th></th>\n",
       "      <th>mean</th>\n",
       "      <th>mean</th>\n",
       "      <th>mean</th>\n",
       "      <th>count</th>\n",
       "    </tr>\n",
       "    <tr>\n",
       "      <th>General_Segment</th>\n",
       "      <th></th>\n",
       "      <th></th>\n",
       "      <th></th>\n",
       "      <th></th>\n",
       "    </tr>\n",
       "  </thead>\n",
       "  <tbody>\n",
       "    <tr>\n",
       "      <th>Bronze</th>\n",
       "      <td>76.9</td>\n",
       "      <td>4.0</td>\n",
       "      <td>568.0</td>\n",
       "      <td>5536</td>\n",
       "    </tr>\n",
       "    <tr>\n",
       "      <th>Gold</th>\n",
       "      <td>14.6</td>\n",
       "      <td>50.2</td>\n",
       "      <td>55528.9</td>\n",
       "      <td>12425</td>\n",
       "    </tr>\n",
       "    <tr>\n",
       "      <th>Silver</th>\n",
       "      <td>42.0</td>\n",
       "      <td>12.0</td>\n",
       "      <td>8335.7</td>\n",
       "      <td>14305</td>\n",
       "    </tr>\n",
       "  </tbody>\n",
       "</table>\n",
       "</div>"
      ],
      "text/plain": [
       "                Recency Frequency MonetaryValue       \n",
       "                   mean      mean          mean  count\n",
       "General_Segment                                       \n",
       "Bronze             76.9       4.0         568.0   5536\n",
       "Gold               14.6      50.2       55528.9  12425\n",
       "Silver             42.0      12.0        8335.7  14305"
      ]
     },
     "execution_count": 60,
     "metadata": {},
     "output_type": "execute_result"
    }
   ],
   "source": [
    "rmf_dataframe.groupby('General_Segment').agg({'Recency':'mean',\n",
    "    'Frequency':'mean','MonetaryValue':['mean','count']}).round(1)"
   ]
  },
  {
   "cell_type": "markdown",
   "metadata": {},
   "source": [
    "## Segmentation Solution Using K-means"
   ]
  },
  {
   "cell_type": "code",
   "execution_count": 61,
   "metadata": {},
   "outputs": [
    {
     "data": {
      "text/html": [
       "<div>\n",
       "<style scoped>\n",
       "    .dataframe tbody tr th:only-of-type {\n",
       "        vertical-align: middle;\n",
       "    }\n",
       "\n",
       "    .dataframe tbody tr th {\n",
       "        vertical-align: top;\n",
       "    }\n",
       "\n",
       "    .dataframe thead th {\n",
       "        text-align: right;\n",
       "    }\n",
       "</style>\n",
       "<table border=\"1\" class=\"dataframe\">\n",
       "  <thead>\n",
       "    <tr style=\"text-align: right;\">\n",
       "      <th></th>\n",
       "      <th>transaction_dt</th>\n",
       "      <th>customer_id</th>\n",
       "      <th>age_int</th>\n",
       "      <th>product_subclass</th>\n",
       "      <th>product_id</th>\n",
       "      <th>pin_code_int</th>\n",
       "      <th>asset</th>\n",
       "      <th>amount</th>\n",
       "      <th>sales_price</th>\n",
       "      <th>transaction_mo</th>\n",
       "      <th>cohort_mo</th>\n",
       "      <th>cohort_index</th>\n",
       "    </tr>\n",
       "  </thead>\n",
       "  <tbody>\n",
       "    <tr>\n",
       "      <th>0</th>\n",
       "      <td>2000-11-13</td>\n",
       "      <td>00001069</td>\n",
       "      <td>11</td>\n",
       "      <td>100314</td>\n",
       "      <td>4710176008699</td>\n",
       "      <td>5</td>\n",
       "      <td>78</td>\n",
       "      <td>1</td>\n",
       "      <td>98</td>\n",
       "      <td>2000-11-01</td>\n",
       "      <td>2000-11-01</td>\n",
       "      <td>1</td>\n",
       "    </tr>\n",
       "    <tr>\n",
       "      <th>1</th>\n",
       "      <td>2000-11-13</td>\n",
       "      <td>00001069</td>\n",
       "      <td>11</td>\n",
       "      <td>100205</td>\n",
       "      <td>9556439880610</td>\n",
       "      <td>5</td>\n",
       "      <td>80</td>\n",
       "      <td>1</td>\n",
       "      <td>89</td>\n",
       "      <td>2000-11-01</td>\n",
       "      <td>2000-11-01</td>\n",
       "      <td>1</td>\n",
       "    </tr>\n",
       "    <tr>\n",
       "      <th>2</th>\n",
       "      <td>2001-01-21</td>\n",
       "      <td>00001069</td>\n",
       "      <td>11</td>\n",
       "      <td>110333</td>\n",
       "      <td>4710320224661</td>\n",
       "      <td>5</td>\n",
       "      <td>361</td>\n",
       "      <td>1</td>\n",
       "      <td>425</td>\n",
       "      <td>2001-01-01</td>\n",
       "      <td>2000-11-01</td>\n",
       "      <td>3</td>\n",
       "    </tr>\n",
       "    <tr>\n",
       "      <th>3</th>\n",
       "      <td>2001-01-21</td>\n",
       "      <td>00001069</td>\n",
       "      <td>11</td>\n",
       "      <td>100311</td>\n",
       "      <td>4710022101208</td>\n",
       "      <td>5</td>\n",
       "      <td>197</td>\n",
       "      <td>1</td>\n",
       "      <td>198</td>\n",
       "      <td>2001-01-01</td>\n",
       "      <td>2000-11-01</td>\n",
       "      <td>3</td>\n",
       "    </tr>\n",
       "    <tr>\n",
       "      <th>4</th>\n",
       "      <td>2001-01-21</td>\n",
       "      <td>00001069</td>\n",
       "      <td>11</td>\n",
       "      <td>110333</td>\n",
       "      <td>4712603661644</td>\n",
       "      <td>5</td>\n",
       "      <td>313</td>\n",
       "      <td>1</td>\n",
       "      <td>348</td>\n",
       "      <td>2001-01-01</td>\n",
       "      <td>2000-11-01</td>\n",
       "      <td>3</td>\n",
       "    </tr>\n",
       "    <tr>\n",
       "      <th>5</th>\n",
       "      <td>2001-02-03</td>\n",
       "      <td>00001069</td>\n",
       "      <td>11</td>\n",
       "      <td>100101</td>\n",
       "      <td>22000167620</td>\n",
       "      <td>5</td>\n",
       "      <td>216</td>\n",
       "      <td>2</td>\n",
       "      <td>192</td>\n",
       "      <td>2001-02-01</td>\n",
       "      <td>2000-11-01</td>\n",
       "      <td>4</td>\n",
       "    </tr>\n",
       "    <tr>\n",
       "      <th>6</th>\n",
       "      <td>2001-02-03</td>\n",
       "      <td>00001069</td>\n",
       "      <td>11</td>\n",
       "      <td>120106</td>\n",
       "      <td>4710011402026</td>\n",
       "      <td>5</td>\n",
       "      <td>44</td>\n",
       "      <td>2</td>\n",
       "      <td>46</td>\n",
       "      <td>2001-02-01</td>\n",
       "      <td>2000-11-01</td>\n",
       "      <td>4</td>\n",
       "    </tr>\n",
       "    <tr>\n",
       "      <th>7</th>\n",
       "      <td>2001-02-03</td>\n",
       "      <td>00001069</td>\n",
       "      <td>11</td>\n",
       "      <td>110117</td>\n",
       "      <td>4903101125107</td>\n",
       "      <td>5</td>\n",
       "      <td>108</td>\n",
       "      <td>2</td>\n",
       "      <td>58</td>\n",
       "      <td>2001-02-01</td>\n",
       "      <td>2000-11-01</td>\n",
       "      <td>4</td>\n",
       "    </tr>\n",
       "    <tr>\n",
       "      <th>8</th>\n",
       "      <td>2001-02-03</td>\n",
       "      <td>00001069</td>\n",
       "      <td>11</td>\n",
       "      <td>110108</td>\n",
       "      <td>4710088620156</td>\n",
       "      <td>5</td>\n",
       "      <td>154</td>\n",
       "      <td>2</td>\n",
       "      <td>130</td>\n",
       "      <td>2001-02-01</td>\n",
       "      <td>2000-11-01</td>\n",
       "      <td>4</td>\n",
       "    </tr>\n",
       "    <tr>\n",
       "      <th>9</th>\n",
       "      <td>2001-02-03</td>\n",
       "      <td>00001069</td>\n",
       "      <td>11</td>\n",
       "      <td>100314</td>\n",
       "      <td>4710176008699</td>\n",
       "      <td>5</td>\n",
       "      <td>78</td>\n",
       "      <td>1</td>\n",
       "      <td>70</td>\n",
       "      <td>2001-02-01</td>\n",
       "      <td>2000-11-01</td>\n",
       "      <td>4</td>\n",
       "    </tr>\n",
       "    <tr>\n",
       "      <th>10</th>\n",
       "      <td>2001-02-10</td>\n",
       "      <td>00001069</td>\n",
       "      <td>11</td>\n",
       "      <td>110217</td>\n",
       "      <td>4712162000038</td>\n",
       "      <td>5</td>\n",
       "      <td>300</td>\n",
       "      <td>2</td>\n",
       "      <td>290</td>\n",
       "      <td>2001-02-01</td>\n",
       "      <td>2000-11-01</td>\n",
       "      <td>4</td>\n",
       "    </tr>\n",
       "    <tr>\n",
       "      <th>11</th>\n",
       "      <td>2000-11-12</td>\n",
       "      <td>00001113</td>\n",
       "      <td>11</td>\n",
       "      <td>110106</td>\n",
       "      <td>4711271000014</td>\n",
       "      <td>6</td>\n",
       "      <td>28</td>\n",
       "      <td>2</td>\n",
       "      <td>29</td>\n",
       "      <td>2000-11-01</td>\n",
       "      <td>2000-11-01</td>\n",
       "      <td>1</td>\n",
       "    </tr>\n",
       "    <tr>\n",
       "      <th>12</th>\n",
       "      <td>2000-11-12</td>\n",
       "      <td>00001113</td>\n",
       "      <td>11</td>\n",
       "      <td>110401</td>\n",
       "      <td>4902105011621</td>\n",
       "      <td>6</td>\n",
       "      <td>309</td>\n",
       "      <td>3</td>\n",
       "      <td>391</td>\n",
       "      <td>2000-11-01</td>\n",
       "      <td>2000-11-01</td>\n",
       "      <td>1</td>\n",
       "    </tr>\n",
       "    <tr>\n",
       "      <th>13</th>\n",
       "      <td>2000-11-26</td>\n",
       "      <td>00001113</td>\n",
       "      <td>11</td>\n",
       "      <td>110401</td>\n",
       "      <td>4902105011621</td>\n",
       "      <td>6</td>\n",
       "      <td>103</td>\n",
       "      <td>1</td>\n",
       "      <td>111</td>\n",
       "      <td>2000-11-01</td>\n",
       "      <td>2000-11-01</td>\n",
       "      <td>1</td>\n",
       "    </tr>\n",
       "    <tr>\n",
       "      <th>14</th>\n",
       "      <td>2000-11-26</td>\n",
       "      <td>00001113</td>\n",
       "      <td>11</td>\n",
       "      <td>100436</td>\n",
       "      <td>7616100830794</td>\n",
       "      <td>6</td>\n",
       "      <td>262</td>\n",
       "      <td>1</td>\n",
       "      <td>268</td>\n",
       "      <td>2000-11-01</td>\n",
       "      <td>2000-11-01</td>\n",
       "      <td>1</td>\n",
       "    </tr>\n",
       "  </tbody>\n",
       "</table>\n",
       "</div>"
      ],
      "text/plain": [
       "   transaction_dt customer_id  age_int  product_subclass     product_id  \\\n",
       "0      2000-11-13    00001069       11            100314  4710176008699   \n",
       "1      2000-11-13    00001069       11            100205  9556439880610   \n",
       "2      2001-01-21    00001069       11            110333  4710320224661   \n",
       "3      2001-01-21    00001069       11            100311  4710022101208   \n",
       "4      2001-01-21    00001069       11            110333  4712603661644   \n",
       "5      2001-02-03    00001069       11            100101    22000167620   \n",
       "6      2001-02-03    00001069       11            120106  4710011402026   \n",
       "7      2001-02-03    00001069       11            110117  4903101125107   \n",
       "8      2001-02-03    00001069       11            110108  4710088620156   \n",
       "9      2001-02-03    00001069       11            100314  4710176008699   \n",
       "10     2001-02-10    00001069       11            110217  4712162000038   \n",
       "11     2000-11-12    00001113       11            110106  4711271000014   \n",
       "12     2000-11-12    00001113       11            110401  4902105011621   \n",
       "13     2000-11-26    00001113       11            110401  4902105011621   \n",
       "14     2000-11-26    00001113       11            100436  7616100830794   \n",
       "\n",
       "    pin_code_int  asset  amount  sales_price transaction_mo  cohort_mo  \\\n",
       "0              5     78       1           98     2000-11-01 2000-11-01   \n",
       "1              5     80       1           89     2000-11-01 2000-11-01   \n",
       "2              5    361       1          425     2001-01-01 2000-11-01   \n",
       "3              5    197       1          198     2001-01-01 2000-11-01   \n",
       "4              5    313       1          348     2001-01-01 2000-11-01   \n",
       "5              5    216       2          192     2001-02-01 2000-11-01   \n",
       "6              5     44       2           46     2001-02-01 2000-11-01   \n",
       "7              5    108       2           58     2001-02-01 2000-11-01   \n",
       "8              5    154       2          130     2001-02-01 2000-11-01   \n",
       "9              5     78       1           70     2001-02-01 2000-11-01   \n",
       "10             5    300       2          290     2001-02-01 2000-11-01   \n",
       "11             6     28       2           29     2000-11-01 2000-11-01   \n",
       "12             6    309       3          391     2000-11-01 2000-11-01   \n",
       "13             6    103       1          111     2000-11-01 2000-11-01   \n",
       "14             6    262       1          268     2000-11-01 2000-11-01   \n",
       "\n",
       "    cohort_index  \n",
       "0              1  \n",
       "1              1  \n",
       "2              3  \n",
       "3              3  \n",
       "4              3  \n",
       "5              4  \n",
       "6              4  \n",
       "7              4  \n",
       "8              4  \n",
       "9              4  \n",
       "10             4  \n",
       "11             1  \n",
       "12             1  \n",
       "13             1  \n",
       "14             1  "
      ]
     },
     "execution_count": 61,
     "metadata": {},
     "output_type": "execute_result"
    }
   ],
   "source": [
    "rmf_minimized_set=minimized_set[['product_id','amount','transaction_dt','sales_price','customer_id']]\n",
    "rmf_minimized_set['total_sum']=rmf_minimized_set['sales_price']*minimized_set['amount']\n",
    "sorted_minimized_set=minimized_set.sort_values(by=['customer_id','transaction_dt']).head(15)\n",
    "sorted_minimized_set"
   ]
  },
  {
   "cell_type": "code",
   "execution_count": 62,
   "metadata": {},
   "outputs": [
    {
     "data": {
      "text/plain": [
       "Timestamp('2001-03-01 00:00:00')"
      ]
     },
     "execution_count": 62,
     "metadata": {},
     "output_type": "execute_result"
    }
   ],
   "source": [
    "snapshot_date=max(rmf_minimized_set.transaction_dt)+dt.timedelta(days=1)\n",
    "snapshot_date"
   ]
  },
  {
   "cell_type": "markdown",
   "metadata": {},
   "source": [
    "Adding Tenure"
   ]
  },
  {
   "cell_type": "code",
   "execution_count": 63,
   "metadata": {},
   "outputs": [],
   "source": [
    "dataframe_rfmt=rmf_minimized_set\n",
    "dataframe_rfmt['transaction_dt_temp']=dataframe_rfmt['transaction_dt']\n",
    "\n",
    "#Aggregate data on a customer level \n",
    "dataframe_rfmt=rmf_minimized_set.groupby(['customer_id']).agg({\n",
    "    'transaction_dt':lambda x: (snapshot_date-x.max()).days,\n",
    "    'product_id':'count',\n",
    "    'total_sum':'sum',\n",
    "    'transaction_dt_temp':lambda x: (x.max()-x.min()).days})"
   ]
  },
  {
   "cell_type": "code",
   "execution_count": 64,
   "metadata": {},
   "outputs": [],
   "source": [
    "#Rename columns for easier interpretation\n",
    "dataframe_rfmt.rename(columns={'transaction_dt':'Recency',\n",
    "                         'product_id':'Frequency',\n",
    "                         'total_sum':'MonetaryValue',\n",
    "                        'transaction_dt_temp':'Tenure'},inplace=True)\n",
    "\n",
    "dataframe_rfmt['Tenure']=dataframe_rfmt['Tenure']+1"
   ]
  },
  {
   "cell_type": "markdown",
   "metadata": {},
   "source": [
    "Pre-process data"
   ]
  },
  {
   "cell_type": "code",
   "execution_count": 65,
   "metadata": {},
   "outputs": [],
   "source": [
    "# Import StandardScaler \n",
    "from sklearn.preprocessing import StandardScaler\n",
    "\n",
    "# Apply log transformation\n",
    "dataframe_rfmt_log = np.log(dataframe_rfmt)"
   ]
  },
  {
   "cell_type": "code",
   "execution_count": 66,
   "metadata": {},
   "outputs": [
    {
     "data": {
      "text/html": [
       "<div>\n",
       "<style scoped>\n",
       "    .dataframe tbody tr th:only-of-type {\n",
       "        vertical-align: middle;\n",
       "    }\n",
       "\n",
       "    .dataframe tbody tr th {\n",
       "        vertical-align: top;\n",
       "    }\n",
       "\n",
       "    .dataframe thead th {\n",
       "        text-align: right;\n",
       "    }\n",
       "</style>\n",
       "<table border=\"1\" class=\"dataframe\">\n",
       "  <thead>\n",
       "    <tr style=\"text-align: right;\">\n",
       "      <th></th>\n",
       "      <th>Recency</th>\n",
       "      <th>Frequency</th>\n",
       "      <th>MonetaryValue</th>\n",
       "      <th>Tenure</th>\n",
       "    </tr>\n",
       "    <tr>\n",
       "      <th>customer_id</th>\n",
       "      <th></th>\n",
       "      <th></th>\n",
       "      <th></th>\n",
       "      <th></th>\n",
       "    </tr>\n",
       "  </thead>\n",
       "  <tbody>\n",
       "    <tr>\n",
       "      <th>00001069</th>\n",
       "      <td>2.944439</td>\n",
       "      <td>2.397895</td>\n",
       "      <td>7.886081</td>\n",
       "      <td>4.499810</td>\n",
       "    </tr>\n",
       "    <tr>\n",
       "      <th>00001113</th>\n",
       "      <td>3.988984</td>\n",
       "      <td>2.890372</td>\n",
       "      <td>8.073715</td>\n",
       "      <td>4.025352</td>\n",
       "    </tr>\n",
       "    <tr>\n",
       "      <th>00001250</th>\n",
       "      <td>2.944439</td>\n",
       "      <td>2.639057</td>\n",
       "      <td>7.492760</td>\n",
       "      <td>1.945910</td>\n",
       "    </tr>\n",
       "    <tr>\n",
       "      <th>00001359</th>\n",
       "      <td>4.465908</td>\n",
       "      <td>1.098612</td>\n",
       "      <td>6.400257</td>\n",
       "      <td>0.000000</td>\n",
       "    </tr>\n",
       "    <tr>\n",
       "      <th>00001823</th>\n",
       "      <td>3.583519</td>\n",
       "      <td>2.639057</td>\n",
       "      <td>8.708309</td>\n",
       "      <td>4.430817</td>\n",
       "    </tr>\n",
       "  </tbody>\n",
       "</table>\n",
       "</div>"
      ],
      "text/plain": [
       "              Recency  Frequency  MonetaryValue    Tenure\n",
       "customer_id                                              \n",
       "00001069     2.944439   2.397895       7.886081  4.499810\n",
       "00001113     3.988984   2.890372       8.073715  4.025352\n",
       "00001250     2.944439   2.639057       7.492760  1.945910\n",
       "00001359     4.465908   1.098612       6.400257  0.000000\n",
       "00001823     3.583519   2.639057       8.708309  4.430817"
      ]
     },
     "execution_count": 66,
     "metadata": {},
     "output_type": "execute_result"
    }
   ],
   "source": [
    "dataframe_rfmt_log.head()"
   ]
  },
  {
   "cell_type": "code",
   "execution_count": 67,
   "metadata": {},
   "outputs": [],
   "source": [
    "# Initialize StandardScaler and fit it \n",
    "scaler = StandardScaler(); scaler.fit(dataframe_rfmt_log)\n",
    "\n",
    "# Transform and store the scaled data as datamart_rfmt_normalized\n",
    "dataframe_rfmt_normalized = scaler.transform(dataframe_rfmt_log)"
   ]
  },
  {
   "cell_type": "markdown",
   "metadata": {},
   "source": [
    "Calculate and plot sum of squared errors"
   ]
  },
  {
   "cell_type": "code",
   "execution_count": 68,
   "metadata": {},
   "outputs": [
    {
     "data": {
      "image/png": "[encoded data removed]",
      "text/plain": [
       "<Figure size 432x288 with 1 Axes>"
      ]
     },
     "metadata": {},
     "output_type": "display_data"
    }
   ],
   "source": [
    "# Import KMeans \n",
    "from sklearn.cluster import KMeans\n",
    "sse={}\n",
    "# Fit KMeans and calculate SSE for each k between 1 and 10\n",
    "for k in range(1, 11):\n",
    "  \n",
    "    # Initialize KMeans with k clusters and fit it \n",
    "    kmeans = KMeans(n_clusters=k, random_state=1).fit(dataframe_rfmt_normalized)\n",
    "    \n",
    "    # Assign sum of squared distances to k element of the sse dictionary\n",
    "    sse[k] = kmeans.inertia_   \n",
    "\n",
    "# Add the plot title, x and y axis labels\n",
    "plt.title('The Elbow Method'); plt.xlabel('k'); plt.ylabel('SSE')\n",
    "\n",
    "# Plot SSE values for each k stored as keys in the dictionary\n",
    "sns.pointplot(x=list(sse.keys()), y=list(sse.values()))\n",
    "plt.show()"
   ]
  },
  {
   "cell_type": "code",
   "execution_count": 69,
   "metadata": {},
   "outputs": [],
   "source": [
    "# Initialize KMeans\n",
    "kmeans = KMeans(n_clusters=3, random_state=1) \n",
    "\n",
    "# Fit k-means clustering on the normalized data set\n",
    "kmeans.fit(dataframe_rfmt_normalized)\n",
    "\n",
    "# Extract cluster labels\n",
    "cluster_labels = kmeans.labels_"
   ]
  },
  {
   "cell_type": "markdown",
   "metadata": {},
   "source": [
    "Analyze the segments"
   ]
  },
  {
   "cell_type": "code",
   "execution_count": 70,
   "metadata": {},
   "outputs": [
    {
     "data": {
      "text/html": [
       "<div>\n",
       "<style scoped>\n",
       "    .dataframe tbody tr th:only-of-type {\n",
       "        vertical-align: middle;\n",
       "    }\n",
       "\n",
       "    .dataframe tbody tr th {\n",
       "        vertical-align: top;\n",
       "    }\n",
       "\n",
       "    .dataframe thead tr th {\n",
       "        text-align: left;\n",
       "    }\n",
       "\n",
       "    .dataframe thead tr:last-of-type th {\n",
       "        text-align: right;\n",
       "    }\n",
       "</style>\n",
       "<table border=\"1\" class=\"dataframe\">\n",
       "  <thead>\n",
       "    <tr>\n",
       "      <th></th>\n",
       "      <th>Recency</th>\n",
       "      <th>Frequency</th>\n",
       "      <th>MonetaryValue</th>\n",
       "      <th colspan=\"2\" halign=\"left\">Tenure</th>\n",
       "    </tr>\n",
       "    <tr>\n",
       "      <th></th>\n",
       "      <th>mean</th>\n",
       "      <th>mean</th>\n",
       "      <th>mean</th>\n",
       "      <th>mean</th>\n",
       "      <th>count</th>\n",
       "    </tr>\n",
       "    <tr>\n",
       "      <th>Cluster</th>\n",
       "      <th></th>\n",
       "      <th></th>\n",
       "      <th></th>\n",
       "      <th></th>\n",
       "      <th></th>\n",
       "    </tr>\n",
       "  </thead>\n",
       "  <tbody>\n",
       "    <tr>\n",
       "      <th>0</th>\n",
       "      <td>60.0</td>\n",
       "      <td>7.3</td>\n",
       "      <td>1760.3</td>\n",
       "      <td>2.2</td>\n",
       "      <td>12550</td>\n",
       "    </tr>\n",
       "    <tr>\n",
       "      <th>1</th>\n",
       "      <td>34.3</td>\n",
       "      <td>20.2</td>\n",
       "      <td>4958.7</td>\n",
       "      <td>55.8</td>\n",
       "      <td>11256</td>\n",
       "    </tr>\n",
       "    <tr>\n",
       "      <th>2</th>\n",
       "      <td>8.0</td>\n",
       "      <td>59.0</td>\n",
       "      <td>86811.6</td>\n",
       "      <td>91.7</td>\n",
       "      <td>8460</td>\n",
       "    </tr>\n",
       "  </tbody>\n",
       "</table>\n",
       "</div>"
      ],
      "text/plain": [
       "        Recency Frequency MonetaryValue Tenure       \n",
       "           mean      mean          mean   mean  count\n",
       "Cluster                                              \n",
       "0          60.0       7.3        1760.3    2.2  12550\n",
       "1          34.3      20.2        4958.7   55.8  11256\n",
       "2           8.0      59.0       86811.6   91.7   8460"
      ]
     },
     "execution_count": 70,
     "metadata": {},
     "output_type": "execute_result"
    }
   ],
   "source": [
    "# Create a new DataFrame by adding a cluster label column to datamart_rfmt\n",
    "dataframe_rfmt_k3 = dataframe_rfmt.assign(Cluster=cluster_labels)\n",
    "\n",
    "# Group by cluster\n",
    "grouped = dataframe_rfmt_k3.groupby(['Cluster'])\n",
    "\n",
    "# Calculate average RFMT values and segment sizes for each cluster\n",
    "grouped.agg({\n",
    "    'Recency': 'mean',\n",
    "    'Frequency': 'mean',\n",
    "    'MonetaryValue': 'mean',\n",
    "    'Tenure': ['mean', 'count']\n",
    "  }).round(1)"
   ]
  },
  {
   "cell_type": "code",
   "execution_count": 71,
   "metadata": {},
   "outputs": [],
   "source": [
    "cluster_map=dataframe_rfmt_k3.reset_index()\n",
    "cluster_map=cluster_map[['customer_id','Cluster']]\n",
    "cluster_map=dict(zip(list(cluster_map.customer_id),list(cluster_map.Cluster)))"
   ]
  },
  {
   "cell_type": "markdown",
   "metadata": {},
   "source": [
    "_______________"
   ]
  },
  {
   "cell_type": "markdown",
   "metadata": {},
   "source": [
    "Working on Paper\n",
    "--------"
   ]
  },
  {
   "cell_type": "code",
   "execution_count": 561,
   "metadata": {},
   "outputs": [
    {
     "data": {
      "text/html": [
       "<div>\n",
       "<style scoped>\n",
       "    .dataframe tbody tr th:only-of-type {\n",
       "        vertical-align: middle;\n",
       "    }\n",
       "\n",
       "    .dataframe tbody tr th {\n",
       "        vertical-align: top;\n",
       "    }\n",
       "\n",
       "    .dataframe thead th {\n",
       "        text-align: right;\n",
       "    }\n",
       "</style>\n",
       "<table border=\"1\" class=\"dataframe\">\n",
       "  <thead>\n",
       "    <tr style=\"text-align: right;\">\n",
       "      <th></th>\n",
       "      <th>transaction_dt</th>\n",
       "      <th>customer_id</th>\n",
       "      <th>amount</th>\n",
       "      <th>total_sum</th>\n",
       "    </tr>\n",
       "  </thead>\n",
       "  <tbody>\n",
       "    <tr>\n",
       "      <th>0</th>\n",
       "      <td>2000-11-13</td>\n",
       "      <td>00001069</td>\n",
       "      <td>1</td>\n",
       "      <td>98</td>\n",
       "    </tr>\n",
       "    <tr>\n",
       "      <th>1</th>\n",
       "      <td>2000-11-13</td>\n",
       "      <td>00001069</td>\n",
       "      <td>1</td>\n",
       "      <td>89</td>\n",
       "    </tr>\n",
       "    <tr>\n",
       "      <th>2</th>\n",
       "      <td>2001-01-21</td>\n",
       "      <td>00001069</td>\n",
       "      <td>1</td>\n",
       "      <td>425</td>\n",
       "    </tr>\n",
       "  </tbody>\n",
       "</table>\n",
       "</div>"
      ],
      "text/plain": [
       "  transaction_dt customer_id  amount  total_sum\n",
       "0     2000-11-13    00001069       1         98\n",
       "1     2000-11-13    00001069       1         89\n",
       "2     2001-01-21    00001069       1        425"
      ]
     },
     "execution_count": 561,
     "metadata": {},
     "output_type": "execute_result"
    }
   ],
   "source": [
    "working_set=total_set[['transaction_dt','customer_id','amount','sales_price']]\n",
    "working_set['total_sum']=working_set['amount']*working_set['sales_price']\n",
    "working_set=working_set.drop('sales_price',axis=1)\n",
    "working_set.head(3)"
   ]
  },
  {
   "cell_type": "code",
   "execution_count": 562,
   "metadata": {},
   "outputs": [
    {
     "data": {
      "text/html": [
       "<div>\n",
       "<style scoped>\n",
       "    .dataframe tbody tr th:only-of-type {\n",
       "        vertical-align: middle;\n",
       "    }\n",
       "\n",
       "    .dataframe tbody tr th {\n",
       "        vertical-align: top;\n",
       "    }\n",
       "\n",
       "    .dataframe thead th {\n",
       "        text-align: right;\n",
       "    }\n",
       "</style>\n",
       "<table border=\"1\" class=\"dataframe\">\n",
       "  <thead>\n",
       "    <tr style=\"text-align: right;\">\n",
       "      <th></th>\n",
       "      <th></th>\n",
       "      <th>amount</th>\n",
       "      <th>total_sum</th>\n",
       "      <th>frequency</th>\n",
       "      <th>recency</th>\n",
       "      <th>monetary</th>\n",
       "    </tr>\n",
       "    <tr>\n",
       "      <th>customer_id</th>\n",
       "      <th>transaction_dt</th>\n",
       "      <th></th>\n",
       "      <th></th>\n",
       "      <th></th>\n",
       "      <th></th>\n",
       "      <th></th>\n",
       "    </tr>\n",
       "  </thead>\n",
       "  <tbody>\n",
       "    <tr>\n",
       "      <th rowspan=\"4\" valign=\"top\">00001069</th>\n",
       "      <th>2000-11-13</th>\n",
       "      <td>2</td>\n",
       "      <td>187</td>\n",
       "      <td>1</td>\n",
       "      <td>1</td>\n",
       "      <td>1</td>\n",
       "    </tr>\n",
       "    <tr>\n",
       "      <th>2001-01-21</th>\n",
       "      <td>3</td>\n",
       "      <td>971</td>\n",
       "      <td>1</td>\n",
       "      <td>1</td>\n",
       "      <td>1</td>\n",
       "    </tr>\n",
       "    <tr>\n",
       "      <th>2001-02-03</th>\n",
       "      <td>9</td>\n",
       "      <td>922</td>\n",
       "      <td>1</td>\n",
       "      <td>1</td>\n",
       "      <td>1</td>\n",
       "    </tr>\n",
       "    <tr>\n",
       "      <th>2001-02-10</th>\n",
       "      <td>2</td>\n",
       "      <td>580</td>\n",
       "      <td>1</td>\n",
       "      <td>1</td>\n",
       "      <td>1</td>\n",
       "    </tr>\n",
       "    <tr>\n",
       "      <th>00001113</th>\n",
       "      <th>2000-11-12</th>\n",
       "      <td>5</td>\n",
       "      <td>1231</td>\n",
       "      <td>1</td>\n",
       "      <td>1</td>\n",
       "      <td>1</td>\n",
       "    </tr>\n",
       "  </tbody>\n",
       "</table>\n",
       "</div>"
      ],
      "text/plain": [
       "                            amount  total_sum  frequency  recency  monetary\n",
       "customer_id transaction_dt                                                 \n",
       "00001069    2000-11-13           2        187          1        1         1\n",
       "            2001-01-21           3        971          1        1         1\n",
       "            2001-02-03           9        922          1        1         1\n",
       "            2001-02-10           2        580          1        1         1\n",
       "00001113    2000-11-12           5       1231          1        1         1"
      ]
     },
     "execution_count": 562,
     "metadata": {},
     "output_type": "execute_result"
    }
   ],
   "source": [
    "rmf_dataframe=working_set.groupby(['customer_id','transaction_dt']).sum()\n",
    "rmf_dataframe['frequency']=1\n",
    "rmf_dataframe['recency']=1\n",
    "rmf_dataframe['monetary']=1\n",
    "rmf_dataframe.head(5)"
   ]
  },
  {
   "cell_type": "code",
   "execution_count": 563,
   "metadata": {},
   "outputs": [],
   "source": [
    "lower_limit=total_set.transaction_dt.min()\n",
    "upper_limit=total_set.transaction_dt.max()\n",
    "\n",
    "def diff_days(start_day,end_day):  \n",
    "    delta = start_day - end_day\n",
    "    return delta.days"
   ]
  },
  {
   "cell_type": "markdown",
   "metadata": {},
   "source": [
    "Recency"
   ]
  },
  {
   "cell_type": "code",
   "execution_count": 564,
   "metadata": {},
   "outputs": [],
   "source": [
    "ident_ticker=[0]\n",
    "recency=[]\n",
    "frequency=[]\n",
    "monetary=[]\n",
    "summer=0\n",
    "counter=0"
   ]
  },
  {
   "cell_type": "code",
   "execution_count": 565,
   "metadata": {},
   "outputs": [],
   "source": [
    "for i in range(len(rmf_dataframe.index)):\n",
    "    customer_id=rmf_dataframe.index[i][0]\n",
    "    transaction_dt=rmf_dataframe.index[i][1].date()\n",
    "    ident_ticker.append(customer_id)\n",
    "    if ident_ticker[-2]!=customer_id:\n",
    "        \n",
    "        start_date=lower_limit.date()\n",
    "        end_date=transaction_dt\n",
    "        recency.append(diff_days(start_date,end_date))\n",
    "    else:\n",
    "        start_date=rmf_dataframe.index[i-1][1].date()\n",
    "        end_date=transaction_dt\n",
    "        recency.append(diff_days(start_date,end_date))\n",
    "        \n",
    "rmf_dataframe['recency']=recency"
   ]
  },
  {
   "cell_type": "markdown",
   "metadata": {},
   "source": [
    "Frequency"
   ]
  },
  {
   "cell_type": "code",
   "execution_count": 566,
   "metadata": {},
   "outputs": [],
   "source": [
    "for i in range(len(rmf_dataframe.index)):\n",
    "    customer_id=rmf_dataframe.index[i][0]\n",
    "    transaction_dt=rmf_dataframe.index[i][1].date()\n",
    "    ident_ticker.append(customer_id)\n",
    "    counter+=1\n",
    "    if ident_ticker[-2]!=customer_id:\n",
    "        counter=1\n",
    "        frequency.append(counter)\n",
    "    else:\n",
    "        frequency.append(counter)\n",
    "        \n",
    "rmf_dataframe['frequency']=frequency"
   ]
  },
  {
   "cell_type": "markdown",
   "metadata": {},
   "source": [
    "Monetary"
   ]
  },
  {
   "cell_type": "code",
   "execution_count": 567,
   "metadata": {},
   "outputs": [],
   "source": [
    "for i in range(len(rmf_dataframe.index)):\n",
    "    customer_id=rmf_dataframe.index[i][0]\n",
    "    transaction_dt=rmf_dataframe.index[i][1].date()\n",
    "    ident_ticker.append(customer_id)\n",
    "    counter+=1\n",
    "    summer+=rmf_dataframe.total_sum.values[i]\n",
    "    if ident_ticker[-2]!=customer_id:\n",
    "        summer=rmf_dataframe.total_sum.values[i]\n",
    "        monetary.append(summer)\n",
    "    else:\n",
    "        monetary.append(summer)\n",
    "\n",
    "rmf_dataframe['monetary']=monetary        "
   ]
  },
  {
   "cell_type": "code",
   "execution_count": 568,
   "metadata": {},
   "outputs": [
    {
     "data": {
      "text/html": [
       "<div>\n",
       "<style scoped>\n",
       "    .dataframe tbody tr th:only-of-type {\n",
       "        vertical-align: middle;\n",
       "    }\n",
       "\n",
       "    .dataframe tbody tr th {\n",
       "        vertical-align: top;\n",
       "    }\n",
       "\n",
       "    .dataframe thead th {\n",
       "        text-align: right;\n",
       "    }\n",
       "</style>\n",
       "<table border=\"1\" class=\"dataframe\">\n",
       "  <thead>\n",
       "    <tr style=\"text-align: right;\">\n",
       "      <th></th>\n",
       "      <th>customer_id</th>\n",
       "      <th>transaction_dt</th>\n",
       "      <th>amount</th>\n",
       "      <th>total_sum</th>\n",
       "      <th>frequency</th>\n",
       "      <th>recency</th>\n",
       "      <th>monetary</th>\n",
       "    </tr>\n",
       "  </thead>\n",
       "  <tbody>\n",
       "    <tr>\n",
       "      <th>119573</th>\n",
       "      <td>20002000</td>\n",
       "      <td>2000-12-16</td>\n",
       "      <td>28</td>\n",
       "      <td>3769</td>\n",
       "      <td>23</td>\n",
       "      <td>-1</td>\n",
       "      <td>82688</td>\n",
       "    </tr>\n",
       "    <tr>\n",
       "      <th>119574</th>\n",
       "      <td>20002000</td>\n",
       "      <td>2000-12-17</td>\n",
       "      <td>16</td>\n",
       "      <td>1896</td>\n",
       "      <td>24</td>\n",
       "      <td>-1</td>\n",
       "      <td>84584</td>\n",
       "    </tr>\n",
       "    <tr>\n",
       "      <th>119575</th>\n",
       "      <td>20002000</td>\n",
       "      <td>2000-12-18</td>\n",
       "      <td>27</td>\n",
       "      <td>4432</td>\n",
       "      <td>25</td>\n",
       "      <td>-1</td>\n",
       "      <td>89016</td>\n",
       "    </tr>\n",
       "    <tr>\n",
       "      <th>119576</th>\n",
       "      <td>20002000</td>\n",
       "      <td>2001-01-20</td>\n",
       "      <td>9</td>\n",
       "      <td>1165</td>\n",
       "      <td>26</td>\n",
       "      <td>-33</td>\n",
       "      <td>90181</td>\n",
       "    </tr>\n",
       "    <tr>\n",
       "      <th>119577</th>\n",
       "      <td>20002000</td>\n",
       "      <td>2001-02-05</td>\n",
       "      <td>6</td>\n",
       "      <td>216</td>\n",
       "      <td>27</td>\n",
       "      <td>-16</td>\n",
       "      <td>90397</td>\n",
       "    </tr>\n",
       "  </tbody>\n",
       "</table>\n",
       "</div>"
      ],
      "text/plain": [
       "       customer_id transaction_dt  amount  total_sum  frequency  recency  \\\n",
       "119573    20002000     2000-12-16      28       3769         23       -1   \n",
       "119574    20002000     2000-12-17      16       1896         24       -1   \n",
       "119575    20002000     2000-12-18      27       4432         25       -1   \n",
       "119576    20002000     2001-01-20       9       1165         26      -33   \n",
       "119577    20002000     2001-02-05       6        216         27      -16   \n",
       "\n",
       "        monetary  \n",
       "119573     82688  \n",
       "119574     84584  \n",
       "119575     89016  \n",
       "119576     90181  \n",
       "119577     90397  "
      ]
     },
     "execution_count": 568,
     "metadata": {},
     "output_type": "execute_result"
    }
   ],
   "source": [
    "rmf_df_reset=rmf_dataframe.reset_index()\n",
    "rmf_df_reset.tail()"
   ]
  },
  {
   "cell_type": "code",
   "execution_count": 569,
   "metadata": {},
   "outputs": [],
   "source": [
    "#wk_set['total_sum']=wk_set['amount']*wk_set['sales_price']\n",
    "rmf_df_reset['week']=[x.isocalendar()[1] for x in rmf_df_reset['transaction_dt']]\n",
    "rmf_df_reset=rmf_df_reset.sort_values(by=['transaction_dt','customer_id']).reset_index(drop=True)\n",
    "wk_dict_int = {44:0, 45:1, 46:2, 47:3, 48:4, \\\n",
    "        49:5, 50:6, 51:7, 52:8, 1:9, 2:10 , 3:11 , 4:12, 5:13 ,6:14 ,7:15,8:16,9:17}"
   ]
  },
  {
   "cell_type": "code",
   "execution_count": 570,
   "metadata": {},
   "outputs": [],
   "source": [
    "rmf_df_reset['week_number'] = rmf_df_reset['week'].apply(lambda x: wk_dict_int[x])\n",
    "rmf_df_reset=rmf_df_reset.drop('week',axis=1)\n",
    "rmf_df_reset=rmf_df_reset.sort_values(by=['customer_id','week_number'])"
   ]
  },
  {
   "cell_type": "code",
   "execution_count": 571,
   "metadata": {},
   "outputs": [],
   "source": [
    "rmf_df_reset['Cluster'] = rmf_df_reset['customer_id'].apply(lambda x: cluster_map[x])\n",
    "rmf_df_reset['age_int'] = rmf_df_reset['customer_id'].apply(lambda x: age_map[x])\n",
    "rmf_df_reset['pin_code_int'] = rmf_df_reset['customer_id'].apply(lambda x: pin_map[x])"
   ]
  },
  {
   "cell_type": "code",
   "execution_count": 572,
   "metadata": {},
   "outputs": [
    {
     "name": "stdout",
     "output_type": "stream",
     "text": [
      "Avg Frequency: 7\n",
      "Avg Week Number: 10\n"
     ]
    },
    {
     "data": {
      "text/plain": [
       "16    8084\n",
       "11    7827\n",
       "15    6363\n",
       "14    6339\n",
       "13    6024\n",
       "6     5981\n",
       "12    5677\n",
       "10    5601\n",
       "5     5183\n",
       "4     5135\n",
       "8     5108\n",
       "3     4885\n",
       "9     3526\n",
       "2     3463\n",
       "1     3167\n",
       "17    2834\n",
       "7     1329\n",
       "0      786\n",
       "Name: week_number, dtype: int64"
      ]
     },
     "execution_count": 572,
     "metadata": {},
     "output_type": "execute_result"
    }
   ],
   "source": [
    "final_data=rmf_df_reset[['transaction_dt','customer_id','week_number','amount','total_sum','frequency','recency','monetary','Cluster','age_int','pin_code_int']]\n",
    "comparison=(final_data['frequency']>1)\n",
    "print('Avg Frequency:',round(final_data[comparison].frequency.mean()))\n",
    "print('Avg Week Number:',round(final_data[comparison].week_number.mean()))\n",
    "round(final_data[comparison].week_number.value_counts())"
   ]
  },
  {
   "cell_type": "code",
   "execution_count": 573,
   "metadata": {},
   "outputs": [],
   "source": [
    "final_data.to_pickle('test_set.pkl')\n",
    "#month leading up to the final week and has had at least 1 previous transaction \n",
    "comparison=((final_data['week_number']<15)) \n",
    "#comparison=((final_data['week_number']==11) | (final_data['week_number']==12) | (final_data['week_number']==13) | (final_data['week_number']==14) | (final_data['week_number']==15)) \\\n",
    "#& (final_data['frequency']>1) \n",
    "X_set=final_data[comparison]\n",
    "#last week of data and has had at least 1 previous transaction \n",
    "comparison=((final_data['week_number']==16) | (final_data['week_number']==17) & (final_data['frequency']>1))\n",
    "y_set=final_data[comparison]"
   ]
  },
  {
   "cell_type": "code",
   "execution_count": 574,
   "metadata": {},
   "outputs": [],
   "source": [
    "y_id_list=sorted(list(y_set.customer_id.unique()))#unique customer ids from final week"
   ]
  },
  {
   "cell_type": "code",
   "execution_count": 575,
   "metadata": {},
   "outputs": [],
   "source": [
    "X_set=X_set.loc[X_set['customer_id'].isin(y_id_list)]#have to be represented in final week"
   ]
  },
  {
   "cell_type": "code",
   "execution_count": 576,
   "metadata": {},
   "outputs": [
    {
     "name": "stdout",
     "output_type": "stream",
     "text": [
      "number of unique customer ids: 7807 \n",
      "length of the dataset: 7807\n"
     ]
    },
    {
     "data": {
      "text/html": [
       "<div>\n",
       "<style scoped>\n",
       "    .dataframe tbody tr th:only-of-type {\n",
       "        vertical-align: middle;\n",
       "    }\n",
       "\n",
       "    .dataframe tbody tr th {\n",
       "        vertical-align: top;\n",
       "    }\n",
       "\n",
       "    .dataframe thead th {\n",
       "        text-align: right;\n",
       "    }\n",
       "</style>\n",
       "<table border=\"1\" class=\"dataframe\">\n",
       "  <thead>\n",
       "    <tr style=\"text-align: right;\">\n",
       "      <th></th>\n",
       "      <th>transaction_dt</th>\n",
       "      <th>customer_id</th>\n",
       "      <th>week_number</th>\n",
       "      <th>amount</th>\n",
       "      <th>total_sum</th>\n",
       "      <th>frequency</th>\n",
       "      <th>recency</th>\n",
       "      <th>monetary</th>\n",
       "      <th>Cluster</th>\n",
       "      <th>age_int</th>\n",
       "      <th>pin_code_int</th>\n",
       "    </tr>\n",
       "  </thead>\n",
       "  <tbody>\n",
       "    <tr>\n",
       "      <th>0</th>\n",
       "      <td>2000-12-16</td>\n",
       "      <td>00005241</td>\n",
       "      <td>6</td>\n",
       "      <td>6</td>\n",
       "      <td>325</td>\n",
       "      <td>1</td>\n",
       "      <td>-45</td>\n",
       "      <td>325</td>\n",
       "      <td>2</td>\n",
       "      <td>4</td>\n",
       "      <td>6</td>\n",
       "    </tr>\n",
       "    <tr>\n",
       "      <th>1</th>\n",
       "      <td>2000-11-11</td>\n",
       "      <td>00006668</td>\n",
       "      <td>1</td>\n",
       "      <td>6</td>\n",
       "      <td>462</td>\n",
       "      <td>1</td>\n",
       "      <td>-10</td>\n",
       "      <td>462</td>\n",
       "      <td>2</td>\n",
       "      <td>4</td>\n",
       "      <td>5</td>\n",
       "    </tr>\n",
       "    <tr>\n",
       "      <th>2</th>\n",
       "      <td>2000-11-04</td>\n",
       "      <td>00010801</td>\n",
       "      <td>0</td>\n",
       "      <td>1</td>\n",
       "      <td>89</td>\n",
       "      <td>1</td>\n",
       "      <td>-3</td>\n",
       "      <td>89</td>\n",
       "      <td>2</td>\n",
       "      <td>4</td>\n",
       "      <td>5</td>\n",
       "    </tr>\n",
       "    <tr>\n",
       "      <th>3</th>\n",
       "      <td>2000-11-14</td>\n",
       "      <td>00011235</td>\n",
       "      <td>2</td>\n",
       "      <td>3</td>\n",
       "      <td>906</td>\n",
       "      <td>1</td>\n",
       "      <td>-13</td>\n",
       "      <td>906</td>\n",
       "      <td>2</td>\n",
       "      <td>11</td>\n",
       "      <td>6</td>\n",
       "    </tr>\n",
       "    <tr>\n",
       "      <th>4</th>\n",
       "      <td>2000-12-03</td>\n",
       "      <td>00011914</td>\n",
       "      <td>4</td>\n",
       "      <td>7</td>\n",
       "      <td>875</td>\n",
       "      <td>1</td>\n",
       "      <td>-32</td>\n",
       "      <td>875</td>\n",
       "      <td>2</td>\n",
       "      <td>4</td>\n",
       "      <td>1</td>\n",
       "    </tr>\n",
       "  </tbody>\n",
       "</table>\n",
       "</div>"
      ],
      "text/plain": [
       "  transaction_dt customer_id  week_number  amount  total_sum  frequency  \\\n",
       "0     2000-12-16    00005241            6       6        325          1   \n",
       "1     2000-11-11    00006668            1       6        462          1   \n",
       "2     2000-11-04    00010801            0       1         89          1   \n",
       "3     2000-11-14    00011235            2       3        906          1   \n",
       "4     2000-12-03    00011914            4       7        875          1   \n",
       "\n",
       "   recency  monetary  Cluster  age_int  pin_code_int  \n",
       "0      -45       325        2        4             6  \n",
       "1      -10       462        2        4             5  \n",
       "2       -3        89        2        4             5  \n",
       "3      -13       906        2       11             6  \n",
       "4      -32       875        2        4             1  "
      ]
     },
     "execution_count": 576,
     "metadata": {},
     "output_type": "execute_result"
    }
   ],
   "source": [
    "list_of_indexes = [np.argmin(g['transaction_dt']) for l, g in X_set.groupby('customer_id')]\n",
    "X_set=X_set.ix[list_of_indexes]#keep only latest transaction from previous month purchases\n",
    "X_set=X_set.sort_values(by=['customer_id','transaction_dt'])#sort by id\n",
    "X_set=X_set.reset_index(drop=True)\n",
    "print('number of unique customer ids:',len(set(list(X_set.customer_id))),'\\nlength of the dataset:',len(X_set))\n",
    "X_set.head()"
   ]
  },
  {
   "cell_type": "code",
   "execution_count": 577,
   "metadata": {},
   "outputs": [
    {
     "data": {
      "text/html": [
       "<div>\n",
       "<style scoped>\n",
       "    .dataframe tbody tr th:only-of-type {\n",
       "        vertical-align: middle;\n",
       "    }\n",
       "\n",
       "    .dataframe tbody tr th {\n",
       "        vertical-align: top;\n",
       "    }\n",
       "\n",
       "    .dataframe thead th {\n",
       "        text-align: right;\n",
       "    }\n",
       "</style>\n",
       "<table border=\"1\" class=\"dataframe\">\n",
       "  <thead>\n",
       "    <tr style=\"text-align: right;\">\n",
       "      <th></th>\n",
       "      <th>transaction_dt</th>\n",
       "      <th>customer_id</th>\n",
       "      <th>week_number</th>\n",
       "      <th>amount</th>\n",
       "      <th>total_sum</th>\n",
       "      <th>frequency</th>\n",
       "      <th>recency</th>\n",
       "      <th>monetary</th>\n",
       "      <th>Cluster</th>\n",
       "      <th>age_int</th>\n",
       "      <th>pin_code_int</th>\n",
       "    </tr>\n",
       "  </thead>\n",
       "  <tbody>\n",
       "    <tr>\n",
       "      <th>7802</th>\n",
       "      <td>2001-02-10</td>\n",
       "      <td>02175799</td>\n",
       "      <td>14</td>\n",
       "      <td>8</td>\n",
       "      <td>1013</td>\n",
       "      <td>1</td>\n",
       "      <td>-101</td>\n",
       "      <td>1013</td>\n",
       "      <td>2</td>\n",
       "      <td>4</td>\n",
       "      <td>6</td>\n",
       "    </tr>\n",
       "    <tr>\n",
       "      <th>7803</th>\n",
       "      <td>2001-02-10</td>\n",
       "      <td>02175959</td>\n",
       "      <td>14</td>\n",
       "      <td>5</td>\n",
       "      <td>219</td>\n",
       "      <td>1</td>\n",
       "      <td>-101</td>\n",
       "      <td>219</td>\n",
       "      <td>1</td>\n",
       "      <td>3</td>\n",
       "      <td>7</td>\n",
       "    </tr>\n",
       "    <tr>\n",
       "      <th>7804</th>\n",
       "      <td>2001-02-11</td>\n",
       "      <td>02176048</td>\n",
       "      <td>14</td>\n",
       "      <td>10</td>\n",
       "      <td>749</td>\n",
       "      <td>1</td>\n",
       "      <td>-102</td>\n",
       "      <td>749</td>\n",
       "      <td>1</td>\n",
       "      <td>1</td>\n",
       "      <td>7</td>\n",
       "    </tr>\n",
       "    <tr>\n",
       "      <th>7805</th>\n",
       "      <td>2001-02-11</td>\n",
       "      <td>02176079</td>\n",
       "      <td>14</td>\n",
       "      <td>21</td>\n",
       "      <td>3907</td>\n",
       "      <td>1</td>\n",
       "      <td>-102</td>\n",
       "      <td>3907</td>\n",
       "      <td>2</td>\n",
       "      <td>4</td>\n",
       "      <td>6</td>\n",
       "    </tr>\n",
       "    <tr>\n",
       "      <th>7806</th>\n",
       "      <td>2001-02-11</td>\n",
       "      <td>02176161</td>\n",
       "      <td>14</td>\n",
       "      <td>7</td>\n",
       "      <td>639</td>\n",
       "      <td>1</td>\n",
       "      <td>-102</td>\n",
       "      <td>639</td>\n",
       "      <td>1</td>\n",
       "      <td>3</td>\n",
       "      <td>8</td>\n",
       "    </tr>\n",
       "  </tbody>\n",
       "</table>\n",
       "</div>"
      ],
      "text/plain": [
       "     transaction_dt customer_id  week_number  amount  total_sum  frequency  \\\n",
       "7802     2001-02-10    02175799           14       8       1013          1   \n",
       "7803     2001-02-10    02175959           14       5        219          1   \n",
       "7804     2001-02-11    02176048           14      10        749          1   \n",
       "7805     2001-02-11    02176079           14      21       3907          1   \n",
       "7806     2001-02-11    02176161           14       7        639          1   \n",
       "\n",
       "      recency  monetary  Cluster  age_int  pin_code_int  \n",
       "7802     -101      1013        2        4             6  \n",
       "7803     -101       219        1        3             7  \n",
       "7804     -102       749        1        1             7  \n",
       "7805     -102      3907        2        4             6  \n",
       "7806     -102       639        1        3             8  "
      ]
     },
     "execution_count": 577,
     "metadata": {},
     "output_type": "execute_result"
    }
   ],
   "source": [
    "X_set.tail()"
   ]
  },
  {
   "cell_type": "code",
   "execution_count": 578,
   "metadata": {},
   "outputs": [],
   "source": [
    "X_set_list=sorted(list(X_set.customer_id.unique()))#get list of unique ids from those represented in the last month\n",
    "y_set=y_set.loc[y_set['customer_id'].isin(X_set_list)]#return only individuals who made a purchase in the prior month"
   ]
  },
  {
   "cell_type": "code",
   "execution_count": 579,
   "metadata": {},
   "outputs": [
    {
     "name": "stdout",
     "output_type": "stream",
     "text": [
      "number of unique customer ids: 7807 \n",
      "length of the dataset: 7807\n"
     ]
    },
    {
     "data": {
      "text/html": [
       "<div>\n",
       "<style scoped>\n",
       "    .dataframe tbody tr th:only-of-type {\n",
       "        vertical-align: middle;\n",
       "    }\n",
       "\n",
       "    .dataframe tbody tr th {\n",
       "        vertical-align: top;\n",
       "    }\n",
       "\n",
       "    .dataframe thead th {\n",
       "        text-align: right;\n",
       "    }\n",
       "</style>\n",
       "<table border=\"1\" class=\"dataframe\">\n",
       "  <thead>\n",
       "    <tr style=\"text-align: right;\">\n",
       "      <th></th>\n",
       "      <th>transaction_dt</th>\n",
       "      <th>customer_id</th>\n",
       "      <th>week_number</th>\n",
       "      <th>amount</th>\n",
       "      <th>total_sum</th>\n",
       "      <th>frequency</th>\n",
       "      <th>recency</th>\n",
       "      <th>monetary</th>\n",
       "      <th>Cluster</th>\n",
       "      <th>age_int</th>\n",
       "      <th>pin_code_int</th>\n",
       "    </tr>\n",
       "  </thead>\n",
       "  <tbody>\n",
       "    <tr>\n",
       "      <th>0</th>\n",
       "      <td>2001-02-19</td>\n",
       "      <td>00005241</td>\n",
       "      <td>16</td>\n",
       "      <td>6</td>\n",
       "      <td>411</td>\n",
       "      <td>4</td>\n",
       "      <td>-34</td>\n",
       "      <td>6884</td>\n",
       "      <td>2</td>\n",
       "      <td>4</td>\n",
       "      <td>6</td>\n",
       "    </tr>\n",
       "    <tr>\n",
       "      <th>1</th>\n",
       "      <td>2001-02-22</td>\n",
       "      <td>00006668</td>\n",
       "      <td>16</td>\n",
       "      <td>2</td>\n",
       "      <td>193</td>\n",
       "      <td>10</td>\n",
       "      <td>-5</td>\n",
       "      <td>9726</td>\n",
       "      <td>2</td>\n",
       "      <td>4</td>\n",
       "      <td>5</td>\n",
       "    </tr>\n",
       "    <tr>\n",
       "      <th>2</th>\n",
       "      <td>2001-02-19</td>\n",
       "      <td>00010801</td>\n",
       "      <td>16</td>\n",
       "      <td>4</td>\n",
       "      <td>161</td>\n",
       "      <td>15</td>\n",
       "      <td>-7</td>\n",
       "      <td>7607</td>\n",
       "      <td>2</td>\n",
       "      <td>4</td>\n",
       "      <td>5</td>\n",
       "    </tr>\n",
       "    <tr>\n",
       "      <th>3</th>\n",
       "      <td>2001-02-27</td>\n",
       "      <td>00011235</td>\n",
       "      <td>17</td>\n",
       "      <td>7</td>\n",
       "      <td>1527</td>\n",
       "      <td>5</td>\n",
       "      <td>-10</td>\n",
       "      <td>4579</td>\n",
       "      <td>2</td>\n",
       "      <td>11</td>\n",
       "      <td>6</td>\n",
       "    </tr>\n",
       "    <tr>\n",
       "      <th>4</th>\n",
       "      <td>2001-02-28</td>\n",
       "      <td>00011914</td>\n",
       "      <td>17</td>\n",
       "      <td>4</td>\n",
       "      <td>552</td>\n",
       "      <td>5</td>\n",
       "      <td>-53</td>\n",
       "      <td>3632</td>\n",
       "      <td>2</td>\n",
       "      <td>4</td>\n",
       "      <td>1</td>\n",
       "    </tr>\n",
       "  </tbody>\n",
       "</table>\n",
       "</div>"
      ],
      "text/plain": [
       "  transaction_dt customer_id  week_number  amount  total_sum  frequency  \\\n",
       "0     2001-02-19    00005241           16       6        411          4   \n",
       "1     2001-02-22    00006668           16       2        193         10   \n",
       "2     2001-02-19    00010801           16       4        161         15   \n",
       "3     2001-02-27    00011235           17       7       1527          5   \n",
       "4     2001-02-28    00011914           17       4        552          5   \n",
       "\n",
       "   recency  monetary  Cluster  age_int  pin_code_int  \n",
       "0      -34      6884        2        4             6  \n",
       "1       -5      9726        2        4             5  \n",
       "2       -7      7607        2        4             5  \n",
       "3      -10      4579        2       11             6  \n",
       "4      -53      3632        2        4             1  "
      ]
     },
     "execution_count": 579,
     "metadata": {},
     "output_type": "execute_result"
    }
   ],
   "source": [
    "y_set=y_set.sort_values(by=['customer_id','transaction_dt'])\n",
    "list_of_indexes = [np.argmin(g['transaction_dt']) for l, g in y_set.groupby('customer_id')]\n",
    "y_set=y_set.ix[list_of_indexes]\n",
    "y_set=y_set.reset_index(drop=True)\n",
    "print('number of unique customer ids:',len(set(list(y_set.customer_id))),'\\nlength of the dataset:',len(y_set))\n",
    "y_set.head()"
   ]
  },
  {
   "cell_type": "code",
   "execution_count": 580,
   "metadata": {},
   "outputs": [
    {
     "data": {
      "text/html": [
       "<div>\n",
       "<style scoped>\n",
       "    .dataframe tbody tr th:only-of-type {\n",
       "        vertical-align: middle;\n",
       "    }\n",
       "\n",
       "    .dataframe tbody tr th {\n",
       "        vertical-align: top;\n",
       "    }\n",
       "\n",
       "    .dataframe thead th {\n",
       "        text-align: right;\n",
       "    }\n",
       "</style>\n",
       "<table border=\"1\" class=\"dataframe\">\n",
       "  <thead>\n",
       "    <tr style=\"text-align: right;\">\n",
       "      <th></th>\n",
       "      <th>transaction_dt</th>\n",
       "      <th>customer_id</th>\n",
       "      <th>week_number</th>\n",
       "      <th>amount</th>\n",
       "      <th>total_sum</th>\n",
       "      <th>frequency</th>\n",
       "      <th>recency</th>\n",
       "      <th>monetary</th>\n",
       "      <th>Cluster</th>\n",
       "      <th>age_int</th>\n",
       "      <th>pin_code_int</th>\n",
       "    </tr>\n",
       "  </thead>\n",
       "  <tbody>\n",
       "    <tr>\n",
       "      <th>7802</th>\n",
       "      <td>2001-02-28</td>\n",
       "      <td>02175799</td>\n",
       "      <td>17</td>\n",
       "      <td>2</td>\n",
       "      <td>203</td>\n",
       "      <td>2</td>\n",
       "      <td>-18</td>\n",
       "      <td>1216</td>\n",
       "      <td>2</td>\n",
       "      <td>4</td>\n",
       "      <td>6</td>\n",
       "    </tr>\n",
       "    <tr>\n",
       "      <th>7803</th>\n",
       "      <td>2001-02-24</td>\n",
       "      <td>02175959</td>\n",
       "      <td>16</td>\n",
       "      <td>3</td>\n",
       "      <td>263</td>\n",
       "      <td>2</td>\n",
       "      <td>-14</td>\n",
       "      <td>482</td>\n",
       "      <td>1</td>\n",
       "      <td>3</td>\n",
       "      <td>7</td>\n",
       "    </tr>\n",
       "    <tr>\n",
       "      <th>7804</th>\n",
       "      <td>2001-02-25</td>\n",
       "      <td>02176048</td>\n",
       "      <td>16</td>\n",
       "      <td>2</td>\n",
       "      <td>58</td>\n",
       "      <td>2</td>\n",
       "      <td>-14</td>\n",
       "      <td>807</td>\n",
       "      <td>1</td>\n",
       "      <td>1</td>\n",
       "      <td>7</td>\n",
       "    </tr>\n",
       "    <tr>\n",
       "      <th>7805</th>\n",
       "      <td>2001-02-25</td>\n",
       "      <td>02176079</td>\n",
       "      <td>16</td>\n",
       "      <td>21</td>\n",
       "      <td>2853</td>\n",
       "      <td>2</td>\n",
       "      <td>-14</td>\n",
       "      <td>6760</td>\n",
       "      <td>2</td>\n",
       "      <td>4</td>\n",
       "      <td>6</td>\n",
       "    </tr>\n",
       "    <tr>\n",
       "      <th>7806</th>\n",
       "      <td>2001-02-24</td>\n",
       "      <td>02176161</td>\n",
       "      <td>16</td>\n",
       "      <td>7</td>\n",
       "      <td>473</td>\n",
       "      <td>3</td>\n",
       "      <td>-6</td>\n",
       "      <td>1650</td>\n",
       "      <td>1</td>\n",
       "      <td>3</td>\n",
       "      <td>8</td>\n",
       "    </tr>\n",
       "  </tbody>\n",
       "</table>\n",
       "</div>"
      ],
      "text/plain": [
       "     transaction_dt customer_id  week_number  amount  total_sum  frequency  \\\n",
       "7802     2001-02-28    02175799           17       2        203          2   \n",
       "7803     2001-02-24    02175959           16       3        263          2   \n",
       "7804     2001-02-25    02176048           16       2         58          2   \n",
       "7805     2001-02-25    02176079           16      21       2853          2   \n",
       "7806     2001-02-24    02176161           16       7        473          3   \n",
       "\n",
       "      recency  monetary  Cluster  age_int  pin_code_int  \n",
       "7802      -18      1216        2        4             6  \n",
       "7803      -14       482        1        3             7  \n",
       "7804      -14       807        1        1             7  \n",
       "7805      -14      6760        2        4             6  \n",
       "7806       -6      1650        1        3             8  "
      ]
     },
     "execution_count": 580,
     "metadata": {},
     "output_type": "execute_result"
    }
   ],
   "source": [
    "y_set.tail()"
   ]
  },
  {
   "cell_type": "code",
   "execution_count": 581,
   "metadata": {},
   "outputs": [],
   "source": [
    "X_set=X_set[['customer_id','Cluster','pin_code_int','age_int','week_number','frequency','recency','monetary']]#reduce Xset\n",
    "y_set=y_set[['customer_id','frequency','recency','monetary']]#reduce yset"
   ]
  },
  {
   "cell_type": "code",
   "execution_count": 582,
   "metadata": {},
   "outputs": [],
   "source": [
    "X_set.to_pickle('X_set.pkl')\n",
    "y_set.to_pickle('y_set.pkl')"
   ]
  },
  {
   "cell_type": "markdown",
   "metadata": {},
   "source": [
    "_____________________________"
   ]
  },
  {
   "cell_type": "code",
   "execution_count": 871,
   "metadata": {},
   "outputs": [],
   "source": [
    "with open('X_set.pkl', 'rb') as fp:\n",
    "     X_set = pickle.load(fp)\n",
    "with open('y_set.pkl', 'rb') as fp:\n",
    "     y_set = pickle.load(fp)"
   ]
  },
  {
   "cell_type": "code",
   "execution_count": 872,
   "metadata": {},
   "outputs": [
    {
     "data": {
      "text/html": [
       "<div>\n",
       "<style scoped>\n",
       "    .dataframe tbody tr th:only-of-type {\n",
       "        vertical-align: middle;\n",
       "    }\n",
       "\n",
       "    .dataframe tbody tr th {\n",
       "        vertical-align: top;\n",
       "    }\n",
       "\n",
       "    .dataframe thead th {\n",
       "        text-align: right;\n",
       "    }\n",
       "</style>\n",
       "<table border=\"1\" class=\"dataframe\">\n",
       "  <thead>\n",
       "    <tr style=\"text-align: right;\">\n",
       "      <th></th>\n",
       "      <th>customer_id</th>\n",
       "      <th>Cluster</th>\n",
       "      <th>pin_code_int</th>\n",
       "      <th>age_int</th>\n",
       "      <th>week_number</th>\n",
       "      <th>frequency</th>\n",
       "      <th>recency</th>\n",
       "      <th>monetary</th>\n",
       "    </tr>\n",
       "  </thead>\n",
       "  <tbody>\n",
       "    <tr>\n",
       "      <th>0</th>\n",
       "      <td>00005241</td>\n",
       "      <td>2</td>\n",
       "      <td>6</td>\n",
       "      <td>4</td>\n",
       "      <td>6</td>\n",
       "      <td>1</td>\n",
       "      <td>-45</td>\n",
       "      <td>325</td>\n",
       "    </tr>\n",
       "    <tr>\n",
       "      <th>1</th>\n",
       "      <td>00006668</td>\n",
       "      <td>2</td>\n",
       "      <td>5</td>\n",
       "      <td>4</td>\n",
       "      <td>1</td>\n",
       "      <td>1</td>\n",
       "      <td>-10</td>\n",
       "      <td>462</td>\n",
       "    </tr>\n",
       "    <tr>\n",
       "      <th>2</th>\n",
       "      <td>00010801</td>\n",
       "      <td>2</td>\n",
       "      <td>5</td>\n",
       "      <td>4</td>\n",
       "      <td>0</td>\n",
       "      <td>1</td>\n",
       "      <td>-3</td>\n",
       "      <td>89</td>\n",
       "    </tr>\n",
       "  </tbody>\n",
       "</table>\n",
       "</div>"
      ],
      "text/plain": [
       "  customer_id  Cluster  pin_code_int  age_int  week_number  frequency  \\\n",
       "0    00005241        2             6        4            6          1   \n",
       "1    00006668        2             5        4            1          1   \n",
       "2    00010801        2             5        4            0          1   \n",
       "\n",
       "   recency  monetary  \n",
       "0      -45       325  \n",
       "1      -10       462  \n",
       "2       -3        89  "
      ]
     },
     "execution_count": 872,
     "metadata": {},
     "output_type": "execute_result"
    }
   ],
   "source": [
    "X_set.head(3)"
   ]
  },
  {
   "cell_type": "code",
   "execution_count": 873,
   "metadata": {},
   "outputs": [
    {
     "data": {
      "text/html": [
       "<div>\n",
       "<style scoped>\n",
       "    .dataframe tbody tr th:only-of-type {\n",
       "        vertical-align: middle;\n",
       "    }\n",
       "\n",
       "    .dataframe tbody tr th {\n",
       "        vertical-align: top;\n",
       "    }\n",
       "\n",
       "    .dataframe thead th {\n",
       "        text-align: right;\n",
       "    }\n",
       "</style>\n",
       "<table border=\"1\" class=\"dataframe\">\n",
       "  <thead>\n",
       "    <tr style=\"text-align: right;\">\n",
       "      <th></th>\n",
       "      <th>customer_id</th>\n",
       "      <th>frequency</th>\n",
       "      <th>recency</th>\n",
       "      <th>monetary</th>\n",
       "    </tr>\n",
       "  </thead>\n",
       "  <tbody>\n",
       "    <tr>\n",
       "      <th>0</th>\n",
       "      <td>00005241</td>\n",
       "      <td>4</td>\n",
       "      <td>-34</td>\n",
       "      <td>6884</td>\n",
       "    </tr>\n",
       "    <tr>\n",
       "      <th>1</th>\n",
       "      <td>00006668</td>\n",
       "      <td>10</td>\n",
       "      <td>-5</td>\n",
       "      <td>9726</td>\n",
       "    </tr>\n",
       "    <tr>\n",
       "      <th>2</th>\n",
       "      <td>00010801</td>\n",
       "      <td>15</td>\n",
       "      <td>-7</td>\n",
       "      <td>7607</td>\n",
       "    </tr>\n",
       "  </tbody>\n",
       "</table>\n",
       "</div>"
      ],
      "text/plain": [
       "  customer_id  frequency  recency  monetary\n",
       "0    00005241          4      -34      6884\n",
       "1    00006668         10       -5      9726\n",
       "2    00010801         15       -7      7607"
      ]
     },
     "execution_count": 873,
     "metadata": {},
     "output_type": "execute_result"
    }
   ],
   "source": [
    "y_set.head(3)"
   ]
  },
  {
   "cell_type": "markdown",
   "metadata": {},
   "source": [
    "_________________"
   ]
  },
  {
   "cell_type": "markdown",
   "metadata": {},
   "source": [
    "Model"
   ]
  },
  {
   "cell_type": "code",
   "execution_count": 874,
   "metadata": {},
   "outputs": [],
   "source": [
    "from math import sqrt\n",
    "from numpy import concatenate\n",
    "from matplotlib import pyplot\n",
    "from pandas import read_csv\n",
    "from pandas import DataFrame\n",
    "from pandas import concat\n",
    "from sklearn.preprocessing import MinMaxScaler\n",
    "from sklearn.preprocessing import LabelEncoder\n",
    "from sklearn.metrics import mean_squared_error\n",
    "from keras.models import Sequential\n",
    "from keras.layers import Activation, Dense\n",
    "from keras.layers import Input, Dense, Dropout, LSTM\n",
    "from keras.layers import SimpleRNN\n",
    "from keras.callbacks import EarlyStopping\n",
    "\n",
    "from keras import regularizers\n",
    "from keras.layers import RepeatVector\n",
    "from keras.layers import TimeDistributed\n",
    "from keras import optimizers"
   ]
  },
  {
   "cell_type": "code",
   "execution_count": 875,
   "metadata": {},
   "outputs": [],
   "source": [
    "def return_pair(df,indexer=0):\n",
    "    data=df.iloc[indexer]\n",
    "    x=[]\n",
    "    part1=list(map(int,list(data.iloc[0])))\n",
    "    part2=list(data.iloc[1:])\n",
    "    x.extend(part1)\n",
    "    x.extend(part2)\n",
    "    x=np.array(x)\n",
    "    return x"
   ]
  },
  {
   "cell_type": "code",
   "execution_count": 876,
   "metadata": {},
   "outputs": [],
   "source": [
    "X_set=np.array([return_pair(X_set,i) for i in range(0,len(X_set))])\n",
    "#X_set=np.array(X_set.values)"
   ]
  },
  {
   "cell_type": "code",
   "execution_count": 877,
   "metadata": {},
   "outputs": [
    {
     "data": {
      "text/plain": [
       "array([  0,   0,   0,   0,   5,   2,   4,   1,   2,   6,   4,   6,   1,\n",
       "       -45, 325], dtype=int64)"
      ]
     },
     "execution_count": 877,
     "metadata": {},
     "output_type": "execute_result"
    }
   ],
   "source": [
    "X_set[0]"
   ]
  },
  {
   "cell_type": "code",
   "execution_count": 878,
   "metadata": {},
   "outputs": [],
   "source": [
    "y_set=np.array([return_pair(y_set,i) for i in range(0,len(y_set))])\n",
    "#y_set=np.array(y_set.values)"
   ]
  },
  {
   "cell_type": "code",
   "execution_count": 879,
   "metadata": {},
   "outputs": [
    {
     "data": {
      "text/plain": [
       "array([   0,    0,    0,    0,    5,    2,    4,    1,    4,  -34, 6884],\n",
       "      dtype=int64)"
      ]
     },
     "execution_count": 879,
     "metadata": {},
     "output_type": "execute_result"
    }
   ],
   "source": [
    "y_set[0]"
   ]
  },
  {
   "cell_type": "code",
   "execution_count": 880,
   "metadata": {},
   "outputs": [
    {
     "name": "stdout",
     "output_type": "stream",
     "text": [
      "Original size: 7807 \n",
      "20 Percent of size: 1561\n"
     ]
    }
   ],
   "source": [
    "n_orig_size=len(X_set)\n",
    "n_train_percent = round(n_orig_size*.2)\n",
    "print('Original size:',n_orig_size,'\\n20 Percent of size:',n_train_percent)"
   ]
  },
  {
   "cell_type": "code",
   "execution_count": 881,
   "metadata": {},
   "outputs": [],
   "source": [
    "train_X=X_set[n_train_percent:,:]\n",
    "#train_y=y_set[n_train_percent:,-3:]\n",
    "train_y=y_set[n_train_percent:,:]\n",
    "test_X=X_set[:n_train_percent, :]\n",
    "#test_y=y_set[:n_train_percent, -3:]\n",
    "test_y=y_set[:n_train_percent, :]"
   ]
  },
  {
   "cell_type": "code",
   "execution_count": 882,
   "metadata": {},
   "outputs": [
    {
     "data": {
      "text/plain": [
       "((6246, 15), (1561, 15))"
      ]
     },
     "execution_count": 882,
     "metadata": {},
     "output_type": "execute_result"
    }
   ],
   "source": [
    "train_X.shape,test_X.shape"
   ]
  },
  {
   "cell_type": "code",
   "execution_count": 883,
   "metadata": {},
   "outputs": [
    {
     "data": {
      "text/plain": [
       "((6246, 11), (1561, 11))"
      ]
     },
     "execution_count": 883,
     "metadata": {},
     "output_type": "execute_result"
    }
   ],
   "source": [
    "train_y.shape,test_y.shape"
   ]
  },
  {
   "cell_type": "code",
   "execution_count": 884,
   "metadata": {},
   "outputs": [],
   "source": [
    "scaler_y = MinMaxScaler(feature_range=(0, 1))\n",
    "train_y = scaler_y.fit_transform(train_y)\n",
    "test_y = scaler_y.fit_transform(test_y)"
   ]
  },
  {
   "cell_type": "code",
   "execution_count": 885,
   "metadata": {},
   "outputs": [],
   "source": [
    "scaler_x = MinMaxScaler(feature_range=(0, 1))\n",
    "rescaled_x_train = scaler_x.fit_transform(train_X)\n",
    "rescaled_x_test = scaler_x.fit_transform(test_X)"
   ]
  },
  {
   "cell_type": "code",
   "execution_count": 886,
   "metadata": {},
   "outputs": [
    {
     "name": "stdout",
     "output_type": "stream",
     "text": [
      "train_X (6246, 1, 15) \n",
      "train_y (6246, 11) \n",
      "test_X (1561, 1, 15) \n",
      "test_y (1561, 11)\n"
     ]
    }
   ],
   "source": [
    "# reshape input to be 3D [samples, timesteps, features]\n",
    "train_X = rescaled_x_train.reshape((rescaled_x_train.shape[0], 1, rescaled_x_train.shape[1]))\n",
    "test_X = rescaled_x_test.reshape((rescaled_x_test.shape[0], 1, rescaled_x_test.shape[1]))\n",
    "print('train_X',train_X.shape,'\\ntrain_y', train_y.shape,'\\ntest_X', test_X.shape,'\\ntest_y', test_y.shape)\n",
    " "
   ]
  },
  {
   "cell_type": "code",
   "execution_count": 887,
   "metadata": {},
   "outputs": [
    {
     "name": "stdout",
     "output_type": "stream",
     "text": [
      "_________________________________________________________________\n",
      "Layer (type)                 Output Shape              Param #   \n",
      "=================================================================\n",
      "simple_rnn_34 (SimpleRNN)    (None, 15)                465       \n",
      "_________________________________________________________________\n",
      "dense_78 (Dense)             (None, 250)               4000      \n",
      "_________________________________________________________________\n",
      "dense_79 (Dense)             (None, 11)                2761      \n",
      "=================================================================\n",
      "Total params: 7,226\n",
      "Trainable params: 7,226\n",
      "Non-trainable params: 0\n",
      "_________________________________________________________________\n"
     ]
    }
   ],
   "source": [
    "epochs = 1000\n",
    "learning_rate = 0.001\n",
    "model = Sequential()\n",
    "model.add(SimpleRNN(15,activation='relu',input_shape=(train_X.shape[1], train_X.shape[2])))\n",
    "model.add(Dense(250,kernel_initializer='random_uniform', activity_regularizer=regularizers.l1(0.0001)))\n",
    "model.add(Dense(11))\n",
    "model.compile(loss='mse', optimizer='adam', metrics=['mae', 'acc'])\n",
    "model.summary()\n"
   ]
  },
  {
   "cell_type": "code",
   "execution_count": 888,
   "metadata": {},
   "outputs": [],
   "source": [
    "%%capture captured\n",
    "\n",
    "# fit network\n",
    "history = model.fit(train_X, train_y, epochs=epochs, batch_size=120, validation_data=(test_X, test_y), validation_split=0.3, verbose=1, shuffle=True)"
   ]
  },
  {
   "cell_type": "code",
   "execution_count": 889,
   "metadata": {},
   "outputs": [],
   "source": [
    "file_out=captured.stdout"
   ]
  },
  {
   "cell_type": "code",
   "execution_count": 890,
   "metadata": {},
   "outputs": [
    {
     "name": "stdout",
     "output_type": "stream",
     "text": [
      "\b\b\b\b\b\b\b\b\b\b\b\b\b\b\b\b\b\b\b\b\b\b\b\b\b\b\b\b\b\b\b\b\b\b\b\b\b\b\b\b\b\b\b\b\b\b\b\b\b\b\b\b\r",
      "2640/6246 [===========>..................] - ETA: 0s - loss: 0.0056 - mean_absolute_error: 0.0255 - acc: 0.7511\b\b\b\b\b\b\b\b\b\b\b\b\b\b\b\b\b\b\b\b\b\b\b\b\b\b\b\b\b\b\b\b\b\b\b\b\b\b\b\b\b\b\b\b\b\b\b\b\b\b\b\b\b\b\b\b\b\b\b\b\b\b\b\b\b\b\b\b\b\b\b\b\b\b\b\b\b\b\b\b\b\b\b\b\b\b\b\b\b\b\b\b\b\b\b\b\b\b\b\b\b\b\b\b\b\b\b\b\b\b\b\r",
      "3120/6246 [=============>................] - ETA: 0s - loss: 0.0056 - mean_absolute_error: 0.0252 - acc: 0.7494\b\b\b\b\b\b\b\b\b\b\b\b\b\b\b\b\b\b\b\b\b\b\b\b\b\b\b\b\b\b\b\b\b\b\b\b\b\b\b\b\b\b\b\b\b\b\b\b\b\b\b\b\b\b\b\b\b\b\b\b\b\b\b\b\b\b\b\b\b\b\b\b\b\b\b\b\b\b\b\b\b\b\b\b\b\b\b\b\b\b\b\b\b\b\b\b\b\b\b\b\b\b\b\b\b\b\b\b\b\b\b\r",
      "3600/6246 [================>.............] - ETA: 0s - loss: 0.0055 - mean_absolute_error: 0.0247 - acc: 0.7486\b\b\b\b\b\b\b\b\b\b\b\b\b\b\b\b\b\b\b\b\b\b\b\b\b\b\b\b\b\b\b\b\b\b\b\b\b\b\b\b\b\b\b\b\b\b\b\b\b\b\b\b\b\b\b\b\b\b\b\b\b\b\b\b\b\b\b\b\b\b\b\b\b\b\b\b\b\b\b\b\b\b\b\b\b\b\b\b\b\b\b\b\b\b\b\b\b\b\b\b\b\b\b\b\b\b\b\b\b\b\b\r",
      "3960/6246 [==================>...........] - ETA: 0s - loss: 0.0055 - mean_absolute_error: 0.0246 - acc: 0.7503\b\b\b\b\b\b\b\b\b\b\b\b\b\b\b\b\b\b\b\b\b\b\b\b\b\b\b\b\b\b\b\b\b\b\b\b\b\b\b\b\b\b\b\b\b\b\b\b\b\b\b\b\b\b\b\b\b\b\b\b\b\b\b\b\b\b\b\b\b\b\b\b\b\b\b\b\b\b\b\b\b\b\b\b\b\b\b\b\b\b\b\b\b\b\b\b\b\b\b\b\b\b\b\b\b\b\b\b\b\b\b\r",
      "4320/6246 [===================>..........] - ETA: 0s - loss: 0.0055 - mean_absolute_error: 0.0245 - acc: 0.7523\b\b\b\b\b\b\b\b\b\b\b\b\b\b\b\b\b\b\b\b\b\b\b\b\b\b\b\b\b\b\b\b\b\b\b\b\b\b\b\b\b\b\b\b\b\b\b\b\b\b\b\b\b\b\b\b\b\b\b\b\b\b\b\b\b\b\b\b\b\b\b\b\b\b\b\b\b\b\b\b\b\b\b\b\b\b\b\b\b\b\b\b\b\b\b\b\b\b\b\b\b\b\b\b\b\b\b\b\b\b\b\r",
      "4800/6246 [======================>.......] - ETA: 0s - loss: 0.0056 - mean_absolute_error: 0.0245 - acc: 0.7473\b\b\b\b\b\b\b\b\b\b\b\b\b\b\b\b\b\b\b\b\b\b\b\b\b\b\b\b\b\b\b\b\b\b\b\b\b\b\b\b\b\b\b\b\b\b\b\b\b\b\b\b\b\b\b\b\b\b\b\b\b\b\b\b\b\b\b\b\b\b\b\b\b\b\b\b\b\b\b\b\b\b\b\b\b\b\b\b\b\b\b\b\b\b\b\b\b\b\b\b\b\b\b\b\b\b\b\b\b\b\b\r",
      "5280/6246 [========================>.....] - ETA: 0s - loss: 0.0055 - mean_absolute_error: 0.0244 - acc: 0.7443\b\b\b\b\b\b\b\b\b\b\b\b\b\b\b\b\b\b\b\b\b\b\b\b\b\b\b\b\b\b\b\b\b\b\b\b\b\b\b\b\b\b\b\b\b\b\b\b\b\b\b\b\b\b\b\b\b\b\b\b\b\b\b\b\b\b\b\b\b\b\b\b\b\b\b\b\b\b\b\b\b\b\b\b\b\b\b\b\b\b\b\b\b\b\b\b\b\b\b\b\b\b\b\b\b\b\b\b\b\b\b\r",
      "5760/6246 [==========================>...] - ETA: 0s - loss: 0.0056 - mean_absolute_error: 0.0243 - acc: 0.7446\b\b\b\b\b\b\b\b\b\b\b\b\b\b\b\b\b\b\b\b\b\b\b\b\b\b\b\b\b\b\b\b\b\b\b\b\b\b\b\b\b\b\b\b\b\b\b\b\b\b\b\b\b\b\b\b\b\b\b\b\b\b\b\b\b\b\b\b\b\b\b\b\b\b\b\b\b\b\b\b\b\b\b\b\b\b\b\b\b\b\b\b\b\b\b\b\b\b\b\b\b\b\b\b\b\b\b\b\b\b\b\r",
      "6240/6246 [============================>.] - ETA: 0s - loss: 0.0056 - mean_absolute_error: 0.0241 - acc: 0.7442\b\b\b\b\b\b\b\b\b\b\b\b\b\b\b\b\b\b\b\b\b\b\b\b\b\b\b\b\b\b\b\b\b\b\b\b\b\b\b\b\b\b\b\b\b\b\b\b\b\b\b\b\b\b\b\b\b\b\b\b\b\b\b\b\b\b\b\b\b\b\b\b\b\b\b\b\b\b\b\b\b\b\b\b\b\b\b\b\b\b\b\b\b\b\b\b\b\b\b\b\b\b\b\b\b\b\b\b\b\b\b\r",
      "6246/6246 [==============================] - 1s 155us/step - loss: 0.0056 - mean_absolute_error: 0.0241 - acc: 0.7443 - val_loss: 0.0062 - val_mean_absolute_error: 0.0267 - val_acc: 0.7386\n",
      "Epoch 996/1000\n",
      "\r",
      " 120/6246 [..............................] - ETA: 1s - loss: 0.0066 - mean_absolute_error: 0.0259 - acc: 0.7000\b\b\b\b\b\b\b\b\b\b\b\b\b\b\b\b\b\b\b\b\b\b\b\b\b\b\b\b\b\b\b\b\b\b\b\b\b\b\b\b\b\b\b\b\b\b\b\b\b\b\b\b\b\b\b\b\b\b\b\b\b\b\b\b\b\b\b\b\b\b\b\b\b\b\b\b\b\b\b\b\b\b\b\b\b\b\b\b\b\b\b\b\b\b\b\b\b\b\b\b\b\b\b\b\b\b\b\b\b\b\b\r",
      " 480/6246 [=>............................] - ETA: 0s - loss: 0.0064 - mean_absolute_error: 0.0262 - acc: 0.7229\b\b\b\b\b\b\b\b\b\b\b\b\b\b\b\b\b\b\b\b\b\b\b\b\b\b\b\b\b\b\b\b\b\b\b\b\b\b\b\b\b\b\b\b\b\b\b\b\b\b\b\b\b\b\b\b\b\b\b\b\b\b\b\b\b\b\b\b\b\b\b\b\b\b\b\b\b\b\b\b\b\b\b\b\b\b\b\b\b\b\b\b\b\b\b\b\b\b\b\b\b\b\b\b\b\b\b\b\b\b\b\r",
      " 840/6246 [===>..........................] - ETA: 0s - loss: 0.0061 - mean_absolute_error: 0.0266 - acc: 0.7286\b\b\b\b\b\b\b\b\b\b\b\b\b\b\b\b\b\b\b\b\b\b\b\b\b\b\b\b\b\b\b\b\b\b\b\b\b\b\b\b\b\b\b\b\b\b\b\b\b\b\b\b\b\b\b\b\b\b\b\b\b\b\b\b\b\b\b\b\b\b\b\b\b\b\b\b\b\b\b\b\b\b\b\b\b\b\b\b\b\b\b\b\b\b\b\b\b\b\b\b\b\b\b\b\b\b\b\b\b\b\b\r",
      "1320/6246 [=====>........................] - ETA: 0s - loss: 0.0059 - mean_absolute_error: 0.0257 - acc: 0.7432\b\b\b\b\b\b\b\b\b\b\b\b\b\b\b\b\b\b\b\b\b\b\b\b\b\b\b\b\b\b\b\b\b\b\b\b\b\b\b\b\b\b\b\b\b\b\b\b\b\b\b\b\b\b\b\b\b\b\b\b\b\b\b\b\b\b\b\b\b\b\b\b\b\b\b\b\b\b\b\b\b\b\b\b\b\b\b\b\b\b\b\b\b\b\b\b\b\b\b\b\b\b\b\b\b\b\b\b\b\b\b\r",
      "1800/6246 [=======>......................] - ETA: 0s - loss: 0.0057 - mean_absolute_error: 0.0249 - acc: 0.7361\b\b\b\b\b\b\b\b\b\b\b\b\b\b\b\b\b\b\b\b\b\b\b\b\b\b\b\b\b\b\b\b\b\b\b\b\b\b\b\b\b\b\b\b\b\b\b\b\b\b\b\b\b\b\b\b\b\b\b\b\b\b\b\b\b\b\b\b\b\b\b\b\b\b\b\b\b\b\b\b\b\b\b\b\b\b\b\b\b\b\b\b\b\b\b\b\b\b\b\b\b\b\b\b\b\b\b\b\b\b\b\r",
      "2400/6246 [==========>...................] - ETA: 0s - loss: 0.0055 - mean_absolute_error: 0.0241 - acc: 0.7429\b\b\b\b\b\b\b\b\b\b\b\b\b\b\b\b\b\b\b\b\b\b\b\b\b\b\b\b\b\b\b\b\b\b\b\b\b\b\b\b\b\b\b\b\b\b\b\b\b\b\b\b\b\b\b\b\b\b\b\b\b\b\b\b\b\b\b\b\b\b\b\b\b\b\b\b\b\b\b\b\b\b\b\b\b\b\b\b\b\b\b\b\b\b\b\b\b\b\b\b\b\b\b\b\b\b\b\b\b\b\b\r",
      "2760/6246 [============>.................] - ETA: 0s - loss: 0.0054 - mean_absolute_error: 0.0236 - acc: 0.7511\b\b\b\b\b\b\b\b\b\b\b\b\b\b\b\b\b\b\b\b\b\b\b\b\b\b\b\b\b\b\b\b\b\b\b\b\b\b\b\b\b\b\b\b\b\b\b\b\b\b\b\b\b\b\b\b\b\b\b\b\b\b\b\b\b\b\b\b\b\b\b\b\b\b\b\b\b\b\b\b\b\b\b\b\b\b\b\b\b\b\b\b\b\b\b\b\b\b\b\b\b\b\b\b\b\b\b\b\b\b\b\r",
      "3240/6246 [==============>...............] - ETA: 0s - loss: 0.0055 - mean_absolute_error: 0.0236 - acc: 0.7494\b\b\b\b\b\b\b\b\b\b\b\b\b\b\b\b\b\b\b\b\b\b\b\b\b\b\b\b\b\b\b\b\b\b\b\b\b\b\b\b\b\b\b\b\b\b\b\b\b\b\b\b\b\b\b\b\b\b\b\b\b\b\b\b\b\b\b\b\b\b\b\b\b\b\b\b\b\b\b\b\b\b\b\b\b\b\b\b\b\b\b\b\b\b\b\b\b\b\b\b\b\b\b\b\b\b\b\b\b\b\b\r",
      "3720/6246 [================>.............] - ETA: 0s - loss: 0.0055 - mean_absolute_error: 0.0235 - acc: 0.7543\b\b\b\b\b\b\b\b\b\b\b\b\b\b\b\b\b\b\b\b\b\b\b\b\b\b\b\b\b\b\b\b\b\b\b\b\b\b\b\b\b\b\b\b\b\b\b\b\b\b\b\b\b\b\b\b\b\b\b\b\b\b\b\b\b\b\b\b\b\b\b\b\b\b\b\b\b\b\b\b\b\b\b\b\b\b\b\b\b\b\b\b\b\b\b\b\b\b\b\b\b\b\b\b\b\b\b\b\b\b\b\r",
      "4200/6246 [===================>..........] - ETA: 0s - loss: 0.0055 - mean_absolute_error: 0.0232 - acc: 0.7533\b\b\b\b\b\b\b\b\b\b\b\b\b\b\b\b\b\b\b\b\b\b\b\b\b\b\b\b\b\b\b\b\b\b\b\b\b\b\b\b\b\b\b\b\b\b\b\b\b\b\b\b\b\b\b\b\b\b\b\b\b\b\b\b\b\b\b\b\b\b\b\b\b\b\b\b\b\b\b\b\b\b\b\b\b\b\b\b\b\b\b\b\b\b\b\b\b\b\b\b\b\b\b\b\b\b\b\b\b\b\b\r",
      "4680/6246 [=====================>........] - ETA: 0s - loss: 0.0055 - mean_absolute_error: 0.0230 - acc: 0.7496\b\b\b\b\b\b\b\b\b\b\b\b\b\b\b\b\b\b\b\b\b\b\b\b\b\b\b\b\b\b\b\b\b\b\b\b\b\b\b\b\b\b\b\b\b\b\b\b\b\b\b\b\b\b\b\b\b\b\b\b\b\b\b\b\b\b\b\b\b\b\b\b\b\b\b\b\b\b\b\b\b\b\b\b\b\b\b\b\b\b\b\b\b\b\b\b\b\b\b\b\b\b\b\b\b\b\b\b\b\b\b\r",
      "5040/6246 [=======================>......] - ETA: 0s - loss: 0.0054 - mean_absolute_error: 0.0229 - acc: 0.7538\b\b\b\b\b\b\b\b\b\b\b\b\b\b\b\b\b\b\b\b\b\b\b\b\b\b\b\b\b\b\b\b\b\b\b\b\b\b\b\b\b\b\b\b\b\b\b\b\b\b\b\b\b\b\b\b\b\b\b\b\b\b\b\b\b\b\b\b\b\b\b\b\b\b\b\b\b\b\b\b\b\b\b\b\b\b\b\b\b\b\b\b\b\b\b\b\b\b\b\b\b\b\b\b\b\b\b\b\b\b\b\r",
      "5400/6246 [========================>.....] - ETA: 0s - loss: 0.0054 - mean_absolute_error: 0.0228 - acc: 0.7524\b\b\b\b\b\b\b\b\b\b\b\b\b\b\b\b\b\b\b\b\b\b\b\b\b\b\b\b\b\b\b\b\b\b\b\b\b\b\b\b\b\b\b\b\b\b\b\b\b\b\b\b\b\b\b\b\b\b\b\b\b\b\b\b\b\b\b\b\b\b\b\b\b\b\b\b\b\b\b\b\b\b\b\b\b\b\b\b\b\b\b\b\b\b\b\b\b\b\b\b\b\b\b\b\b\b\b\b\b\b\b\r",
      "5760/6246 [==========================>...] - ETA: 0s - loss: 0.0054 - mean_absolute_error: 0.0227 - acc: 0.7528\b\b\b\b\b\b\b\b\b\b\b\b\b\b\b\b\b\b\b\b\b\b\b\b\b\b\b\b\b\b\b\b\b\b\b\b\b\b\b\b\b\b\b\b\b\b\b\b\b\b\b\b\b\b\b\b\b\b\b\b\b\b\b\b\b\b\b\b\b\b\b\b\b\b\b\b\b\b\b\b\b\b\b\b\b\b\b\b\b\b\b\b\b\b\b\b\b\b\b\b\b\b\b\b\b\b\b\b\b\b\b\r",
      "6240/6246 [============================>.] - ETA: 0s - loss: 0.0054 - mean_absolute_error: 0.0227 - acc: 0.7508\b\b\b\b\b\b\b\b\b\b\b\b\b\b\b\b\b\b\b\b\b\b\b\b\b\b\b\b\b\b\b\b\b\b\b\b\b\b\b\b\b\b\b\b\b\b\b\b\b\b\b\b\b\b\b\b\b\b\b\b\b\b\b\b\b\b\b\b\b\b\b\b\b\b\b\b\b\b\b\b\b\b\b\b\b\b\b\b\b\b\b\b\b\b\b\b\b\b\b\b\b\b\b\b\b\b\b\b\b\b\b\r",
      "6246/6246 [==============================] - 1s 151us/step - loss: 0.0054 - mean_absolute_error: 0.0227 - acc: 0.7510 - val_loss: 0.0065 - val_mean_absolute_error: 0.0262 - val_acc: 0.7361\n",
      "Epoch 997/1000\n",
      "\r",
      " 120/6246 [..............................] - ETA: 0s - loss: 0.0049 - mean_absolute_error: 0.0227 - acc: 0.8833\b\b\b\b\b\b\b\b\b\b\b\b\b\b\b\b\b\b\b\b\b\b\b\b\b\b\b\b\b\b\b\b\b\b\b\b\b\b\b\b\b\b\b\b\b\b\b\b\b\b\b\b\b\b\b\b\b\b\b\b\b\b\b\b\b\b\b\b\b\b\b\b\b\b\b\b\b\b\b\b\b\b\b\b\b\b\b\b\b\b\b\b\b\b\b\b\b\b\b\b\b\b\b\b\b\b\b\b\b\b\b\r",
      " 600/6246 [=>............................] - ETA: 0s - loss: 0.0052 - mean_absolute_error: 0.0247 - acc: 0.7600\b\b\b\b\b\b\b\b\b\b\b\b\b\b\b\b\b\b\b\b\b\b\b\b\b\b\b\b\b\b\b\b\b\b\b\b\b\b\b\b\b\b\b\b\b\b\b\b\b\b\b\b\b\b\b\b\b\b\b\b\b\b\b\b\b\b\b\b\b\b\b\b\b\b\b\b\b\b\b\b\b\b\b\b\b\b\b\b\b\b\b\b\b\b\b\b\b\b\b\b\b\b\b\b\b\b\b\b\b\b\b\r",
      "1080/6246 [====>.........................] - ETA: 0s - loss: 0.0057 - mean_absolute_error: 0.0264 - acc: 0.7491\b\b\b\b\b\b\b\b\b\b\b\b\b\b\b\b\b\b\b\b\b\b\b\b\b\b\b\b\b\b\b\b\b\b\b\b\b\b\b\b\b\b\b\b\b\b\b\b\b\b\b\b\b\b\b\b\b\b\b\b\b\b\b\b\b\b\b\b\b\b\b\b\b\b\b\b\b\b\b\b\b\b\b\b\b\b\b\b\b\b\b\b\b\b\b\b\b\b\b\b\b\b\b\b\b\b\b\b\b\b\b\r",
      "1560/6246 [======>.......................] - ETA: 0s - loss: 0.0058 - mean_absolute_error: 0.0260 - acc: 0.7429\b\b\b\b\b\b\b\b\b\b\b\b\b\b\b\b\b\b\b\b\b\b\b\b\b\b\b\b\b\b\b\b\b\b\b\b\b\b\b\b\b\b\b\b\b\b\b\b\b\b\b\b\b\b\b\b\b\b\b\b\b\b\b\b\b\b\b\b\b\b\b\b\b\b\b\b\b\b\b\b\b\b\b\b\b\b\b\b\b\b\b\b\b\b\b\b\b\b\b\b\b\b\b\b\b\b\b\b\b\b\b\r",
      "2040/6246 [========>.....................] - ETA: 0s - loss: 0.0056 - mean_absolute_error: 0.0255 - acc: 0.7466\b\b\b\b\b\b\b\b\b\b\b\b\b\b\b\b\b\b\b\b\b\b\b\b\b\b\b\b\b\b\b\b\b\b\b\b\b\b\b\b\b\b\b\b\b\b\b\b\b\b\b\b\b\b\b\b\b\b\b\b\b\b\b\b\b\b\b\b\b\b\b\b\b\b\b\b\b\b\b\b\b\b\b\b\b\b\b\b\b\b\b\b\b\b\b\b\b\b\b\b\b\b\b\b\b\b\b\b\b\b\b\r",
      "2520/6246 [===========>..................] - ETA: 0s - loss: 0.0058 - mean_absolute_error: 0.0255 - acc: 0.7460\b\b\b\b\b\b\b\b\b\b\b\b\b\b\b\b\b\b\b\b\b\b\b\b\b\b\b\b\b\b\b\b\b\b\b\b\b\b\b\b\b\b\b\b\b\b\b\b\b\b\b\b\b\b\b\b\b\b\b\b\b\b\b\b\b\b\b\b\b\b\b\b\b\b\b\b\b\b\b\b\b\b\b\b\b\b\b\b\b\b\b\b\b\b\b\b\b\b\b\b\b\b\b\b\b\b\b\b\b\b\b\r",
      "2880/6246 [============>.................] - ETA: 0s - loss: 0.0058 - mean_absolute_error: 0.0254 - acc: 0.7434\b\b\b\b\b\b\b\b\b\b\b\b\b\b\b\b\b\b\b\b\b\b\b\b\b\b\b\b\b\b\b\b\b\b\b\b\b\b\b\b\b\b\b\b\b\b\b\b\b\b\b\b\b\b\b\b\b\b\b\b\b\b\b\b\b\b\b\b\b\b\b\b\b\b\b\b\b\b\b\b\b\b\b\b\b\b\b\b\b\b\b\b\b\b\b\b\b\b\b\b\b\b\b\b\b\b\b\b\b\b\b\r",
      "3360/6246 [===============>..............] - ETA: 0s - loss: 0.0057 - mean_absolute_error: 0.0249 - acc: 0.7426\b\b\b\b\b\b\b\b\b\b\b\b\b\b\b\b\b\b\b\b\b\b\b\b\b\b\b\b\b\b\b\b\b\b\b\b\b\b\b\b\b\b\b\b\b\b\b\b\b\b\b\b\b\b\b\b\b\b\b\b\b\b\b\b\b\b\b\b\b\b\b\b\b\b\b\b\b\b\b\b\b\b\b\b\b\b\b\b\b\b\b\b\b\b\b\b\b\b\b\b\b\b\b\b\b\b\b\b\b\b\b\r",
      "3840/6246 [=================>............] - ETA: 0s - loss: 0.0056 - mean_absolute_error: 0.0245 - acc: 0.7523\b\b\b\b\b\b\b\b\b\b\b\b\b\b\b\b\b\b\b\b\b\b\b\b\b\b\b\b\b\b\b\b\b\b\b\b\b\b\b\b\b\b\b\b\b\b\b\b\b\b\b\b\b\b\b\b\b\b\b\b\b\b\b\b\b\b\b\b\b\b\b\b\b\b\b\b\b\b\b\b\b\b\b\b\b\b\b\b\b\b\b\b\b\b\b\b\b\b\b\b\b\b\b\b\b\b\b\b\b\b\b\r",
      "4320/6246 [===================>..........] - ETA: 0s - loss: 0.0056 - mean_absolute_error: 0.0243 - acc: 0.7539\b\b\b\b\b\b\b\b\b\b\b\b\b\b\b\b\b\b\b\b\b\b\b\b\b\b\b\b\b\b\b\b\b\b\b\b\b\b\b\b\b\b\b\b\b\b\b\b\b\b\b\b\b\b\b\b\b\b\b\b\b\b\b\b\b\b\b\b\b\b\b\b\b\b\b\b\b\b\b\b\b\b\b\b\b\b\b\b\b\b\b\b\b\b\b\b\b\b\b\b\b\b\b\b\b\b\b\b\b\b\b\r",
      "4800/6246 [======================>.......] - ETA: 0s - loss: 0.0055 - mean_absolute_error: 0.0240 - acc: 0.7527\b\b\b\b\b\b\b\b\b\b\b\b\b\b\b\b\b\b\b\b\b\b\b\b\b\b\b\b\b\b\b\b\b\b\b\b\b\b\b\b\b\b\b\b\b\b\b\b\b\b\b\b\b\b\b\b\b\b\b\b\b\b\b\b\b\b\b\b\b\b\b\b\b\b\b\b\b\b\b\b\b\b\b\b\b\b\b\b\b\b\b\b\b\b\b\b\b\b\b\b\b\b\b\b\b\b\b\b\b\b\b\r",
      "5280/6246 [========================>.....] - ETA: 0s - loss: 0.0055 - mean_absolute_error: 0.0238 - acc: 0.7536\b\b\b\b\b\b\b\b\b\b\b\b\b\b\b\b\b\b\b\b\b\b\b\b\b\b\b\b\b\b\b\b\b\b\b\b\b\b\b\b\b\b\b\b\b\b\b\b\b\b\b\b\b\b\b\b\b\b\b\b\b\b\b\b\b\b\b\b\b\b\b\b\b\b\b\b\b\b\b\b\b\b\b\b\b\b\b\b\b\b\b\b\b\b\b\b\b\b\b\b\b\b\b\b\b\b\b\b\b\b\b\r",
      "5760/6246 [==========================>...] - ETA: 0s - loss: 0.0055 - mean_absolute_error: 0.0237 - acc: 0.7528\b\b\b\b\b\b\b\b\b\b\b\b\b\b\b\b\b\b\b\b\b\b\b\b\b\b\b\b\b\b\b\b\b\b\b\b\b\b\b\b\b\b\b\b\b\b\b\b\b\b\b\b\b\b\b\b\b\b\b\b\b\b\b\b\b\b\b\b\b\b\b\b\b\b\b\b\b\b\b\b\b\b\b\b\b\b\b\b\b\b\b\b\b\b\b\b\b\b\b\b\b\b\b\b\b\b\b\b\b\b\b\r",
      "6120/6246 [============================>.] - ETA: 0s - loss: 0.0055 - mean_absolute_error: 0.0236 - acc: 0.7533\b\b\b\b\b\b\b\b\b\b\b\b\b\b\b\b\b\b\b\b\b\b\b\b\b\b\b\b\b\b\b\b\b\b\b\b\b\b\b\b\b\b\b\b\b\b\b\b\b\b\b\b\b\b\b\b\b\b\b\b\b\b\b\b\b\b\b\b\b\b\b\b\b\b\b\b\b\b\b\b\b\b\b\b\b\b\b\b\b\b\b\b\b\b\b\b\b\b\b\b\b\b\b\b\b\b\b\b\b\b\b\r",
      "6246/6246 [==============================] - 1s 149us/step - loss: 0.0055 - mean_absolute_error: 0.0236 - acc: 0.7531 - val_loss: 0.0066 - val_mean_absolute_error: 0.0281 - val_acc: 0.7066\n",
      "Epoch 998/1000\n",
      "\r",
      " 120/6246 [..............................] - ETA: 0s - loss: 0.0064 - mean_absolute_error: 0.0266 - acc: 0.7417\b\b\b\b\b\b\b\b\b\b\b\b\b\b\b\b\b\b\b\b\b\b\b\b\b\b\b\b\b\b\b\b\b\b\b\b\b\b\b\b\b\b\b\b\b\b\b\b\b\b\b\b\b\b\b\b\b\b\b\b\b\b\b\b\b\b\b\b\b\b\b\b\b\b\b\b\b\b\b\b\b\b\b\b\b\b\b\b\b\b\b\b\b\b\b\b\b\b\b\b\b\b\b\b\b\b\b\b\b\b\b\r",
      " 600/6246 [=>............................] - ETA: 0s - loss: 0.0060 - mean_absolute_error: 0.0267 - acc: 0.7317\b\b\b\b\b\b\b\b\b\b\b\b\b\b\b\b\b\b\b\b\b\b\b\b\b\b\b\b\b\b\b\b\b\b\b\b\b\b\b\b\b\b\b\b\b\b\b\b\b\b\b\b\b\b\b\b\b\b\b\b\b\b\b\b\b\b\b\b\b\b\b\b\b\b\b\b\b\b\b\b\b\b\b\b\b\b\b\b\b\b\b\b\b\b\b\b\b\b\b\b\b\b\b\b\b\b\b\b\b\b\b\r",
      " 960/6246 [===>..........................] - ETA: 0s - loss: 0.0057 - mean_absolute_error: 0.0259 - acc: 0.7292\b\b\b\b\b\b\b\b\b\b\b\b\b\b\b\b\b\b\b\b\b\b\b\b\b\b\b\b\b\b\b\b\b\b\b\b\b\b\b\b\b\b\b\b\b\b\b\b\b\b\b\b\b\b\b\b\b\b\b\b\b\b\b\b\b\b\b\b\b\b\b\b\b\b\b\b\b\b\b\b\b\b\b\b\b\b\b\b\b\b\b\b\b\b\b\b\b\b\b\b\b\b\b\b\b\b\b\b\b\b\b\r",
      "1320/6246 [=====>........................] - ETA: 0s - loss: 0.0056 - mean_absolute_error: 0.0252 - acc: 0.7394\b\b\b\b\b\b\b\b\b\b\b\b\b\b\b\b\b\b\b\b\b\b\b\b\b\b\b\b\b\b\b\b\b\b\b\b\b\b\b\b\b\b\b\b\b\b\b\b\b\b\b\b\b\b\b\b\b\b\b\b\b\b\b\b\b\b\b\b\b\b\b\b\b\b\b\b\b\b\b\b\b\b\b\b\b\b\b\b\b\b\b\b\b\b\b\b\b\b\b\b\b\b\b\b\b\b\b\b\b\b\b\r",
      "1800/6246 [=======>......................] - ETA: 0s - loss: 0.0053 - mean_absolute_error: 0.0245 - acc: 0.7367\b\b\b\b\b\b\b\b\b\b\b\b\b\b\b\b\b\b\b\b\b\b\b\b\b\b\b\b\b\b\b\b\b\b\b\b\b\b\b\b\b\b\b\b\b\b\b\b\b\b\b\b\b\b\b\b\b\b\b\b\b\b\b\b\b\b\b\b\b\b\b\b\b\b\b\b\b\b\b\b\b\b\b\b\b\b\b\b\b\b\b\b\b\b\b\b\b\b\b\b\b\b\b\b\b\b\b\b\b\b\b\r",
      "2280/6246 [=========>....................] - ETA: 0s - loss: 0.0053 - mean_absolute_error: 0.0244 - acc: 0.7412\b\b\b\b\b\b\b\b\b\b\b\b\b\b\b\b\b\b\b\b\b\b\b\b\b\b\b\b\b\b\b\b\b\b\b\b\b\b\b\b\b\b\b\b\b\b\b\b\b\b\b\b\b\b\b\b\b\b\b\b\b\b\b\b\b\b\b\b\b\b\b\b\b\b\b\b\b\b\b\b\b\b\b\b\b\b\b\b\b\b\b\b\b\b\b\b\b\b\b\b\b\b\b\b\b\b\b\b\b\b\b\r",
      "2760/6246 [============>.................] - ETA: 0s - loss: 0.0054 - mean_absolute_error: 0.0244 - acc: 0.7460\b\b\b\b\b\b\b\b\b\b\b\b\b\b\b\b\b\b\b\b\b\b\b\b\b\b\b\b\b\b\b\b\b\b\b\b\b\b\b\b\b\b\b\b\b\b\b\b\b\b\b\b\b\b\b\b\b\b\b\b\b\b\b\b\b\b\b\b\b\b\b\b\b\b\b\b\b\b\b\b\b\b\b\b\b\b\b\b\b\b\b\b\b\b\b\b\b\b\b\b\b\b\b\b\b\b\b\b\b\b\b\r",
      "3240/6246 [==============>...............] - ETA: 0s - loss: 0.0054 - mean_absolute_error: 0.0240 - acc: 0.7469\b\b\b\b\b\b\b\b\b\b\b\b\b\b\b\b\b\b\b\b\b\b\b\b\b\b\b\b\b\b\b\b\b\b\b\b\b\b\b\b\b\b\b\b\b\b\b\b\b\b\b\b\b\b\b\b\b\b\b\b\b\b\b\b\b\b\b\b\b\b\b\b\b\b\b\b\b\b\b\b\b\b\b\b\b\b\b\b\b\b\b\b\b\b\b\b\b\b\b\b\b\b\b\b\b\b\b\b\b\b\b\r",
      "3720/6246 [================>.............] - ETA: 0s - loss: 0.0055 - mean_absolute_error: 0.0239 - acc: 0.7476\b\b\b\b\b\b\b\b\b\b\b\b\b\b\b\b\b\b\b\b\b\b\b\b\b\b\b\b\b\b\b\b\b\b\b\b\b\b\b\b\b\b\b\b\b\b\b\b\b\b\b\b\b\b\b\b\b\b\b\b\b\b\b\b\b\b\b\b\b\b\b\b\b\b\b\b\b\b\b\b\b\b\b\b\b\b\b\b\b\b\b\b\b\b\b\b\b\b\b\b\b\b\b\b\b\b\b\b\b\b\b\r",
      "4200/6246 [===================>..........] - ETA: 0s - loss: 0.0055 - mean_absolute_error: 0.0240 - acc: 0.7431\b\b\b\b\b\b\b\b\b\b\b\b\b\b\b\b\b\b\b\b\b\b\b\b\b\b\b\b\b\b\b\b\b\b\b\b\b\b\b\b\b\b\b\b\b\b\b\b\b\b\b\b\b\b\b\b\b\b\b\b\b\b\b\b\b\b\b\b\b\b\b\b\b\b\b\b\b\b\b\b\b\b\b\b\b\b\b\b\b\b\b\b\b\b\b\b\b\b\b\b\b\b\b\b\b\b\b\b\b\b\b\r",
      "4680/6246 [=====================>........] - ETA: 0s - loss: 0.0055 - mean_absolute_error: 0.0239 - acc: 0.7404\b\b\b\b\b\b\b\b\b\b\b\b\b\b\b\b\b\b\b\b\b\b\b\b\b\b\b\b\b\b\b\b\b\b\b\b\b\b\b\b\b\b\b\b\b\b\b\b\b\b\b\b\b\b\b\b\b\b\b\b\b\b\b\b\b\b\b\b\b\b\b\b\b\b\b\b\b\b\b\b\b\b\b\b\b\b\b\b\b\b\b\b\b\b\b\b\b\b\b\b\b\b\b\b\b\b\b\b\b\b\b\r",
      "5160/6246 [=======================>......] - ETA: 0s - loss: 0.0055 - mean_absolute_error: 0.0240 - acc: 0.7401\b\b\b\b\b\b\b\b\b\b\b\b\b\b\b\b\b\b\b\b\b\b\b\b\b\b\b\b\b\b\b\b\b\b\b\b\b\b\b\b\b\b\b\b\b\b\b\b\b\b\b\b\b\b\b\b\b\b\b\b\b\b\b\b\b\b\b\b\b\b\b\b\b\b\b\b\b\b\b\b\b\b\b\b\b\b\b\b\b\b\b\b\b\b\b\b\b\b\b\b\b\b\b\b\b\b\b\b\b\b\b\r",
      "5640/6246 [==========================>...] - ETA: 0s - loss: 0.0055 - mean_absolute_error: 0.0239 - acc: 0.7404\b\b\b\b\b\b\b\b\b\b\b\b\b\b\b\b\b\b\b\b\b\b\b\b\b\b\b\b\b\b\b\b\b\b\b\b\b\b\b\b\b\b\b\b\b\b\b\b\b\b\b\b\b\b\b\b\b\b\b\b\b\b\b\b\b\b\b\b\b\b\b\b\b\b\b\b\b\b\b\b\b\b\b\b\b\b\b\b\b\b\b\b\b\b\b\b\b\b\b\b\b\b\b\b\b\b\b\b\b\b\b\r",
      "6120/6246 [============================>.] - ETA: 0s - loss: 0.0055 - mean_absolute_error: 0.0241 - acc: 0.7422\b\b\b\b\b\b\b\b\b\b\b\b\b\b\b\b\b\b\b\b\b\b\b\b\b\b\b\b\b\b\b\b\b\b\b\b\b\b\b\b\b\b\b\b\b\b\b\b\b\b\b\b\b\b\b\b\b\b\b\b\b\b\b\b\b\b\b\b\b\b\b\b\b\b\b\b\b\b\b\b\b\b\b\b\b\b\b\b\b\b\b\b\b\b\b\b\b\b\b\b\b\b\b\b\b\b\b\b\b\b\b\r",
      "6246/6246 [==============================] - 1s 158us/step - loss: 0.0055 - mean_absolute_error: 0.0241 - acc: 0.7426 - val_loss: 0.0064 - val_mean_absolute_error: 0.0300 - val_acc: 0.7835\n",
      "Epoch 999/1000\n",
      "\r",
      " 120/6246 [..............................] - ETA: 1s - loss: 0.0059 - mean_absolute_error: 0.0284 - acc: 0.8333\b\b\b\b\b\b\b\b\b\b\b\b\b\b\b\b\b\b\b\b\b\b\b\b\b\b\b\b\b\b\b\b\b\b\b\b\b\b\b\b\b\b\b\b\b\b\b\b\b\b\b\b\b\b\b\b\b\b\b\b\b\b\b\b\b\b\b\b\b\b\b\b\b\b\b\b\b\b\b\b\b\b\b\b\b\b\b\b\b\b\b\b\b\b\b\b\b\b\b\b\b\b\b\b\b\b\b\b\b\b\b\r",
      " 360/6246 [>.............................] - ETA: 1s - loss: 0.0053 - mean_absolute_error: 0.0266 - acc: 0.7639\b\b\b\b\b\b\b\b\b\b\b\b\b\b\b\b\b\b\b\b\b\b\b\b\b\b\b\b\b\b\b\b\b\b\b\b\b\b\b\b\b\b\b\b\b\b\b\b\b\b\b\b\b\b\b\b\b\b\b\b\b\b\b\b\b\b\b\b\b\b\b\b\b\b\b\b\b\b\b\b\b\b\b\b\b\b\b\b\b\b\b\b\b\b\b\b\b\b\b\b\b\b\b\b\b\b\b\b\b\b\b\r",
      " 720/6246 [==>...........................] - ETA: 1s - loss: 0.0054 - mean_absolute_error: 0.0253 - acc: 0.7667\b\b\b\b\b\b\b\b\b\b\b\b\b\b\b\b\b\b\b\b\b\b\b\b\b\b\b\b\b\b\b\b\b\b\b\b\b\b\b\b\b\b\b\b\b\b\b\b\b\b\b\b\b\b\b\b\b\b\b\b\b\b\b\b\b\b\b\b\b\b\b\b\b\b\b\b\b\b\b\b\b\b\b\b\b\b\b\b\b\b\b\b\b\b\b\b\b\b\b\b\b\b\b\b\b\b\b\b\b\b\b\r",
      " 960/6246 [===>..........................] - ETA: 1s - loss: 0.0057 - mean_absolute_error: 0.0251 - acc: 0.7458\b\b\b\b\b\b\b\b\b\b\b\b\b\b\b\b\b\b\b\b\b\b\b\b\b\b\b\b\b\b\b\b\b\b\b\b\b\b\b\b\b\b\b\b\b\b\b\b\b\b\b\b\b\b\b\b\b\b\b\b\b\b\b\b\b\b\b\b\b\b\b\b\b\b\b\b\b\b\b\b\b\b\b\b\b\b\b\b\b\b\b\b\b\b\b\b\b\b\b\b\b\b\b\b\b\b\b\b\b\b\b\r",
      "1440/6246 [=====>........................] - ETA: 0s - loss: 0.0058 - mean_absolute_error: 0.0253 - acc: 0.7431\b\b\b\b\b\b\b\b\b\b\b\b\b\b\b\b\b\b\b\b\b\b\b\b\b\b\b\b\b\b\b\b\b\b\b\b\b\b\b\b\b\b\b\b\b\b\b\b\b\b\b\b\b\b\b\b\b\b\b\b\b\b\b\b\b\b\b\b\b\b\b\b\b\b\b\b\b\b\b\b\b\b\b\b\b\b\b\b\b\b\b\b\b\b\b\b\b\b\b\b\b\b\b\b\b\b\b\b\b\b\b\r",
      "1920/6246 [========>.....................] - ETA: 0s - loss: 0.0056 - mean_absolute_error: 0.0247 - acc: 0.7432\b\b\b\b\b\b\b\b\b\b\b\b\b\b\b\b\b\b\b\b\b\b\b\b\b\b\b\b\b\b\b\b\b\b\b\b\b\b\b\b\b\b\b\b\b\b\b\b\b\b\b\b\b\b\b\b\b\b\b\b\b\b\b\b\b\b\b\b\b\b\b\b\b\b\b\b\b\b\b\b\b\b\b\b\b\b\b\b\b\b\b\b\b\b\b\b\b\b\b\b\b\b\b\b\b\b\b\b\b\b\b\r",
      "2280/6246 [=========>....................] - ETA: 0s - loss: 0.0055 - mean_absolute_error: 0.0247 - acc: 0.7469\b\b\b\b\b\b\b\b\b\b\b\b\b\b\b\b\b\b\b\b\b\b\b\b\b\b\b\b\b\b\b\b\b\b\b\b\b\b\b\b\b\b\b\b\b\b\b\b\b\b\b\b\b\b\b\b\b\b\b\b\b\b\b\b\b\b\b\b\b\b\b\b\b\b\b\b\b\b\b\b\b\b\b\b\b\b\b\b\b\b\b\b\b\b\b\b\b\b\b\b\b\b\b\b\b\b\b\b\b\b\b\r",
      "2760/6246 [============>.................] - ETA: 0s - loss: 0.0055 - mean_absolute_error: 0.0243 - acc: 0.7467\b\b\b\b\b\b\b\b\b\b\b\b\b\b\b\b\b\b\b\b\b\b\b\b\b\b\b\b\b\b\b\b\b\b\b\b\b\b\b\b\b\b\b\b\b\b\b\b\b\b\b\b\b\b\b\b\b\b\b\b\b\b\b\b\b\b\b\b\b\b\b\b\b\b\b\b\b\b\b\b\b\b\b\b\b\b\b\b\b\b\b\b\b\b\b\b\b\b\b\b\b\b\b\b\b\b\b\b\b\b\b\r",
      "3240/6246 [==============>...............] - ETA: 0s - loss: 0.0055 - mean_absolute_error: 0.0242 - acc: 0.7438\b\b\b\b\b\b\b\b\b\b\b\b\b\b\b\b\b\b\b\b\b\b\b\b\b\b\b\b\b\b\b\b\b\b\b\b\b\b\b\b\b\b\b\b\b\b\b\b\b\b\b\b\b\b\b\b\b\b\b\b\b\b\b\b\b\b\b\b\b\b\b\b\b\b\b\b\b\b\b\b\b\b\b\b\b\b\b\b\b\b\b\b\b\b\b\b\b\b\b\b\b\b\b\b\b\b\b\b\b\b\b\r",
      "3720/6246 [================>.............] - ETA: 0s - loss: 0.0055 - mean_absolute_error: 0.0239 - acc: 0.7465\b\b\b\b\b\b\b\b\b\b\b\b\b\b\b\b\b\b\b\b\b\b\b\b\b\b\b\b\b\b\b\b\b\b\b\b\b\b\b\b\b\b\b\b\b\b\b\b\b\b\b\b\b\b\b\b\b\b\b\b\b\b\b\b\b\b\b\b\b\b\b\b\b\b\b\b\b\b\b\b\b\b\b\b\b\b\b\b\b\b\b\b\b\b\b\b\b\b\b\b\b\b\b\b\b\b\b\b\b\b\b\r",
      "4200/6246 [===================>..........] - ETA: 0s - loss: 0.0055 - mean_absolute_error: 0.0238 - acc: 0.7488\b\b\b\b\b\b\b\b\b\b\b\b\b\b\b\b\b\b\b\b\b\b\b\b\b\b\b\b\b\b\b\b\b\b\b\b\b\b\b\b\b\b\b\b\b\b\b\b\b\b\b\b\b\b\b\b\b\b\b\b\b\b\b\b\b\b\b\b\b\b\b\b\b\b\b\b\b\b\b\b\b\b\b\b\b\b\b\b\b\b\b\b\b\b\b\b\b\b\b\b\b\b\b\b\b\b\b\b\b\b\b\r",
      "4680/6246 [=====================>........] - ETA: 0s - loss: 0.0054 - mean_absolute_error: 0.0236 - acc: 0.7472\b\b\b\b\b\b\b\b\b\b\b\b\b\b\b\b\b\b\b\b\b\b\b\b\b\b\b\b\b\b\b\b\b\b\b\b\b\b\b\b\b\b\b\b\b\b\b\b\b\b\b\b\b\b\b\b\b\b\b\b\b\b\b\b\b\b\b\b\b\b\b\b\b\b\b\b\b\b\b\b\b\b\b\b\b\b\b\b\b\b\b\b\b\b\b\b\b\b\b\b\b\b\b\b\b\b\b\b\b\b\b\r",
      "5160/6246 [=======================>......] - ETA: 0s - loss: 0.0054 - mean_absolute_error: 0.0234 - acc: 0.7469\b\b\b\b\b\b\b\b\b\b\b\b\b\b\b\b\b\b\b\b\b\b\b\b\b\b\b\b\b\b\b\b\b\b\b\b\b\b\b\b\b\b\b\b\b\b\b\b\b\b\b\b\b\b\b\b\b\b\b\b\b\b\b\b\b\b\b\b\b\b\b\b\b\b\b\b\b\b\b\b\b\b\b\b\b\b\b\b\b\b\b\b\b\b\b\b\b\b\b\b\b\b\b\b\b\b\b\b\b\b\b\r",
      "5640/6246 [==========================>...] - ETA: 0s - loss: 0.0055 - mean_absolute_error: 0.0234 - acc: 0.7461\b\b\b\b\b\b\b\b\b\b\b\b\b\b\b\b\b\b\b\b\b\b\b\b\b\b\b\b\b\b\b\b\b\b\b\b\b\b\b\b\b\b\b\b\b\b\b\b\b\b\b\b\b\b\b\b\b\b\b\b\b\b\b\b\b\b\b\b\b\b\b\b\b\b\b\b\b\b\b\b\b\b\b\b\b\b\b\b\b\b\b\b\b\b\b\b\b\b\b\b\b\b\b\b\b\b\b\b\b\b\b\r",
      "6120/6246 [============================>.] - ETA: 0s - loss: 0.0055 - mean_absolute_error: 0.0233 - acc: 0.7462\b\b\b\b\b\b\b\b\b\b\b\b\b\b\b\b\b\b\b\b\b\b\b\b\b\b\b\b\b\b\b\b\b\b\b\b\b\b\b\b\b\b\b\b\b\b\b\b\b\b\b\b\b\b\b\b\b\b\b\b\b\b\b\b\b\b\b\b\b\b\b\b\b\b\b\b\b\b\b\b\b\b\b\b\b\b\b\b\b\b\b\b\b\b\b\b\b\b\b\b\b\b\b\b\b\b\b\b\b\b\b\r",
      "6246/6246 [==============================] - 1s 157us/step - loss: 0.0055 - mean_absolute_error: 0.0233 - acc: 0.7456 - val_loss: 0.0062 - val_mean_absolute_error: 0.0266 - val_acc: 0.7399\n",
      "Epoch 1000/1000\n",
      "\r",
      " 120/6246 [..............................] - ETA: 0s - loss: 0.0065 - mean_absolute_error: 0.0265 - acc: 0.8250\b\b\b\b\b\b\b\b\b\b\b\b\b\b\b\b\b\b\b\b\b\b\b\b\b\b\b\b\b\b\b\b\b\b\b\b\b\b\b\b\b\b\b\b\b\b\b\b\b\b\b\b\b\b\b\b\b\b\b\b\b\b\b\b\b\b\b\b\b\b\b\b\b\b\b\b\b\b\b\b\b\b\b\b\b\b\b\b\b\b\b\b\b\b\b\b\b\b\b\b\b\b\b\b\b\b\b\b\b\b\b\r",
      " 600/6246 [=>............................] - ETA: 0s - loss: 0.0057 - mean_absolute_error: 0.0270 - acc: 0.7650\b\b\b\b\b\b\b\b\b\b\b\b\b\b\b\b\b\b\b\b\b\b\b\b\b\b\b\b\b\b\b\b\b\b\b\b\b\b\b\b\b\b\b\b\b\b\b\b\b\b\b\b\b\b\b\b\b\b\b\b\b\b\b\b\b\b\b\b\b\b\b\b\b\b\b\b\b\b\b\b\b\b\b\b\b\b\b\b\b\b\b\b\b\b\b\b\b\b\b\b\b\b\b\b\b\b\b\b\b\b\b\r",
      "1080/6246 [====>.........................] - ETA: 0s - loss: 0.0055 - mean_absolute_error: 0.0263 - acc: 0.7491\b\b\b\b\b\b\b\b\b\b\b\b\b\b\b\b\b\b\b\b\b\b\b\b\b\b\b\b\b\b\b\b\b\b\b\b\b\b\b\b\b\b\b\b\b\b\b\b\b\b\b\b\b\b\b\b\b\b\b\b\b\b\b\b\b\b\b\b\b\b\b\b\b\b\b\b\b\b\b\b\b\b\b\b\b\b\b\b\b\b\b\b\b\b\b\b\b\b\b\b\b\b\b\b\b\b\b\b\b\b\b\r",
      "1560/6246 [======>.......................] - ETA: 0s - loss: 0.0054 - mean_absolute_error: 0.0257 - acc: 0.7436\b\b\b\b\b\b\b\b\b\b\b\b\b\b\b\b\b\b\b\b\b\b\b\b\b\b\b\b\b\b\b\b\b\b\b\b\b\b\b\b\b\b\b\b\b\b\b\b\b\b\b\b\b\b\b\b\b\b\b\b\b\b\b\b\b\b\b\b\b\b\b\b\b\b\b\b\b\b\b\b\b\b\b\b\b\b\b\b\b\b\b\b\b\b\b\b\b\b\b\b\b\b\b\b\b\b\b\b\b\b\b\r",
      "1920/6246 [========>.....................] - ETA: 0s - loss: 0.0055 - mean_absolute_error: 0.0253 - acc: 0.7500\b\b\b\b\b\b\b\b\b\b\b\b\b\b\b\b\b\b\b\b\b\b\b\b\b\b\b\b\b\b\b\b\b\b\b\b\b\b\b\b\b\b\b\b\b\b\b\b\b\b\b\b\b\b\b\b\b\b\b\b\b\b\b\b\b\b\b\b\b\b\b\b\b\b\b\b\b\b\b\b\b\b\b\b\b\b\b\b\b\b\b\b\b\b\b\b\b\b\b\b\b\b\b\b\b\b\b\b\b\b\b\r",
      "2400/6246 [==========>...................] - ETA: 0s - loss: 0.0054 - mean_absolute_error: 0.0248 - acc: 0.7546\b\b\b\b\b\b\b\b\b\b\b\b\b\b\b\b\b\b\b\b\b\b\b\b\b\b\b\b\b\b\b\b\b\b\b\b\b\b\b\b\b\b\b\b\b\b\b\b\b\b\b\b\b\b\b\b\b\b\b\b\b\b\b\b\b\b\b\b\b\b\b\b\b\b\b\b\b\b\b\b\b\b\b\b\b\b\b\b\b\b\b\b\b\b\b\b\b\b\b\b\b\b\b\b\b\b\b\b\b\b\b\r",
      "2880/6246 [============>.................] - ETA: 0s - loss: 0.0054 - mean_absolute_error: 0.0245 - acc: 0.7552\b\b\b\b\b\b\b\b\b\b\b\b\b\b\b\b\b\b\b\b\b\b\b\b\b\b\b\b\b\b\b\b\b\b\b\b\b\b\b\b\b\b\b\b\b\b\b\b\b\b\b\b\b\b\b\b\b\b\b\b\b\b\b\b\b\b\b\b\b\b\b\b\b\b\b\b\b\b\b\b\b\b\b\b\b\b\b\b\b\b\b\b\b\b\b\b\b\b\b\b\b\b\b\b\b\b\b\b\b\b\b\r",
      "3360/6246 [===============>..............] - ETA: 0s - loss: 0.0054 - mean_absolute_error: 0.0243 - acc: 0.7497\b\b\b\b\b\b\b\b\b\b\b\b\b\b\b\b\b\b\b\b\b\b\b\b\b\b\b\b\b\b\b\b\b\b\b\b\b\b\b\b\b\b\b\b\b\b\b\b\b\b\b\b\b\b\b\b\b\b\b\b\b\b\b\b\b\b\b\b\b\b\b\b\b\b\b\b\b\b\b\b\b\b\b\b\b\b\b\b\b\b\b\b\b\b\b\b\b\b\b\b\b\b\b\b\b\b\b\b\b\b\b\r",
      "3840/6246 [=================>............] - ETA: 0s - loss: 0.0054 - mean_absolute_error: 0.0241 - acc: 0.7430\b\b\b\b\b\b\b\b\b\b\b\b\b\b\b\b\b\b\b\b\b\b\b\b\b\b\b\b\b\b\b\b\b\b\b\b\b\b\b\b\b\b\b\b\b\b\b\b\b\b\b\b\b\b\b\b\b\b\b\b\b\b\b\b\b\b\b\b\b\b\b\b\b\b\b\b\b\b\b\b\b\b\b\b\b\b\b\b\b\b\b\b\b\b\b\b\b\b\b\b\b\b\b\b\b\b\b\b\b\b\b\r",
      "4320/6246 [===================>..........] - ETA: 0s - loss: 0.0054 - mean_absolute_error: 0.0238 - acc: 0.7451\b\b\b\b\b\b\b\b\b\b\b\b\b\b\b\b\b\b\b\b\b\b\b\b\b\b\b\b\b\b\b\b\b\b\b\b\b\b\b\b\b\b\b\b\b\b\b\b\b\b\b\b\b\b\b\b\b\b\b\b\b\b\b\b\b\b\b\b\b\b\b\b\b\b\b\b\b\b\b\b\b\b\b\b\b\b\b\b\b\b\b\b\b\b\b\b\b\b\b\b\b\b\b\b\b\b\b\b\b\b\b\r",
      "4440/6246 [====================>.........] - ETA: 0s - loss: 0.0054 - mean_absolute_error: 0.0238 - acc: 0.7448\b\b\b\b\b\b\b\b\b\b\b\b\b\b\b\b\b\b\b\b\b\b\b\b\b\b\b\b\b\b\b\b\b\b\b\b\b\b\b\b\b\b\b\b\b\b\b\b\b\b\b\b\b\b\b\b\b\b\b\b\b\b\b\b\b\b\b\b\b\b\b\b\b\b\b\b\b\b\b\b\b\b\b\b\b\b\b\b\b\b\b\b\b\b\b\b\b\b\b\b\b\b\b\b\b\b\b\b\b\b\b\r",
      "4560/6246 [====================>.........] - ETA: 0s - loss: 0.0055 - mean_absolute_error: 0.0238 - acc: 0.7467\b\b\b\b\b\b\b\b\b\b\b\b\b\b\b\b\b\b\b\b\b\b\b\b\b\b\b\b\b\b\b\b\b\b\b\b\b\b\b\b\b\b\b\b\b\b\b\b\b\b\b\b\b\b\b\b\b\b\b\b\b\b\b\b\b\b\b\b\b\b\b\b\b\b\b\b\b\b\b\b\b\b\b\b\b\b\b\b\b\b\b\b\b\b\b\b\b\b\b\b\b\b\b\b\b\b\b\b\b\b\b\r",
      "4800/6246 [======================>.......] - ETA: 0s - loss: 0.0055 - mean_absolute_error: 0.0238 - acc: 0.7454\b\b\b\b\b\b\b\b\b\b\b\b\b\b\b\b\b\b\b\b\b\b\b\b\b\b\b\b\b\b\b\b\b\b\b\b\b\b\b\b\b\b\b\b\b\b\b\b\b\b\b\b\b\b\b\b\b\b\b\b\b\b\b\b\b\b\b\b\b\b\b\b\b\b\b\b\b\b\b\b\b\b\b\b\b\b\b\b\b\b\b\b\b\b\b\b\b\b\b\b\b\b\b\b\b\b\b\b\b\b\b\r",
      "5040/6246 [=======================>......] - ETA: 0s - loss: 0.0055 - mean_absolute_error: 0.0238 - acc: 0.7431\b\b\b\b\b\b\b\b\b\b\b\b\b\b\b\b\b\b\b\b\b\b\b\b\b\b\b\b\b\b\b\b\b\b\b\b\b\b\b\b\b\b\b\b\b\b\b\b\b\b\b\b\b\b\b\b\b\b\b\b\b\b\b\b\b\b\b\b\b\b\b\b\b\b\b\b\b\b\b\b\b\b\b\b\b\b\b\b\b\b\b\b\b\b\b\b\b\b\b\b\b\b\b\b\b\b\b\b\b\b\b\r",
      "5400/6246 [========================>.....] - ETA: 0s - loss: 0.0055 - mean_absolute_error: 0.0238 - acc: 0.7441\b\b\b\b\b\b\b\b\b\b\b\b\b\b\b\b\b\b\b\b\b\b\b\b\b\b\b\b\b\b\b\b\b\b\b\b\b\b\b\b\b\b\b\b\b\b\b\b\b\b\b\b\b\b\b\b\b\b\b\b\b\b\b\b\b\b\b\b\b\b\b\b\b\b\b\b\b\b\b\b\b\b\b\b\b\b\b\b\b\b\b\b\b\b\b\b\b\b\b\b\b\b\b\b\b\b\b\b\b\b\b\r",
      "5760/6246 [==========================>...] - ETA: 0s - loss: 0.0055 - mean_absolute_error: 0.0237 - acc: 0.7436\b\b\b\b\b\b\b\b\b\b\b\b\b\b\b\b\b\b\b\b\b\b\b\b\b\b\b\b\b\b\b\b\b\b\b\b\b\b\b\b\b\b\b\b\b\b\b\b\b\b\b\b\b\b\b\b\b\b\b\b\b\b\b\b\b\b\b\b\b\b\b\b\b\b\b\b\b\b\b\b\b\b\b\b\b\b\b\b\b\b\b\b\b\b\b\b\b\b\b\b\b\b\b\b\b\b\b\b\b\b\b\r",
      "6120/6246 [============================>.] - ETA: 0s - loss: 0.0055 - mean_absolute_error: 0.0237 - acc: 0.7423\b\b\b\b\b\b\b\b\b\b\b\b\b\b\b\b\b\b\b\b\b\b\b\b\b\b\b\b\b\b\b\b\b\b\b\b\b\b\b\b\b\b\b\b\b\b\b\b\b\b\b\b\b\b\b\b\b\b\b\b\b\b\b\b\b\b\b\b\b\b\b\b\b\b\b\b\b\b\b\b\b\b\b\b\b\b\b\b\b\b\b\b\b\b\b\b\b\b\b\b\b\b\b\b\b\b\b\b\b\b\b\r",
      "6246/6246 [==============================] - 1s 198us/step - loss: 0.0055 - mean_absolute_error: 0.0237 - acc: 0.7426 - val_loss: 0.0065 - val_mean_absolute_error: 0.0287 - val_acc: 0.7258\n",
      "\n"
     ]
    }
   ],
   "source": [
    "print(file_out[-20000:])"
   ]
  },
  {
   "cell_type": "code",
   "execution_count": 891,
   "metadata": {},
   "outputs": [
    {
     "data": {
      "image/png": "[encoded data removed]",
      "text/plain": [
       "<Figure size 432x288 with 1 Axes>"
      ]
     },
     "metadata": {},
     "output_type": "display_data"
    }
   ],
   "source": [
    "# plot history\n",
    "pyplot.plot(history.history['loss'], label='train')\n",
    "pyplot.plot(history.history['val_loss'], label='test')\n",
    "pyplot.legend()\n",
    "pyplot.show()"
   ]
  },
  {
   "cell_type": "code",
   "execution_count": 892,
   "metadata": {},
   "outputs": [
    {
     "data": {
      "text/plain": [
       "(1561, 11)"
      ]
     },
     "execution_count": 892,
     "metadata": {},
     "output_type": "execute_result"
    }
   ],
   "source": [
    "yhat = model.predict(test_X)\n",
    "yhat.shape"
   ]
  },
  {
   "cell_type": "code",
   "execution_count": 893,
   "metadata": {},
   "outputs": [
    {
     "data": {
      "text/plain": [
       "(1561, 15)"
      ]
     },
     "execution_count": 893,
     "metadata": {},
     "output_type": "execute_result"
    }
   ],
   "source": [
    "test_X = test_X.reshape(test_X.shape[0], test_X.shape[2])\n",
    "test_X.shape"
   ]
  },
  {
   "cell_type": "code",
   "execution_count": 894,
   "metadata": {},
   "outputs": [],
   "source": [
    "inv_yhat = concatenate((scaler_x.inverse_transform(test_X), scaler_y.inverse_transform(yhat)),axis=1)\n",
    "inv_y = concatenate((scaler_x.inverse_transform(test_X),scaler_y.inverse_transform(test_y)), axis=1)"
   ]
  },
  {
   "cell_type": "code",
   "execution_count": 895,
   "metadata": {},
   "outputs": [
    {
     "name": "stdout",
     "output_type": "stream",
     "text": [
      "Test RMSE (Prediction): 826.716\n"
     ]
    }
   ],
   "source": [
    "# calculate RMSE\n",
    "rmse = sqrt(mean_squared_error(inv_y[0], inv_yhat[0]))\n",
    "print('Test RMSE (Prediction): %.3f' % rmse)"
   ]
  },
  {
   "cell_type": "code",
   "execution_count": 896,
   "metadata": {},
   "outputs": [],
   "source": [
    "indexer=21\n",
    "transformed_id=[''.join(list(map(str,list(map(int,list(scaler_x.inverse_transform(test_X)[indexer][:-6]))))))]\n",
    "cluster=[scaler_x.inverse_transform(test_X)[indexer][-6]]\n",
    "pin=[scaler_x.inverse_transform(test_X)[indexer][-5]]\n",
    "age=[scaler_x.inverse_transform(test_X)[indexer][-4]]\n",
    "prediction=list(scaler_y.inverse_transform(yhat)[:, :][indexer])"
   ]
  },
  {
   "cell_type": "code",
   "execution_count": 897,
   "metadata": {},
   "outputs": [
    {
     "data": {
      "text/plain": [
       "['000225141']"
      ]
     },
     "execution_count": 897,
     "metadata": {},
     "output_type": "execute_result"
    }
   ],
   "source": [
    "transformed_id"
   ]
  },
  {
   "cell_type": "code",
   "execution_count": 898,
   "metadata": {},
   "outputs": [
    {
     "data": {
      "text/html": [
       "<div>\n",
       "<style scoped>\n",
       "    .dataframe tbody tr th:only-of-type {\n",
       "        vertical-align: middle;\n",
       "    }\n",
       "\n",
       "    .dataframe tbody tr th {\n",
       "        vertical-align: top;\n",
       "    }\n",
       "\n",
       "    .dataframe thead th {\n",
       "        text-align: right;\n",
       "    }\n",
       "</style>\n",
       "<table border=\"1\" class=\"dataframe\">\n",
       "  <thead>\n",
       "    <tr style=\"text-align: right;\">\n",
       "      <th></th>\n",
       "      <th>0</th>\n",
       "      <th>1</th>\n",
       "      <th>2</th>\n",
       "      <th>3</th>\n",
       "      <th>4</th>\n",
       "      <th>5</th>\n",
       "      <th>6</th>\n",
       "      <th>7</th>\n",
       "      <th>8</th>\n",
       "      <th>9</th>\n",
       "      <th>10</th>\n",
       "      <th>11</th>\n",
       "      <th>12</th>\n",
       "      <th>13</th>\n",
       "      <th>14</th>\n",
       "    </tr>\n",
       "  </thead>\n",
       "  <tbody>\n",
       "    <tr>\n",
       "      <th>0</th>\n",
       "      <td>000225141</td>\n",
       "      <td>8</td>\n",
       "      <td>4</td>\n",
       "      <td>4</td>\n",
       "      <td>0.000143856</td>\n",
       "      <td>-0.00469899</td>\n",
       "      <td>-0.120601</td>\n",
       "      <td>1.97223</td>\n",
       "      <td>1.90262</td>\n",
       "      <td>5.06242</td>\n",
       "      <td>1.25679</td>\n",
       "      <td>3.93691</td>\n",
       "      <td>1.25305</td>\n",
       "      <td>-42.6441</td>\n",
       "      <td>1405.36</td>\n",
       "    </tr>\n",
       "  </tbody>\n",
       "</table>\n",
       "</div>"
      ],
      "text/plain": [
       "          0  1  2  3            4           5         6        7        8   \\\n",
       "0  000225141  8  4  4  0.000143856 -0.00469899 -0.120601  1.97223  1.90262   \n",
       "\n",
       "        9        10       11       12       13       14  \n",
       "0  5.06242  1.25679  3.93691  1.25305 -42.6441  1405.36  "
      ]
     },
     "execution_count": 898,
     "metadata": {},
     "output_type": "execute_result"
    }
   ],
   "source": [
    "output=pd.DataFrame((transformed_id+cluster+pin+age+prediction)).T.copy()\n",
    "#output.columns=['ID','Cluster','Pin_code','Age_group','Recency','Freqency','Monetary']\n",
    "output"
   ]
  },
  {
   "cell_type": "code",
   "execution_count": null,
   "metadata": {},
   "outputs": [],
   "source": []
  },
  {
   "cell_type": "code",
   "execution_count": null,
   "metadata": {},
   "outputs": [],
   "source": []
  },
  {
   "cell_type": "code",
   "execution_count": null,
   "metadata": {},
   "outputs": [],
   "source": []
  }
 ],
 "metadata": {
  "kernelspec": {
   "display_name": "Python 3",
   "language": "python",
   "name": "python3"
  },
  "language_info": {
   "codemirror_mode": {
    "name": "ipython",
    "version": 3
   },
   "file_extension": ".py",
   "mimetype": "text/x-python",
   "name": "python",
   "nbconvert_exporter": "python",
   "pygments_lexer": "ipython3",
   "version": "3.6.5"
  }
 },
 "nbformat": 4,
 "nbformat_minor": 2
}
